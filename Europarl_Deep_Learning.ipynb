{
  "nbformat": 4,
  "nbformat_minor": 0,
  "metadata": {
    "colab": {
      "name": "Europarl_Colab.ipynb",
      "provenance": [],
      "collapsed_sections": [
        "S9tQFPLhjG0z",
        "ITDF2a-H8fv9",
        "3lSy2RUNQkfa",
        "7NhCCGwC8QF0",
        "qSSRVMA48392",
        "5wO5K5_IjL0Y",
        "o8b_rZqGBixW"
      ]
    },
    "kernelspec": {
      "name": "python3",
      "display_name": "Python 3"
    },
    "accelerator": "GPU"
  },
  "cells": [
    {
      "cell_type": "code",
      "metadata": {
        "id": "cK-er9t5cpMN"
      },
      "source": [
        "%%capture\n",
        "!pip install path\n",
        "!pip install torchsummaryX"
      ],
      "execution_count": null,
      "outputs": []
    },
    {
      "cell_type": "markdown",
      "metadata": {
        "id": "S9tQFPLhjG0z"
      },
      "source": [
        "# Utils"
      ]
    },
    {
      "cell_type": "code",
      "metadata": {
        "id": "LyqPsXF7NtL2",
        "colab": {
          "base_uri": "https://localhost:8080/"
        },
        "outputId": "cade5612-5891-4827-d18a-09c6aed90f4b"
      },
      "source": [
        "# memory footprint support libraries/code\n",
        "!ln -sf /opt/bin/nvidia-smi /usr/bin/nvidia-smi\n",
        "!pip install gputil\n",
        "\n",
        "import psutil\n",
        "import humanize\n",
        "import os\n",
        "import GPUtil as GPU\n",
        "GPUs = GPU.getGPUs()\n",
        "\n",
        "# only one GPU on Colab and isn’t guaranteed\n",
        "gpu = GPUs[0]\n",
        "def printm():\n",
        "  process = psutil.Process(os.getpid())\n",
        "  print(\"Gen RAM Free: \" + humanize.naturalsize( psutil.virtual_memory().available ), \" | Proc size: \" + humanize.naturalsize( process.memory_info().rss))\n",
        "  print(\"GPU RAM Free: {0:.0f}MB | Used: {1:.0f}MB | Util {2:3.0f}% | Total {3:.0f}MB\".format(gpu.memoryFree, gpu.memoryUsed, gpu.memoryUtil*100, gpu.memoryTotal))\n",
        "\n",
        "printm()"
      ],
      "execution_count": null,
      "outputs": [
        {
          "output_type": "stream",
          "text": [
            "Gen RAM Free: 7.2 GB  | Proc size: 8.1 GB\n",
            "GPU RAM Free: 1932MB | Used: 13147MB | Util  87% | Total 15079MB\n"
          ],
          "name": "stdout"
        }
      ]
    },
    {
      "cell_type": "code",
      "metadata": {
        "id": "FbhV750nawTp"
      },
      "source": [
        "torch.cuda.empty_cache()"
      ],
      "execution_count": null,
      "outputs": []
    },
    {
      "cell_type": "code",
      "metadata": {
        "id": "Gr6swXhhclrw",
        "colab": {
          "base_uri": "https://localhost:8080/"
        },
        "outputId": "fdd630ca-fa3f-480e-d8ed-a556f053f584"
      },
      "source": [
        "printm()"
      ],
      "execution_count": null,
      "outputs": [
        {
          "output_type": "stream",
          "text": [
            "Gen RAM Free: 7.2 GB  | Proc size: 8.1 GB\n",
            "GPU RAM Free: 132MB | Used: 14947MB | Util  99% | Total 15079MB\n"
          ],
          "name": "stdout"
        }
      ]
    },
    {
      "cell_type": "code",
      "metadata": {
        "id": "USVwFTFcdXtj"
      },
      "source": [
        "import sys\n",
        "from types import ModuleType, FunctionType\n",
        "from gc import get_referents\n",
        "\n",
        "# Custom objects know their class.\n",
        "# Function objects seem to know way too much, including modules.\n",
        "# Exclude modules as well.\n",
        "BLACKLIST = type, ModuleType, FunctionType\n",
        "\n",
        "def getsize(obj):\n",
        "    \"\"\"sum size of object & members.\"\"\"\n",
        "    if isinstance(obj, BLACKLIST):\n",
        "        raise TypeError('getsize() does not take argument of type: '+ str(type(obj)))\n",
        "    seen_ids = set()\n",
        "    size = 0\n",
        "    objects = [obj]\n",
        "    while objects:\n",
        "        need_referents = []\n",
        "        for obj in objects:\n",
        "            if not isinstance(obj, BLACKLIST) and id(obj) not in seen_ids:\n",
        "                seen_ids.add(id(obj))\n",
        "                size += sys.getsizeof(obj)\n",
        "                need_referents.append(obj)\n",
        "        objects = get_referents(*need_referents)\n",
        "    return size"
      ],
      "execution_count": null,
      "outputs": []
    },
    {
      "cell_type": "markdown",
      "metadata": {
        "id": "ITDF2a-H8fv9"
      },
      "source": [
        "# Download Dataset"
      ]
    },
    {
      "cell_type": "code",
      "metadata": {
        "id": "U7gvIm9tQfAQ",
        "colab": {
          "base_uri": "https://localhost:8080/"
        },
        "outputId": "e621db73-4680-4493-93e4-ff540dd1d646"
      },
      "source": [
        "!wget http://www.statmt.org/europarl/v7/europarl.tgz"
      ],
      "execution_count": null,
      "outputs": [
        {
          "output_type": "stream",
          "text": [
            "--2020-10-28 22:12:36--  http://www.statmt.org/europarl/v7/europarl.tgz\n",
            "Resolving www.statmt.org (www.statmt.org)... 129.215.197.184\n",
            "Connecting to www.statmt.org (www.statmt.org)|129.215.197.184|:80... connected.\n",
            "HTTP request sent, awaiting response... 200 OK\n",
            "Length: 1570461714 (1.5G) [application/x-gzip]\n",
            "Saving to: ‘europarl.tgz’\n",
            "\n",
            "europarl.tgz        100%[===================>]   1.46G   214KB/s    in 41m 48s \n",
            "\n",
            "2020-10-28 22:54:25 (611 KB/s) - ‘europarl.tgz’ saved [1570461714/1570461714]\n",
            "\n"
          ],
          "name": "stdout"
        }
      ]
    },
    {
      "cell_type": "code",
      "metadata": {
        "id": "A93wHnivQfDQ"
      },
      "source": [
        "%%capture\n",
        "!tar -xvf  '/content/europarl.tgz' -C '/content/tmp'"
      ],
      "execution_count": null,
      "outputs": []
    },
    {
      "cell_type": "markdown",
      "metadata": {
        "id": "mniIb-nQ8aW2"
      },
      "source": [
        ""
      ]
    },
    {
      "cell_type": "markdown",
      "metadata": {
        "id": "3lSy2RUNQkfa"
      },
      "source": [
        "# Create and Process Text Data"
      ]
    },
    {
      "cell_type": "code",
      "metadata": {
        "id": "pDFXLLVJXg_G"
      },
      "source": [
        "max_words = 2000000\n",
        "max_lenght = 20 # sentence length between 2 and 20 \n",
        "name = \"data\"\n",
        "n_jobs = 3\n",
        "p = 0.7\n",
        "\n",
        "# answer = input(\"do you need to create new dataset files (y/n)?: \")\n",
        "# answer = answer.lower()\n",
        "cfiles = False"
      ],
      "execution_count": null,
      "outputs": []
    },
    {
      "cell_type": "code",
      "metadata": {
        "id": "dCKs6YNMS6Vq",
        "colab": {
          "base_uri": "https://localhost:8080/"
        },
        "outputId": "4a8e698a-276b-4b69-b8d6-a66411173765"
      },
      "source": [
        "%%time\n",
        "df = main(labels, max_words, max_lenght, name, n_jobs, cfiles)\n",
        "l = len(df)\n",
        "idxs = np.random.permutation(l)\n",
        "train_ds = df.loc[idxs[:int(p*l)]]\n",
        "valid_ds = df.loc[idxs[int(p*l)+1:]]\n",
        "train_ds.reset_index(drop=True, inplace=True)\n",
        "valid_ds.reset_index(drop=True, inplace=True)\n",
        "save_dataframe(\"train_ds\", train_ds)\n",
        "save_dataframe(\"valid_ds\", valid_ds)"
      ],
      "execution_count": null,
      "outputs": [
        {
          "output_type": "stream",
          "text": [
            "CPU times: user 15.3 s, sys: 5.35 s, total: 20.7 s\n",
            "Wall time: 29min 36s\n"
          ],
          "name": "stdout"
        }
      ]
    },
    {
      "cell_type": "code",
      "metadata": {
        "id": "nFoW4-T0S8E0",
        "colab": {
          "base_uri": "https://localhost:8080/"
        },
        "outputId": "f135f950-5b40-4370-ce4b-6dddf0277002"
      },
      "source": [
        "train_ds.shape, valid_ds.shape"
      ],
      "execution_count": null,
      "outputs": [
        {
          "output_type": "execute_result",
          "data": {
            "text/plain": [
              "((2718013, 2), (1164863, 2))"
            ]
          },
          "metadata": {
            "tags": []
          },
          "execution_count": 30
        }
      ]
    },
    {
      "cell_type": "markdown",
      "metadata": {
        "id": "7NhCCGwC8QF0"
      },
      "source": [
        "# Move Dataset To Google Drive"
      ]
    },
    {
      "cell_type": "code",
      "metadata": {
        "id": "iC1CBNbC5XDy",
        "colab": {
          "base_uri": "https://localhost:8080/"
        },
        "outputId": "96ea7963-802f-4dbb-8750-e950402c97b0"
      },
      "source": [
        "from google.colab import drive\n",
        "drive.mount('/content/drive')"
      ],
      "execution_count": null,
      "outputs": [
        {
          "output_type": "stream",
          "text": [
            "Mounted at /content/drive\n"
          ],
          "name": "stdout"
        }
      ]
    },
    {
      "cell_type": "code",
      "metadata": {
        "id": "FoOTEJcF5hll"
      },
      "source": [
        "# !cp -R \"/content/europarl\" \"/content/drive/My Drive/\""
      ],
      "execution_count": null,
      "outputs": []
    },
    {
      "cell_type": "markdown",
      "metadata": {
        "id": "qSSRVMA48392"
      },
      "source": [
        "# Train AWD_LSTM Model Using Custom Tokenization"
      ]
    },
    {
      "cell_type": "code",
      "metadata": {
        "id": "Aq-P7D9FivXi",
        "colab": {
          "base_uri": "https://localhost:8080/"
        },
        "outputId": "08174e03-44f8-4c0c-8fb2-f527074752e2"
      },
      "source": [
        "from google.colab import drive\n",
        "drive.mount('/content/drive')"
      ],
      "execution_count": null,
      "outputs": [
        {
          "output_type": "stream",
          "text": [
            "Mounted at /content/drive\n"
          ],
          "name": "stdout"
        }
      ]
    },
    {
      "cell_type": "code",
      "metadata": {
        "id": "wZj2zngRSxs0"
      },
      "source": [
        "! cp \"/content/drive/My Drive/europarl/tokenizer.pkl\" /content/tokenizer.pkl\n",
        "! cp  \"/content/drive/My Drive/europarl/text.py\" /content/text.py\n",
        "! cp  \"/content/drive/My Drive/europarl/tokenizer.py\" /content/tokenizer.py\n",
        "! cp  \"/content/drive/My Drive/europarl/vocab.py\" /content/vocab.py"
      ],
      "execution_count": null,
      "outputs": []
    },
    {
      "cell_type": "code",
      "metadata": {
        "id": "KiJ-CQyKMQCe"
      },
      "source": [
        "from tokenizer import SpecialTokenizer, _default_tokenizer\n",
        "from fastai.text.models.transformer import init_transformer\n",
        "from fastai import *\n",
        "from fastai.text import *\n",
        "from fastai.callbacks import *\n",
        "import pandas as pd\n",
        "import numpy as np\n",
        "import gc"
      ],
      "execution_count": null,
      "outputs": []
    },
    {
      "cell_type": "code",
      "metadata": {
        "id": "cJCv8HstZpfy"
      },
      "source": [
        "labels=['bg','cs','da','de','el','en','es','et','fi','fr',\n",
        "        'hu','it','lt','lv','nl','pl','pt','ro','sk','sl','sv']"
      ],
      "execution_count": null,
      "outputs": []
    },
    {
      "cell_type": "code",
      "metadata": {
        "id": "_edih0A_J7iC",
        "colab": {
          "base_uri": "https://localhost:8080/"
        },
        "outputId": "560b39c0-4abf-4aad-bbec-9687711f1edd"
      },
      "source": [
        "train_df = pd.read_pickle(\"/content/drive/My Drive/europarl/train_ds.pkl\")\n",
        "valid_df = pd.read_pickle(\"/content/drive/My Drive/europarl/valid_ds.pkl\")\n",
        "train_df.shape, valid_df.shape"
      ],
      "execution_count": null,
      "outputs": [
        {
          "output_type": "execute_result",
          "data": {
            "text/plain": [
              "((2718013, 2), (1164863, 2))"
            ]
          },
          "metadata": {
            "tags": []
          },
          "execution_count": 3
        }
      ]
    },
    {
      "cell_type": "code",
      "metadata": {
        "id": "8dwojsXL5ZNH"
      },
      "source": [
        "np.random.seed(1)\n",
        "t_choices = np.random.choice(len(train_df), int(210000*0.7))\n",
        "v_choices = np.random.choice(len(valid_df), int(210000*0.3))"
      ],
      "execution_count": null,
      "outputs": []
    },
    {
      "cell_type": "code",
      "metadata": {
        "id": "Q0JsPITwA6DP"
      },
      "source": [
        "def sup_two(row):\n",
        "    if len(row['text'].split()) == 1: return 0\n",
        "    else: return row['text']"
      ],
      "execution_count": null,
      "outputs": []
    },
    {
      "cell_type": "code",
      "metadata": {
        "id": "FsTe874YWX_d",
        "colab": {
          "base_uri": "https://localhost:8080/"
        },
        "outputId": "dd022afd-3001-4220-9ea3-6e204b50b2d4"
      },
      "source": [
        "# taking sample\n",
        "train_df = train_df.loc[t_choices]\n",
        "valid_df = valid_df.loc[v_choices]\n",
        "\n",
        "train_df['text'] = train_df.apply(sup_two, axis=1)\n",
        "valid_df['text'] = valid_df.apply(sup_two, axis=1)\n",
        "\n",
        "train_df = train_df[train_df.text != False]\n",
        "valid_df = valid_df[valid_df.text != False]\n",
        "\n",
        "train_df.reset_index(drop=True, inplace=True)\n",
        "valid_df.reset_index(drop=True, inplace=True)\n",
        "\n",
        "# tokens == 0\n",
        "# train_df.drop([37628, 44216, 107158, 135261], inplace=True)\n",
        "# valid_df.drop([5476, 22197, 40610, 41007], inplace=True)\n",
        "train_df.shape, valid_df.shape"
      ],
      "execution_count": null,
      "outputs": [
        {
          "output_type": "execute_result",
          "data": {
            "text/plain": [
              "((139773, 2), (59909, 2))"
            ]
          },
          "metadata": {
            "tags": []
          },
          "execution_count": 6
        }
      ]
    },
    {
      "cell_type": "code",
      "metadata": {
        "id": "6JMmVxqqD7Pg",
        "colab": {
          "base_uri": "https://localhost:8080/"
        },
        "outputId": "f02f6781-abd3-4ddd-8c53-1420b3f9e684"
      },
      "source": [
        "max_len = max([len(x.split()) for x in train_df.text])\n",
        "min_len = min([len(x.split()) for x in train_df.text])\n",
        "max_len, min_len"
      ],
      "execution_count": null,
      "outputs": [
        {
          "output_type": "execute_result",
          "data": {
            "text/plain": [
              "(23, 2)"
            ]
          },
          "metadata": {
            "tags": []
          },
          "execution_count": 7
        }
      ]
    },
    {
      "cell_type": "code",
      "metadata": {
        "id": "pmRgjZidKbN_"
      },
      "source": [
        "t = SpecialTokenizer.from_pickle(\"/content/tokenizer.pkl\")"
      ],
      "execution_count": null,
      "outputs": []
    },
    {
      "cell_type": "code",
      "metadata": {
        "id": "mA84sQxMK0uo"
      },
      "source": [
        "def get_tokens(t):\n",
        "    return list(t.vocab.get_vocab().keys())\n",
        "v = Vocab(get_tokens(t))"
      ],
      "execution_count": null,
      "outputs": []
    },
    {
      "cell_type": "code",
      "metadata": {
        "id": "sXwl8eeOK1s6"
      },
      "source": [
        "def flatten(rank_2):\n",
        "    return list(itertools.chain.from_iterable(rank_2))"
      ],
      "execution_count": null,
      "outputs": []
    },
    {
      "cell_type": "code",
      "metadata": {
        "id": "MECsKcH-Mznq",
        "colab": {
          "base_uri": "https://localhost:8080/"
        },
        "outputId": "17f121ac-a333-4f44-c135-8c6532ac9d17"
      },
      "source": [
        "trn_tok = [flatten(t.tokenize_single(x)) for x in train_df['text']]\n",
        "val_tok = [flatten(t.tokenize_single(x)) for x in valid_df['text']]\n",
        "len(trn_tok), len(val_tok)"
      ],
      "execution_count": null,
      "outputs": [
        {
          "output_type": "execute_result",
          "data": {
            "text/plain": [
              "(139773, 59909)"
            ]
          },
          "metadata": {
            "tags": []
          },
          "execution_count": 11
        }
      ]
    },
    {
      "cell_type": "code",
      "metadata": {
        "id": "Dwp7A_N-vKy1"
      },
      "source": [
        "# print(\"size: {}\".format(getsize(trn_tok)/1024/1024))"
      ],
      "execution_count": null,
      "outputs": []
    },
    {
      "cell_type": "code",
      "metadata": {
        "id": "_YndP0V7M6v-"
      },
      "source": [
        "trn_lbls = train_df.label\n",
        "val_lbls = valid_df.label\n",
        "lbs = list(range(len(labels)))"
      ],
      "execution_count": null,
      "outputs": []
    },
    {
      "cell_type": "code",
      "metadata": {
        "id": "g1uprSvKdWI3",
        "colab": {
          "base_uri": "https://localhost:8080/"
        },
        "outputId": "831e4601-67fd-470e-82c7-a4ddea7c3175"
      },
      "source": [
        "del train_df, valid_df\n",
        "gc.collect()"
      ],
      "execution_count": null,
      "outputs": [
        {
          "output_type": "execute_result",
          "data": {
            "text/plain": [
              "34"
            ]
          },
          "metadata": {
            "tags": []
          },
          "execution_count": 13
        }
      ]
    },
    {
      "cell_type": "code",
      "metadata": {
        "id": "h0Nzu9dFaS30"
      },
      "source": [
        "bs = 64"
      ],
      "execution_count": null,
      "outputs": []
    },
    {
      "cell_type": "code",
      "metadata": {
        "id": "s_R0E0zxOeHF"
      },
      "source": [
        "tdb = TextClasDataBunch.from_tokens('.', trn_tok, trn_lbls, val_tok, val_lbls, vocab=v, max_vocab=200000, bs=bs)"
      ],
      "execution_count": null,
      "outputs": []
    },
    {
      "cell_type": "code",
      "metadata": {
        "id": "-vmL7fkRZF2k",
        "colab": {
          "base_uri": "https://localhost:8080/"
        },
        "outputId": "f9d66b9c-183c-4fa7-d57f-78c299dce8cb"
      },
      "source": [
        "del trn_tok, val_tok\n",
        "gc.collect()"
      ],
      "execution_count": null,
      "outputs": [
        {
          "output_type": "execute_result",
          "data": {
            "text/plain": [
              "0"
            ]
          },
          "metadata": {
            "tags": []
          },
          "execution_count": 16
        }
      ]
    },
    {
      "cell_type": "code",
      "metadata": {
        "id": "4qkTiwtOVuvJ"
      },
      "source": [
        "# f1 = FBeta()\n",
        "metrics = [accuracy]"
      ],
      "execution_count": null,
      "outputs": []
    },
    {
      "cell_type": "code",
      "metadata": {
        "id": "_4DLXvxo-oqf"
      },
      "source": [
        "config = dict(emb_sz=64*4, n_hid=32, n_layers=4, pad_token=0, qrnn=False, bidir=False, output_p=0.4,\n",
        "                hidden_p=0.3, input_p=0.4, embed_p=0.05, weight_p=0.5)"
      ],
      "execution_count": null,
      "outputs": []
    },
    {
      "cell_type": "code",
      "metadata": {
        "id": "MXQ8MVk4V4BR"
      },
      "source": [
        "clf = text_classifier_learner(tdb, AWD_LSTM, drop_mult=0.5, metrics=metrics, \n",
        "                                pretrained=False, config=config)\n",
        "clf.summary()"
      ],
      "execution_count": null,
      "outputs": []
    },
    {
      "cell_type": "code",
      "metadata": {
        "id": "cbVUQyovV7Af"
      },
      "source": [
        "# learn.freeze()"
      ],
      "execution_count": null,
      "outputs": []
    },
    {
      "cell_type": "code",
      "metadata": {
        "id": "zUmBl4DrV_2r",
        "colab": {
          "base_uri": "https://localhost:8080/",
          "height": 374
        },
        "outputId": "bce67f1a-5f8d-4a11-9a7f-2185168e976f"
      },
      "source": [
        "clf.lr_find()\n",
        "clf.recorder.plot()"
      ],
      "execution_count": null,
      "outputs": [
        {
          "output_type": "display_data",
          "data": {
            "text/html": [
              "\n",
              "    <div>\n",
              "        <style>\n",
              "            /* Turns off some styling */\n",
              "            progress {\n",
              "                /* gets rid of default border in Firefox and Opera. */\n",
              "                border: none;\n",
              "                /* Needs to be in here for Safari polyfill so background images work as expected. */\n",
              "                background-size: auto;\n",
              "            }\n",
              "            .progress-bar-interrupted, .progress-bar-interrupted::-webkit-progress-bar {\n",
              "                background: #F44336;\n",
              "            }\n",
              "        </style>\n",
              "      <progress value='0' class='' max='1' style='width:300px; height:20px; vertical-align: middle;'></progress>\n",
              "      0.00% [0/1 00:00<00:00]\n",
              "    </div>\n",
              "    \n",
              "<table border=\"1\" class=\"dataframe\">\n",
              "  <thead>\n",
              "    <tr style=\"text-align: left;\">\n",
              "      <th>epoch</th>\n",
              "      <th>train_loss</th>\n",
              "      <th>valid_loss</th>\n",
              "      <th>accuracy</th>\n",
              "      <th>time</th>\n",
              "    </tr>\n",
              "  </thead>\n",
              "  <tbody>\n",
              "  </tbody>\n",
              "</table><p>\n",
              "\n",
              "    <div>\n",
              "        <style>\n",
              "            /* Turns off some styling */\n",
              "            progress {\n",
              "                /* gets rid of default border in Firefox and Opera. */\n",
              "                border: none;\n",
              "                /* Needs to be in here for Safari polyfill so background images work as expected. */\n",
              "                background-size: auto;\n",
              "            }\n",
              "            .progress-bar-interrupted, .progress-bar-interrupted::-webkit-progress-bar {\n",
              "                background: #F44336;\n",
              "            }\n",
              "        </style>\n",
              "      <progress value='95' class='' max='4367' style='width:300px; height:20px; vertical-align: middle;'></progress>\n",
              "      2.18% [95/4367 00:14<10:52 11.8335]\n",
              "    </div>\n",
              "    "
            ],
            "text/plain": [
              "<IPython.core.display.HTML object>"
            ]
          },
          "metadata": {
            "tags": []
          }
        },
        {
          "output_type": "stream",
          "text": [
            "LR Finder is complete, type {learner_name}.recorder.plot() to see the graph.\n"
          ],
          "name": "stdout"
        },
        {
          "output_type": "display_data",
          "data": {
            "image/png": "[encoded data removed]",
            "text/plain": [
              "<Figure size 432x288 with 1 Axes>"
            ]
          },
          "metadata": {
            "tags": [],
            "needs_background": "light"
          }
        }
      ]
    },
    {
      "cell_type": "code",
      "metadata": {
        "id": "CQsGwHp6pAn6"
      },
      "source": [
        "# cbs = [SaveModelCallback(clf, every='epoch', monitor='accuracy', name='transformer_model')]"
      ],
      "execution_count": null,
      "outputs": []
    },
    {
      "cell_type": "code",
      "metadata": {
        "id": "rUaEHAV_WD4R",
        "colab": {
          "base_uri": "https://localhost:8080/",
          "height": 204
        },
        "outputId": "91b12462-d2ad-4ef1-81e1-15d62d9636d3"
      },
      "source": [
        "clf.fit_one_cycle(5, 1e-02)#, callbacks=cbs"
      ],
      "execution_count": null,
      "outputs": [
        {
          "output_type": "display_data",
          "data": {
            "text/html": [
              "<table border=\"1\" class=\"dataframe\">\n",
              "  <thead>\n",
              "    <tr style=\"text-align: left;\">\n",
              "      <th>epoch</th>\n",
              "      <th>train_loss</th>\n",
              "      <th>valid_loss</th>\n",
              "      <th>accuracy</th>\n",
              "      <th>time</th>\n",
              "    </tr>\n",
              "  </thead>\n",
              "  <tbody>\n",
              "    <tr>\n",
              "      <td>0</td>\n",
              "      <td>0.132423</td>\n",
              "      <td>0.926412</td>\n",
              "      <td>0.787995</td>\n",
              "      <td>03:15</td>\n",
              "    </tr>\n",
              "    <tr>\n",
              "      <td>1</td>\n",
              "      <td>0.084693</td>\n",
              "      <td>0.188463</td>\n",
              "      <td>0.958103</td>\n",
              "      <td>03:33</td>\n",
              "    </tr>\n",
              "    <tr>\n",
              "      <td>2</td>\n",
              "      <td>0.046533</td>\n",
              "      <td>0.056280</td>\n",
              "      <td>0.986613</td>\n",
              "      <td>03:27</td>\n",
              "    </tr>\n",
              "    <tr>\n",
              "      <td>3</td>\n",
              "      <td>0.039575</td>\n",
              "      <td>0.051874</td>\n",
              "      <td>0.988249</td>\n",
              "      <td>03:48</td>\n",
              "    </tr>\n",
              "    <tr>\n",
              "      <td>4</td>\n",
              "      <td>0.012134</td>\n",
              "      <td>0.045655</td>\n",
              "      <td>0.990018</td>\n",
              "      <td>03:30</td>\n",
              "    </tr>\n",
              "  </tbody>\n",
              "</table>"
            ],
            "text/plain": [
              "<IPython.core.display.HTML object>"
            ]
          },
          "metadata": {
            "tags": []
          }
        }
      ]
    },
    {
      "cell_type": "code",
      "metadata": {
        "id": "_yH9a4kTWD2V",
        "colab": {
          "base_uri": "https://localhost:8080/",
          "height": 279
        },
        "outputId": "c2c95d5f-447e-4c97-b515-10c7c8e6ecaa"
      },
      "source": [
        "clf.recorder.plot_losses(show_grid=True)"
      ],
      "execution_count": null,
      "outputs": [
        {
          "output_type": "display_data",
          "data": {
            "image/png": "[encoded data removed]",
            "text/plain": [
              "<Figure size 432x288 with 1 Axes>"
            ]
          },
          "metadata": {
            "tags": [],
            "needs_background": "light"
          }
        }
      ]
    },
    {
      "cell_type": "markdown",
      "metadata": {
        "id": "5wO5K5_IjL0Y"
      },
      "source": [
        "# Sequence to Language Model"
      ]
    },
    {
      "cell_type": "code",
      "metadata": {
        "id": "XUrs0zO-zqR4"
      },
      "source": [
        "%load_ext autoreload\n",
        "%autoreload 2\n",
        "%matplotlib inline"
      ],
      "execution_count": null,
      "outputs": []
    },
    {
      "cell_type": "code",
      "metadata": {
        "id": "t4Im6aUu_QXv",
        "colab": {
          "base_uri": "https://localhost:8080/"
        },
        "outputId": "d1e1e747-0aa4-4495-a8c7-1d4ddb48a057"
      },
      "source": [
        "from google.colab import drive\n",
        "drive.mount('/content/drive')"
      ],
      "execution_count": null,
      "outputs": [
        {
          "output_type": "stream",
          "text": [
            "Mounted at /content/drive\n"
          ],
          "name": "stdout"
        }
      ]
    },
    {
      "cell_type": "code",
      "metadata": {
        "id": "7XJ2tQGzwtSe"
      },
      "source": [
        "! cp \"/content/drive/My Drive/europarl/tokenizer.pkl\" /content/tokenizer.pkl \n",
        "! cp  \"/content/drive/My Drive/europarl/text.py\" /content/text.py\n",
        "! cp  \"/content/drive/My Drive/europarl/tokenizer.py\" /content/tokenizer.py\n",
        "! cp  \"/content/drive/My Drive/europarl/vocab.py\" /content/vocab.py"
      ],
      "execution_count": null,
      "outputs": []
    },
    {
      "cell_type": "code",
      "metadata": {
        "id": "_6IOfniC_0Wj"
      },
      "source": [
        "from tokenizer import SpecialTokenizer, _default_tokenizer, parallel_function\n",
        "from fastai import *\n",
        "from fastai.text import *\n",
        "from fastai.callbacks import *\n",
        "import pandas as pd\n",
        "import numpy as np\n",
        "import gc\n",
        "from torch.nn.utils.rnn import pack_padded_sequence, pad_packed_sequence\n",
        "from torchsummaryX import summary"
      ],
      "execution_count": null,
      "outputs": []
    },
    {
      "cell_type": "code",
      "metadata": {
        "id": "rs-M68wh_0Wv"
      },
      "source": [
        "labels=['bg','cs','da','de','el','en','es','et','fi','fr',\n",
        "        'hu','it','lt','lv','nl','pl','pt','ro','sk','sl','sv']"
      ],
      "execution_count": null,
      "outputs": []
    },
    {
      "cell_type": "code",
      "metadata": {
        "id": "Eh7dPHP1_0Wz",
        "colab": {
          "base_uri": "https://localhost:8080/"
        },
        "outputId": "711fb739-ccc0-4f7f-a9ad-f65d269713b0"
      },
      "source": [
        "train_df = pd.read_pickle(\"/content/drive/My Drive/europarl/train_ds.pkl\")\n",
        "valid_df = pd.read_pickle(\"/content/drive/My Drive/europarl/valid_ds.pkl\")\n",
        "train_df.shape, valid_df.shape"
      ],
      "execution_count": null,
      "outputs": [
        {
          "output_type": "execute_result",
          "data": {
            "text/plain": [
              "((2718013, 2), (1164863, 2))"
            ]
          },
          "metadata": {
            "tags": []
          },
          "execution_count": 3
        }
      ]
    },
    {
      "cell_type": "code",
      "metadata": {
        "id": "WRQO0J6d_0W4"
      },
      "source": [
        "np.random.seed(1)\n",
        "t_choices = np.random.choice(len(train_df), int(105000*4*0.7))\n",
        "v_choices = np.random.choice(len(valid_df), int(105000*4*0.3))"
      ],
      "execution_count": null,
      "outputs": []
    },
    {
      "cell_type": "code",
      "metadata": {
        "id": "2EJuHRrS_0W7"
      },
      "source": [
        "def sup_two(row):\n",
        "    if len(row['text'].split()) == 1: return 0\n",
        "    else: return row['text']"
      ],
      "execution_count": null,
      "outputs": []
    },
    {
      "cell_type": "code",
      "metadata": {
        "id": "7xdMY8rM_0W9",
        "colab": {
          "base_uri": "https://localhost:8080/"
        },
        "outputId": "33ad240f-bc1e-40cc-d44c-25d92b924e41"
      },
      "source": [
        "# taking sample\n",
        "train_df = train_df.loc[t_choices]\n",
        "valid_df = valid_df.loc[v_choices]\n",
        "\n",
        "train_df['text'] = train_df.apply(sup_two, axis=1)\n",
        "valid_df['text'] = valid_df.apply(sup_two, axis=1)\n",
        "\n",
        "train_df = train_df[train_df.text != False]\n",
        "valid_df = valid_df[valid_df.text != False]\n",
        "\n",
        "train_df.reset_index(drop=True, inplace=True)\n",
        "valid_df.reset_index(drop=True, inplace=True)\n",
        "\n",
        "train_df.shape, valid_df.shape"
      ],
      "execution_count": null,
      "outputs": [
        {
          "output_type": "execute_result",
          "data": {
            "text/plain": [
              "((279444, 2), (119541, 2))"
            ]
          },
          "metadata": {
            "tags": []
          },
          "execution_count": 6
        }
      ]
    },
    {
      "cell_type": "code",
      "metadata": {
        "id": "M-PNDwvUw3qG"
      },
      "source": [
        "# train_df.groupby('label').size(), valid_df.groupby('label').size()"
      ],
      "execution_count": null,
      "outputs": []
    },
    {
      "cell_type": "code",
      "metadata": {
        "id": "XrCf0guh_0XA",
        "colab": {
          "base_uri": "https://localhost:8080/"
        },
        "outputId": "e42fbce1-5c1f-42c7-c0b2-2b4816887475"
      },
      "source": [
        "max_len = max([len(x.split()) for x in train_df.text])\n",
        "min_len = min([len(x.split()) for x in train_df.text])\n",
        "max_len, min_len"
      ],
      "execution_count": null,
      "outputs": [
        {
          "output_type": "execute_result",
          "data": {
            "text/plain": [
              "(23, 2)"
            ]
          },
          "metadata": {
            "tags": []
          },
          "execution_count": 7
        }
      ]
    },
    {
      "cell_type": "code",
      "metadata": {
        "id": "BKqGN7x1_0XD"
      },
      "source": [
        "t = SpecialTokenizer.from_pickle(\"/content/tokenizer.pkl\")"
      ],
      "execution_count": null,
      "outputs": []
    },
    {
      "cell_type": "code",
      "metadata": {
        "id": "3bi-sWiJ1IyU"
      },
      "source": [
        "# class SpecialVocab(Vocab):\n",
        "#     def numericalize(self, t,):\n",
        "#         return self.pad([[self.stoi[sw] for sw in w] for w in t])\n",
        "\n",
        "#     def pad(self, seq, pad_idx=0):\n",
        "#         lens = []\n",
        "#         for row in seq:\n",
        "#             lens.append(len(row))\n",
        "#         max_len = max(lens)\n",
        "#         for row in seq:\n",
        "#             while len(row) < max_len:\n",
        "#                 row.append(pad_idx)\n",
        "\n",
        "#         return seq  \n",
        "\n",
        "#     def textify(self, nums, sep=' '):\n",
        "#         return sep.join(flatten([[self.itos[i] for i in j] for j in nums])) if sep is not None else flatten([[self.itos[i] for i in j] for j in nums])\n",
        "\n",
        "# def get_tokens(t):\n",
        "#     return list(t.vocab.get_vocab().keys())\n",
        "# v = SpecialVocab(get_tokens(t))"
      ],
      "execution_count": null,
      "outputs": []
    },
    {
      "cell_type": "code",
      "metadata": {
        "id": "YmZLHM2ZUFkm"
      },
      "source": [
        "def get_tokens(t):\n",
        "    return list(t.vocab.get_vocab().keys())\n",
        "v = Vocab(get_tokens(t))"
      ],
      "execution_count": null,
      "outputs": []
    },
    {
      "cell_type": "code",
      "metadata": {
        "id": "B0g26A5LG663"
      },
      "source": [
        "def flatten(rank_2):\n",
        "    return list(itertools.chain.from_iterable(rank_2))"
      ],
      "execution_count": null,
      "outputs": []
    },
    {
      "cell_type": "code",
      "metadata": {
        "id": "KJ8OUDBs4jRL",
        "colab": {
          "base_uri": "https://localhost:8080/",
          "height": 17
        },
        "outputId": "1c70d72d-2c94-47e5-8b33-1df2d97bd01f"
      },
      "source": [
        "# def special_tokenize(x, i):\n",
        "#     return flatten(t.tokenize_single(x))\n",
        "\n",
        "# trn_tok = parallel_function(special_tokenize, train_df['text'].tolist(), 1)\n",
        "# val_tok = parallel_function(special_tokenize, valid_df['text'].tolist(), 1)"
      ],
      "execution_count": null,
      "outputs": [
        {
          "output_type": "display_data",
          "data": {
            "text/html": [
              ""
            ],
            "text/plain": [
              "<IPython.core.display.HTML object>"
            ]
          },
          "metadata": {
            "tags": []
          }
        },
        {
          "output_type": "display_data",
          "data": {
            "text/html": [
              ""
            ],
            "text/plain": [
              "<IPython.core.display.HTML object>"
            ]
          },
          "metadata": {
            "tags": []
          }
        }
      ]
    },
    {
      "cell_type": "code",
      "metadata": {
        "id": "X3KFM8hO_0XL",
        "colab": {
          "base_uri": "https://localhost:8080/"
        },
        "outputId": "10b0e633-caef-4ee5-fb7a-d342dd8ea160"
      },
      "source": [
        "%%time\n",
        "trn_tok = [flatten(t.tokenize_single(x)) for x in train_df['text']]\n",
        "val_tok = [flatten(t.tokenize_single(x)) for x in valid_df['text']]\n",
        "len(trn_tok), len(val_tok)"
      ],
      "execution_count": null,
      "outputs": [
        {
          "output_type": "stream",
          "text": [
            "CPU times: user 1min, sys: 2.46 s, total: 1min 3s\n",
            "Wall time: 1min 3s\n"
          ],
          "name": "stdout"
        }
      ]
    },
    {
      "cell_type": "code",
      "metadata": {
        "id": "Ks854JPP_0XQ"
      },
      "source": [
        "val_lbls = valid_df.label.to_list()\n",
        "trn_lbls = train_df.label.to_list()"
      ],
      "execution_count": null,
      "outputs": []
    },
    {
      "cell_type": "code",
      "metadata": {
        "id": "b59hBKbu_0XS",
        "colab": {
          "base_uri": "https://localhost:8080/"
        },
        "outputId": "d04a7d02-4bbf-4fa9-d5cb-ccd48de5f7af"
      },
      "source": [
        "del train_df, valid_df\n",
        "gc.collect()"
      ],
      "execution_count": null,
      "outputs": [
        {
          "output_type": "execute_result",
          "data": {
            "text/plain": [
              "0"
            ]
          },
          "metadata": {
            "tags": []
          },
          "execution_count": 13
        }
      ]
    },
    {
      "cell_type": "code",
      "metadata": {
        "id": "GbTqpKUd_0XW"
      },
      "source": [
        "bs = 64"
      ],
      "execution_count": null,
      "outputs": []
    },
    {
      "cell_type": "code",
      "metadata": {
        "id": "TMN0f7A7_0XY"
      },
      "source": [
        "tdb = TextClasDataBunch.from_tokens('.', trn_tok, trn_lbls, val_tok, val_lbls, vocab=v, max_vocab=200000, bs=bs)"
      ],
      "execution_count": null,
      "outputs": []
    },
    {
      "cell_type": "code",
      "metadata": {
        "id": "zsRAKECaCgNO",
        "colab": {
          "base_uri": "https://localhost:8080/"
        },
        "outputId": "4db74035-708a-49b7-8984-017b4eace53e"
      },
      "source": [
        "# loss function\r\n",
        "tdb.loss_func"
      ],
      "execution_count": null,
      "outputs": [
        {
          "output_type": "execute_result",
          "data": {
            "text/plain": [
              "FlattenedLoss of CrossEntropyLoss()"
            ]
          },
          "metadata": {
            "tags": []
          },
          "execution_count": 21
        }
      ]
    },
    {
      "cell_type": "code",
      "metadata": {
        "id": "Xuvsrv48_0Xb",
        "colab": {
          "base_uri": "https://localhost:8080/"
        },
        "outputId": "ff1c8880-0e9b-4835-d547-d867886b23a3"
      },
      "source": [
        "del trn_tok, val_tok\n",
        "gc.collect()"
      ],
      "execution_count": null,
      "outputs": [
        {
          "output_type": "execute_result",
          "data": {
            "text/plain": [
              "0"
            ]
          },
          "metadata": {
            "tags": []
          },
          "execution_count": 16
        }
      ]
    },
    {
      "cell_type": "code",
      "metadata": {
        "id": "wh3r4-YAjNsu"
      },
      "source": [
        "# more recent version of this architecture in: https://github.com/rashidhaffadi/Language-Identification/blob/main/sequence_model.py\n",
        "class SeqToLang(nn.Module):\n",
        "    def __init__(self, num_of_ngrams=159694, output_size=21, hidden_size=64, embedding_dim=64, drp=0.2):\n",
        "        super().__init__()\n",
        "\n",
        "        self.chars_embedding = nn.Embedding(num_embeddings=num_of_ngrams, padding_idx=0, embedding_dim=embedding_dim)\n",
        "        self.lstm = nn.LSTM(num_layers=2, input_size=embedding_dim, hidden_size=hidden_size, bidirectional=True, batch_first=True)\n",
        "        self.linear1 = nn.Linear(hidden_size*2, output_size*4)\n",
        "        self.bn1 = nn.BatchNorm1d(output_size*4)\n",
        "        self.dropout1 = nn.Dropout(drp)\n",
        "        self.linear2 = nn.Linear(output_size*4, output_size*2)\n",
        "        self.bn2 = nn.BatchNorm1d(output_size*2)\n",
        "        self.dropout2 = nn.Dropout(drp)\n",
        "        self.linear3 = nn.Linear(output_size*2, output_size)\n",
        "        self.with_gpu()\n",
        "\n",
        "    def with_gpu(self):\n",
        "        self.device = torch.device(\"cuda\" if torch.cuda.is_available() else \"cpu\")\n",
        "\n",
        "    def reset(self):\n",
        "        for layer in self.children():\n",
        "            if hasattr(layer, 'reset_parameters'):\n",
        "                layer.reset_parameters()\n",
        "\n",
        "    def smouthing(self, o):\n",
        "        a = o.argmax(1)\n",
        "        a = F.one_hot(a, num_classes=o.shape[1]).float()\n",
        "        return a.clone().detach().requires_grad_(True)\n",
        "\n",
        "    def forward(self, x): #x: tokenized_texts\n",
        "\n",
        "        out = self.chars_embedding(x)\n",
        "\n",
        "        # print(\"\" + str(out.shape))\n",
        "        out, hidden = self.lstm(out)\n",
        "        out = out.sum(1)/x.shape[1]\n",
        "\n",
        "        out = self.linear1(out)\n",
        "        out = self.bn1(out)\n",
        "        out = self.dropout1(out)\n",
        "        out = F.relu(out)\n",
        "\n",
        "        out = self.linear2(out)\n",
        "        out = self.bn2(out)\n",
        "        out = self.dropout2(out)\n",
        "        our = F.relu(out)\n",
        "\n",
        "        out = self.linear3(out)\n",
        "        out = F.softmax(out, dim=1)\n",
        "        return out"
      ],
      "execution_count": null,
      "outputs": []
    },
    {
      "cell_type": "code",
      "metadata": {
        "id": "EZwz_v8WmRaR",
        "colab": {
          "base_uri": "https://localhost:8080/"
        },
        "outputId": "4e289c02-b7ec-4edf-d9ce-dc0d65ffa54e"
      },
      "source": [
        "model = SeqToLang()\n",
        "model"
      ],
      "execution_count": null,
      "outputs": [
        {
          "output_type": "execute_result",
          "data": {
            "text/plain": [
              "SeqToLang(\n",
              "  (chars_embedding): Embedding(159694, 64, padding_idx=0)\n",
              "  (lstm): LSTM(64, 64, num_layers=2, batch_first=True, bidirectional=True)\n",
              "  (linear1): Linear(in_features=128, out_features=84, bias=True)\n",
              "  (bn1): BatchNorm1d(84, eps=1e-05, momentum=0.1, affine=True, track_running_stats=True)\n",
              "  (dropout1): Dropout(p=0.2, inplace=False)\n",
              "  (linear2): Linear(in_features=84, out_features=42, bias=True)\n",
              "  (bn2): BatchNorm1d(42, eps=1e-05, momentum=0.1, affine=True, track_running_stats=True)\n",
              "  (dropout2): Dropout(p=0.2, inplace=False)\n",
              "  (linear3): Linear(in_features=42, out_features=21, bias=True)\n",
              ")"
            ]
          },
          "metadata": {
            "tags": []
          },
          "execution_count": 83
        }
      ]
    },
    {
      "cell_type": "code",
      "metadata": {
        "id": "SaNZEcaKyI9J"
      },
      "source": [
        "# f1 = FBeta()\n",
        "metrics = [accuracy]"
      ],
      "execution_count": null,
      "outputs": []
    },
    {
      "cell_type": "code",
      "metadata": {
        "id": "LcVGjqNB8h2k",
        "colab": {
          "base_uri": "https://localhost:8080/",
          "height": 682
        },
        "outputId": "a150cdcf-530e-4efe-8029-28d3143e344f"
      },
      "source": [
        "clf = Learner(tdb, model, metrics=metrics)\n",
        "summary(model, torch.zeros((bs, 720), dtype=torch.long).cuda())"
      ],
      "execution_count": null,
      "outputs": [
        {
          "output_type": "stream",
          "text": [
            "=======================================================================\n",
            "                   Kernel Shape    Output Shape      Params   Mult-Adds\n",
            "Layer                                                                  \n",
            "0_chars_embedding  [64, 159694]   [64, 720, 64]  10.220416M  10.220416M\n",
            "1_lstm                        -  [64, 720, 128]    165.888k     163.84k\n",
            "2_linear1             [128, 84]        [64, 84]     10.836k     10.752k\n",
            "3_bn1                      [84]        [64, 84]       168.0        84.0\n",
            "4_dropout1                    -        [64, 84]           -           -\n",
            "5_linear2              [84, 42]        [64, 42]       3.57k      3.528k\n",
            "6_bn2                      [42]        [64, 42]        84.0        42.0\n",
            "7_dropout2                    -        [64, 42]           -           -\n",
            "8_linear3              [42, 21]        [64, 21]       903.0       882.0\n",
            "-----------------------------------------------------------------------\n",
            "                          Totals\n",
            "Total params          10.401865M\n",
            "Trainable params      10.401865M\n",
            "Non-trainable params         0.0\n",
            "Mult-Adds             10.399544M\n",
            "=======================================================================\n"
          ],
          "name": "stdout"
        },
        {
          "output_type": "execute_result",
          "data": {
            "text/html": [
              "<div>\n",
              "<style scoped>\n",
              "    .dataframe tbody tr th:only-of-type {\n",
              "        vertical-align: middle;\n",
              "    }\n",
              "\n",
              "    .dataframe tbody tr th {\n",
              "        vertical-align: top;\n",
              "    }\n",
              "\n",
              "    .dataframe thead th {\n",
              "        text-align: right;\n",
              "    }\n",
              "</style>\n",
              "<table border=\"1\" class=\"dataframe\">\n",
              "  <thead>\n",
              "    <tr style=\"text-align: right;\">\n",
              "      <th></th>\n",
              "      <th>Kernel Shape</th>\n",
              "      <th>Output Shape</th>\n",
              "      <th>Params</th>\n",
              "      <th>Mult-Adds</th>\n",
              "    </tr>\n",
              "    <tr>\n",
              "      <th>Layer</th>\n",
              "      <th></th>\n",
              "      <th></th>\n",
              "      <th></th>\n",
              "      <th></th>\n",
              "    </tr>\n",
              "  </thead>\n",
              "  <tbody>\n",
              "    <tr>\n",
              "      <th>0_chars_embedding</th>\n",
              "      <td>[64, 159694]</td>\n",
              "      <td>[64, 720, 64]</td>\n",
              "      <td>10220416.0</td>\n",
              "      <td>10220416.0</td>\n",
              "    </tr>\n",
              "    <tr>\n",
              "      <th>1_lstm</th>\n",
              "      <td>-</td>\n",
              "      <td>[64, 720, 128]</td>\n",
              "      <td>165888.0</td>\n",
              "      <td>163840.0</td>\n",
              "    </tr>\n",
              "    <tr>\n",
              "      <th>2_linear1</th>\n",
              "      <td>[128, 84]</td>\n",
              "      <td>[64, 84]</td>\n",
              "      <td>10836.0</td>\n",
              "      <td>10752.0</td>\n",
              "    </tr>\n",
              "    <tr>\n",
              "      <th>3_bn1</th>\n",
              "      <td>[84]</td>\n",
              "      <td>[64, 84]</td>\n",
              "      <td>168.0</td>\n",
              "      <td>84.0</td>\n",
              "    </tr>\n",
              "    <tr>\n",
              "      <th>4_dropout1</th>\n",
              "      <td>-</td>\n",
              "      <td>[64, 84]</td>\n",
              "      <td>NaN</td>\n",
              "      <td>NaN</td>\n",
              "    </tr>\n",
              "    <tr>\n",
              "      <th>5_linear2</th>\n",
              "      <td>[84, 42]</td>\n",
              "      <td>[64, 42]</td>\n",
              "      <td>3570.0</td>\n",
              "      <td>3528.0</td>\n",
              "    </tr>\n",
              "    <tr>\n",
              "      <th>6_bn2</th>\n",
              "      <td>[42]</td>\n",
              "      <td>[64, 42]</td>\n",
              "      <td>84.0</td>\n",
              "      <td>42.0</td>\n",
              "    </tr>\n",
              "    <tr>\n",
              "      <th>7_dropout2</th>\n",
              "      <td>-</td>\n",
              "      <td>[64, 42]</td>\n",
              "      <td>NaN</td>\n",
              "      <td>NaN</td>\n",
              "    </tr>\n",
              "    <tr>\n",
              "      <th>8_linear3</th>\n",
              "      <td>[42, 21]</td>\n",
              "      <td>[64, 21]</td>\n",
              "      <td>903.0</td>\n",
              "      <td>882.0</td>\n",
              "    </tr>\n",
              "  </tbody>\n",
              "</table>\n",
              "</div>"
            ],
            "text/plain": [
              "                   Kernel Shape    Output Shape      Params   Mult-Adds\n",
              "Layer                                                                  \n",
              "0_chars_embedding  [64, 159694]   [64, 720, 64]  10220416.0  10220416.0\n",
              "1_lstm                        -  [64, 720, 128]    165888.0    163840.0\n",
              "2_linear1             [128, 84]        [64, 84]     10836.0     10752.0\n",
              "3_bn1                      [84]        [64, 84]       168.0        84.0\n",
              "4_dropout1                    -        [64, 84]         NaN         NaN\n",
              "5_linear2              [84, 42]        [64, 42]      3570.0      3528.0\n",
              "6_bn2                      [42]        [64, 42]        84.0        42.0\n",
              "7_dropout2                    -        [64, 42]         NaN         NaN\n",
              "8_linear3              [42, 21]        [64, 21]       903.0       882.0"
            ]
          },
          "metadata": {
            "tags": []
          },
          "execution_count": 85
        }
      ]
    },
    {
      "cell_type": "code",
      "metadata": {
        "id": "N93F9ka19VKi",
        "colab": {
          "base_uri": "https://localhost:8080/",
          "height": 374
        },
        "outputId": "ccd7bcee-e468-4c42-c769-edd31d9385a5"
      },
      "source": [
        "# %%debug\n",
        "clf.lr_find()\n",
        "clf.recorder.plot()"
      ],
      "execution_count": null,
      "outputs": [
        {
          "output_type": "display_data",
          "data": {
            "text/html": [
              "\n",
              "    <div>\n",
              "        <style>\n",
              "            /* Turns off some styling */\n",
              "            progress {\n",
              "                /* gets rid of default border in Firefox and Opera. */\n",
              "                border: none;\n",
              "                /* Needs to be in here for Safari polyfill so background images work as expected. */\n",
              "                background-size: auto;\n",
              "            }\n",
              "            .progress-bar-interrupted, .progress-bar-interrupted::-webkit-progress-bar {\n",
              "                background: #F44336;\n",
              "            }\n",
              "        </style>\n",
              "      <progress value='0' class='' max='1' style='width:300px; height:20px; vertical-align: middle;'></progress>\n",
              "      0.00% [0/1 00:00<00:00]\n",
              "    </div>\n",
              "    \n",
              "<table border=\"1\" class=\"dataframe\">\n",
              "  <thead>\n",
              "    <tr style=\"text-align: left;\">\n",
              "      <th>epoch</th>\n",
              "      <th>train_loss</th>\n",
              "      <th>valid_loss</th>\n",
              "      <th>accuracy</th>\n",
              "      <th>time</th>\n",
              "    </tr>\n",
              "  </thead>\n",
              "  <tbody>\n",
              "  </tbody>\n",
              "</table><p>\n",
              "\n",
              "    <div>\n",
              "        <style>\n",
              "            /* Turns off some styling */\n",
              "            progress {\n",
              "                /* gets rid of default border in Firefox and Opera. */\n",
              "                border: none;\n",
              "                /* Needs to be in here for Safari polyfill so background images work as expected. */\n",
              "                background-size: auto;\n",
              "            }\n",
              "            .progress-bar-interrupted, .progress-bar-interrupted::-webkit-progress-bar {\n",
              "                background: #F44336;\n",
              "            }\n",
              "        </style>\n",
              "      <progress value='97' class='' max='4366' style='width:300px; height:20px; vertical-align: middle;'></progress>\n",
              "      2.22% [97/4366 00:28<20:53 2.9851]\n",
              "    </div>\n",
              "    "
            ],
            "text/plain": [
              "<IPython.core.display.HTML object>"
            ]
          },
          "metadata": {
            "tags": []
          }
        },
        {
          "output_type": "stream",
          "text": [
            "LR Finder is complete, type {learner_name}.recorder.plot() to see the graph.\n"
          ],
          "name": "stdout"
        },
        {
          "output_type": "display_data",
          "data": {
            "image/png": "[encoded data removed]",
            "text/plain": [
              "<Figure size 432x288 with 1 Axes>"
            ]
          },
          "metadata": {
            "tags": [],
            "needs_background": "light"
          }
        }
      ]
    },
    {
      "cell_type": "code",
      "metadata": {
        "id": "YJ-NkoBf9VKq",
        "colab": {
          "base_uri": "https://localhost:8080/",
          "height": 204
        },
        "outputId": "77237e12-78ef-46a6-8513-473e7b3ec482"
      },
      "source": [
        "clf.fit_one_cycle(5, 1e-03)"
      ],
      "execution_count": null,
      "outputs": [
        {
          "output_type": "display_data",
          "data": {
            "text/html": [
              "<table border=\"1\" class=\"dataframe\">\n",
              "  <thead>\n",
              "    <tr style=\"text-align: left;\">\n",
              "      <th>epoch</th>\n",
              "      <th>train_loss</th>\n",
              "      <th>valid_loss</th>\n",
              "      <th>accuracy</th>\n",
              "      <th>time</th>\n",
              "    </tr>\n",
              "  </thead>\n",
              "  <tbody>\n",
              "    <tr>\n",
              "      <td>0</td>\n",
              "      <td>2.145877</td>\n",
              "      <td>2.136700</td>\n",
              "      <td>0.986423</td>\n",
              "      <td>05:16</td>\n",
              "    </tr>\n",
              "    <tr>\n",
              "      <td>1</td>\n",
              "      <td>2.140090</td>\n",
              "      <td>2.136707</td>\n",
              "      <td>0.986582</td>\n",
              "      <td>04:55</td>\n",
              "    </tr>\n",
              "    <tr>\n",
              "      <td>2</td>\n",
              "      <td>2.139579</td>\n",
              "      <td>2.136756</td>\n",
              "      <td>0.986523</td>\n",
              "      <td>05:11</td>\n",
              "    </tr>\n",
              "    <tr>\n",
              "      <td>3</td>\n",
              "      <td>2.140787</td>\n",
              "      <td>2.136081</td>\n",
              "      <td>0.987143</td>\n",
              "      <td>05:21</td>\n",
              "    </tr>\n",
              "    <tr>\n",
              "      <td>4</td>\n",
              "      <td>2.133618</td>\n",
              "      <td>2.136005</td>\n",
              "      <td>0.987318</td>\n",
              "      <td>05:21</td>\n",
              "    </tr>\n",
              "  </tbody>\n",
              "</table>"
            ],
            "text/plain": [
              "<IPython.core.display.HTML object>"
            ]
          },
          "metadata": {
            "tags": []
          }
        }
      ]
    },
    {
      "cell_type": "code",
      "metadata": {
        "id": "8Fcc3FRcBh0R",
        "colab": {
          "base_uri": "https://localhost:8080/",
          "height": 279
        },
        "outputId": "31cf2478-28c9-4ca8-9ae0-4c75baafff35"
      },
      "source": [
        "clf.recorder.plot_losses()"
      ],
      "execution_count": null,
      "outputs": [
        {
          "output_type": "display_data",
          "data": {
            "image/png": "[encoded data removed]",
            "text/plain": [
              "<Figure size 432x288 with 1 Axes>"
            ]
          },
          "metadata": {
            "tags": [],
            "needs_background": "light"
          }
        }
      ]
    },
    {
      "cell_type": "markdown",
      "metadata": {
        "id": "o8b_rZqGBixW"
      },
      "source": [
        "# Transformer"
      ]
    },
    {
      "cell_type": "code",
      "metadata": {
        "id": "iLmyDtF2Bl6n"
      },
      "source": [
        ""
      ],
      "execution_count": null,
      "outputs": []
    },
    {
      "cell_type": "code",
      "metadata": {
        "id": "7-sCnHRj7gJr",
        "colab": {
          "base_uri": "https://localhost:8080/"
        },
        "outputId": "08174e03-44f8-4c0c-8fb2-f527074752e2"
      },
      "source": [
        "from google.colab import drive\n",
        "drive.mount('/content/drive')"
      ],
      "execution_count": null,
      "outputs": [
        {
          "output_type": "stream",
          "text": [
            "Mounted at /content/drive\n"
          ],
          "name": "stdout"
        }
      ]
    },
    {
      "cell_type": "code",
      "metadata": {
        "id": "7Re-EfVH7gJ3"
      },
      "source": [
        "! cp \"/content/drive/My Drive/europarl/tokenizer.pkl\" /content/tokenizer.pkl \n",
        "! cp  \"/content/drive/My Drive/europarl/text.py\" /content/text.py\n",
        "! cp  \"/content/drive/My Drive/europarl/tokenizer.py\" /content/tokenizer.py\n",
        "! cp  \"/content/drive/My Drive/europarl/vocab.py\" /content/vocab.py"
      ],
      "execution_count": null,
      "outputs": []
    },
    {
      "cell_type": "code",
      "metadata": {
        "id": "tHEG37f77gJ7"
      },
      "source": [
        "from tokenizer import SpecialTokenizer, _default_tokenizer\n",
        "from fastai.text.models.transformer import init_transformer\n",
        "from fastai import *\n",
        "from fastai.text import *\n",
        "from fastai.callbacks import *\n",
        "import pandas as pd\n",
        "import numpy as np\n",
        "import gc"
      ],
      "execution_count": null,
      "outputs": []
    },
    {
      "cell_type": "code",
      "metadata": {
        "id": "61VUqLHI7gKB"
      },
      "source": [
        "labels=['bg','cs','da','de','el','en','es','et','fi','fr',\n",
        "        'hu','it','lt','lv','nl','pl','pt','ro','sk','sl','sv']"
      ],
      "execution_count": null,
      "outputs": []
    },
    {
      "cell_type": "code",
      "metadata": {
        "id": "YOTBqDXq7gKE",
        "colab": {
          "base_uri": "https://localhost:8080/"
        },
        "outputId": "560b39c0-4abf-4aad-bbec-9687711f1edd"
      },
      "source": [
        "train_df = pd.read_pickle(\"/content/drive/My Drive/europarl/train_ds.pkl\")\n",
        "valid_df = pd.read_pickle(\"/content/drive/My Drive/europarl/valid_ds.pkl\")\n",
        "train_df.shape, valid_df.shape"
      ],
      "execution_count": null,
      "outputs": [
        {
          "output_type": "execute_result",
          "data": {
            "text/plain": [
              "((2718013, 2), (1164863, 2))"
            ]
          },
          "metadata": {
            "tags": []
          },
          "execution_count": 3
        }
      ]
    },
    {
      "cell_type": "code",
      "metadata": {
        "id": "uUjgteq37gKL"
      },
      "source": [
        "np.random.seed(1)\n",
        "t_choices = np.random.choice(len(train_df), int(210000*0.7))\n",
        "v_choices = np.random.choice(len(valid_df), int(210000*0.3))"
      ],
      "execution_count": null,
      "outputs": []
    },
    {
      "cell_type": "code",
      "metadata": {
        "id": "Y1axGc2g7gKP"
      },
      "source": [
        "def sup_two(row):\n",
        "    if len(row['text'].split()) == 1: return 0\n",
        "    else: return row['text']"
      ],
      "execution_count": null,
      "outputs": []
    },
    {
      "cell_type": "code",
      "metadata": {
        "id": "ON_Qqfd47gKU",
        "colab": {
          "base_uri": "https://localhost:8080/"
        },
        "outputId": "dd022afd-3001-4220-9ea3-6e204b50b2d4"
      },
      "source": [
        "# sampling\n",
        "train_df = train_df.loc[t_choices]\n",
        "valid_df = valid_df.loc[v_choices]\n",
        "\n",
        "train_df['text'] = train_df.apply(sup_two, axis=1)\n",
        "valid_df['text'] = valid_df.apply(sup_two, axis=1)\n",
        "\n",
        "train_df = train_df[train_df.text != False]\n",
        "valid_df = valid_df[valid_df.text != False]\n",
        "\n",
        "train_df.reset_index(drop=True, inplace=True)\n",
        "valid_df.reset_index(drop=True, inplace=True)\n",
        "\n",
        "train_df.shape, valid_df.shape"
      ],
      "execution_count": null,
      "outputs": [
        {
          "output_type": "execute_result",
          "data": {
            "text/plain": [
              "((139773, 2), (59909, 2))"
            ]
          },
          "metadata": {
            "tags": []
          },
          "execution_count": 6
        }
      ]
    },
    {
      "cell_type": "code",
      "metadata": {
        "id": "JstLZTld7gKX",
        "colab": {
          "base_uri": "https://localhost:8080/"
        },
        "outputId": "f02f6781-abd3-4ddd-8c53-1420b3f9e684"
      },
      "source": [
        "max_len = max([len(x.split()) for x in train_df.text])\n",
        "min_len = min([len(x.split()) for x in train_df.text])\n",
        "max_len, min_len"
      ],
      "execution_count": null,
      "outputs": [
        {
          "output_type": "execute_result",
          "data": {
            "text/plain": [
              "(23, 2)"
            ]
          },
          "metadata": {
            "tags": []
          },
          "execution_count": 7
        }
      ]
    },
    {
      "cell_type": "code",
      "metadata": {
        "id": "3waugKUp7gKa"
      },
      "source": [
        "t = SpecialTokenizer.from_pickle(\"/content/tokenizer.pkl\")"
      ],
      "execution_count": null,
      "outputs": []
    },
    {
      "cell_type": "code",
      "metadata": {
        "id": "myVP1FNX7gKc"
      },
      "source": [
        "def get_tokens(t):\n",
        "    return list(t.vocab.get_vocab().keys())\n",
        "v = Vocab(get_tokens(t))"
      ],
      "execution_count": null,
      "outputs": []
    },
    {
      "cell_type": "code",
      "metadata": {
        "id": "yFG_hMK17gKg"
      },
      "source": [
        "def flatten(rank_2):\n",
        "    return list(itertools.chain.from_iterable(rank_2))"
      ],
      "execution_count": null,
      "outputs": []
    },
    {
      "cell_type": "code",
      "metadata": {
        "id": "Stq6kSP97gKj",
        "colab": {
          "base_uri": "https://localhost:8080/"
        },
        "outputId": "17f121ac-a333-4f44-c135-8c6532ac9d17"
      },
      "source": [
        "trn_tok = [flatten(t.tokenize_single(x)) for x in train_df['text']]\n",
        "val_tok = [flatten(t.tokenize_single(x)) for x in valid_df['text']]\n",
        "len(trn_tok), len(val_tok)"
      ],
      "execution_count": null,
      "outputs": [
        {
          "output_type": "execute_result",
          "data": {
            "text/plain": [
              "(139773, 59909)"
            ]
          },
          "metadata": {
            "tags": []
          },
          "execution_count": 11
        }
      ]
    },
    {
      "cell_type": "code",
      "metadata": {
        "id": "c2jUNanD7gKr"
      },
      "source": [
        "trn_lbls = train_df.label\n",
        "val_lbls = valid_df.label\n",
        "lbs = list(range(len(labels)))"
      ],
      "execution_count": null,
      "outputs": []
    },
    {
      "cell_type": "code",
      "metadata": {
        "id": "a6orIcSa7gKt",
        "colab": {
          "base_uri": "https://localhost:8080/"
        },
        "outputId": "831e4601-67fd-470e-82c7-a4ddea7c3175"
      },
      "source": [
        "del train_df, valid_df\n",
        "gc.collect()"
      ],
      "execution_count": null,
      "outputs": [
        {
          "output_type": "execute_result",
          "data": {
            "text/plain": [
              "34"
            ]
          },
          "metadata": {
            "tags": []
          },
          "execution_count": 13
        }
      ]
    },
    {
      "cell_type": "code",
      "metadata": {
        "id": "Gn95Jnp_7gKw"
      },
      "source": [
        "bs = 64"
      ],
      "execution_count": null,
      "outputs": []
    },
    {
      "cell_type": "code",
      "metadata": {
        "id": "-p3QZbIM7gK0"
      },
      "source": [
        "tdb = TextClasDataBunch.from_tokens('.', trn_tok, trn_lbls, val_tok, val_lbls, vocab=v, max_vocab=200000, bs=bs)"
      ],
      "execution_count": null,
      "outputs": []
    },
    {
      "cell_type": "code",
      "metadata": {
        "id": "1bFEolG97gK8",
        "colab": {
          "base_uri": "https://localhost:8080/"
        },
        "outputId": "f9d66b9c-183c-4fa7-d57f-78c299dce8cb"
      },
      "source": [
        "del trn_tok, val_tok\n",
        "gc.collect()"
      ],
      "execution_count": null,
      "outputs": [
        {
          "output_type": "execute_result",
          "data": {
            "text/plain": [
              "0"
            ]
          },
          "metadata": {
            "tags": []
          },
          "execution_count": 16
        }
      ]
    },
    {
      "cell_type": "code",
      "metadata": {
        "id": "p-U4XM8Z7gK_"
      },
      "source": [
        "metrics = [accuracy, FBeta(beta=1, average=\"micro\")]"
      ],
      "execution_count": null,
      "outputs": []
    },
    {
      "cell_type": "code",
      "metadata": {
        "id": "7XuqCEss7gLD"
      },
      "source": [
        "config = dict(ctx_len=512, n_layers=2, n_heads=16, d_model=32, d_head=2, d_inner=64, resid_p=0.2, attn_p=0.2,\n",
        "                         ff_p=0.2, embed_p=0.2, output_p=0., bias=True, scale=True, act=Activation.GeLU, double_drop=False,\n",
        "                         init=init_transformer, mask=False)"
      ],
      "execution_count": null,
      "outputs": []
    },
    {
      "cell_type": "code",
      "metadata": {
        "id": "r54D8AQV7gLG"
      },
      "source": [
        "clf = text_classifier_learner(tdb, Transformer, drop_mult=0.5, metrics=metrics, \n",
        "                                pretrained=False, config=config)\n",
        "clf.summary()"
      ],
      "execution_count": null,
      "outputs": []
    },
    {
      "cell_type": "code",
      "metadata": {
        "id": "-8EJgYMM7gLS",
        "colab": {
          "base_uri": "https://localhost:8080/",
          "height": 374
        },
        "outputId": "bce67f1a-5f8d-4a11-9a7f-2185168e976f"
      },
      "source": [
        "clf.lr_find()\n",
        "clf.recorder.plot()"
      ],
      "execution_count": null,
      "outputs": [
        {
          "output_type": "display_data",
          "data": {
            "text/html": [
              "\n",
              "    <div>\n",
              "        <style>\n",
              "            /* Turns off some styling */\n",
              "            progress {\n",
              "                /* gets rid of default border in Firefox and Opera. */\n",
              "                border: none;\n",
              "                /* Needs to be in here for Safari polyfill so background images work as expected. */\n",
              "                background-size: auto;\n",
              "            }\n",
              "            .progress-bar-interrupted, .progress-bar-interrupted::-webkit-progress-bar {\n",
              "                background: #F44336;\n",
              "            }\n",
              "        </style>\n",
              "      <progress value='0' class='' max='1' style='width:300px; height:20px; vertical-align: middle;'></progress>\n",
              "      0.00% [0/1 00:00<00:00]\n",
              "    </div>\n",
              "    \n",
              "<table border=\"1\" class=\"dataframe\">\n",
              "  <thead>\n",
              "    <tr style=\"text-align: left;\">\n",
              "      <th>epoch</th>\n",
              "      <th>train_loss</th>\n",
              "      <th>valid_loss</th>\n",
              "      <th>accuracy</th>\n",
              "      <th>time</th>\n",
              "    </tr>\n",
              "  </thead>\n",
              "  <tbody>\n",
              "  </tbody>\n",
              "</table><p>\n",
              "\n",
              "    <div>\n",
              "        <style>\n",
              "            /* Turns off some styling */\n",
              "            progress {\n",
              "                /* gets rid of default border in Firefox and Opera. */\n",
              "                border: none;\n",
              "                /* Needs to be in here for Safari polyfill so background images work as expected. */\n",
              "                background-size: auto;\n",
              "            }\n",
              "            .progress-bar-interrupted, .progress-bar-interrupted::-webkit-progress-bar {\n",
              "                background: #F44336;\n",
              "            }\n",
              "        </style>\n",
              "      <progress value='95' class='' max='4367' style='width:300px; height:20px; vertical-align: middle;'></progress>\n",
              "      2.18% [95/4367 00:14<10:52 11.8335]\n",
              "    </div>\n",
              "    "
            ],
            "text/plain": [
              "<IPython.core.display.HTML object>"
            ]
          },
          "metadata": {
            "tags": []
          }
        },
        {
          "output_type": "stream",
          "text": [
            "LR Finder is complete, type {learner_name}.recorder.plot() to see the graph.\n"
          ],
          "name": "stdout"
        },
        {
          "output_type": "display_data",
          "data": {
            "image/png": "[encoded data removed]",
            "text/plain": [
              "<Figure size 432x288 with 1 Axes>"
            ]
          },
          "metadata": {
            "tags": [],
            "needs_background": "light"
          }
        }
      ]
    },
    {
      "cell_type": "code",
      "metadata": {
        "id": "yZdDhogY7gLV"
      },
      "source": [
        "cbs = [SaveModelCallback(clf, every='epoch', monitor='accuracy', name='transformer_model')]"
      ],
      "execution_count": null,
      "outputs": []
    },
    {
      "cell_type": "code",
      "metadata": {
        "id": "2XGXKDUE7gLY",
        "colab": {
          "base_uri": "https://localhost:8080/",
          "height": 219
        },
        "outputId": "91b12462-d2ad-4ef1-81e1-15d62d9636d3"
      },
      "source": [
        "clf.fit_one_cycle(5, 1e-02, callbacks=cbs)"
      ],
      "execution_count": null,
      "outputs": [
        {
          "output_type": "display_data",
          "data": {
            "text/html": [
              "\n",
              "    <div>\n",
              "        <style>\n",
              "            /* Turns off some styling */\n",
              "            progress {\n",
              "                /* gets rid of default border in Firefox and Opera. */\n",
              "                border: none;\n",
              "                /* Needs to be in here for Safari polyfill so background images work as expected. */\n",
              "                background-size: auto;\n",
              "            }\n",
              "            .progress-bar-interrupted, .progress-bar-interrupted::-webkit-progress-bar {\n",
              "                background: #F44336;\n",
              "            }\n",
              "        </style>\n",
              "      <progress value='4' class='' max='5' style='width:300px; height:20px; vertical-align: middle;'></progress>\n",
              "      80.00% [4/5 14:05<03:31]\n",
              "    </div>\n",
              "    \n",
              "<table border=\"1\" class=\"dataframe\">\n",
              "  <thead>\n",
              "    <tr style=\"text-align: left;\">\n",
              "      <th>epoch</th>\n",
              "      <th>train_loss</th>\n",
              "      <th>valid_loss</th>\n",
              "      <th>accuracy</th>\n",
              "      <th>time</th>\n",
              "    </tr>\n",
              "  </thead>\n",
              "  <tbody>\n",
              "    <tr>\n",
              "      <td>0</td>\n",
              "      <td>0.132423</td>\n",
              "      <td>0.926412</td>\n",
              "      <td>0.787995</td>\n",
              "      <td>03:15</td>\n",
              "    </tr>\n",
              "    <tr>\n",
              "      <td>1</td>\n",
              "      <td>0.084693</td>\n",
              "      <td>0.188463</td>\n",
              "      <td>0.958103</td>\n",
              "      <td>03:33</td>\n",
              "    </tr>\n",
              "    <tr>\n",
              "      <td>2</td>\n",
              "      <td>0.046533</td>\n",
              "      <td>0.056280</td>\n",
              "      <td>0.986613</td>\n",
              "      <td>03:27</td>\n",
              "    </tr>\n",
              "    <tr>\n",
              "      <td>3</td>\n",
              "      <td>0.039575</td>\n",
              "      <td>0.051874</td>\n",
              "      <td>0.988249</td>\n",
              "      <td>03:48</td>\n",
              "    </tr>\n",
              "  </tbody>\n",
              "</table><p>\n",
              "\n",
              "    <div>\n",
              "        <style>\n",
              "            /* Turns off some styling */\n",
              "            progress {\n",
              "                /* gets rid of default border in Firefox and Opera. */\n",
              "                border: none;\n",
              "                /* Needs to be in here for Safari polyfill so background images work as expected. */\n",
              "                background-size: auto;\n",
              "            }\n",
              "            .progress-bar-interrupted, .progress-bar-interrupted::-webkit-progress-bar {\n",
              "                background: #F44336;\n",
              "            }\n",
              "        </style>\n",
              "      <progress value='3635' class='' max='4367' style='width:300px; height:20px; vertical-align: middle;'></progress>\n",
              "      83.24% [3635/4367 02:33<00:30 0.0139]\n",
              "    </div>\n",
              "    "
            ],
            "text/plain": [
              "<IPython.core.display.HTML object>"
            ]
          },
          "metadata": {
            "tags": []
          }
        }
      ]
    },
    {
      "cell_type": "code",
      "metadata": {
        "id": "3IMwkfFD7gLa"
      },
      "source": [
        "clf.recorder.plot_losses()"
      ],
      "execution_count": null,
      "outputs": []
    }
  ]
}