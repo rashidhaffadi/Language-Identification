{
  "nbformat": 4,
  "nbformat_minor": 0,
  "metadata": {
    "colab": {
      "name": "Europarl_Deep_Learning.ipynb",
      "provenance": [],
      "collapsed_sections": [
        "S9tQFPLhjG0z",
        "ITDF2a-H8fv9",
        "3lSy2RUNQkfa",
        "7NhCCGwC8QF0",
        "wQJ3DzH1F24e",
        "qSSRVMA48392",
        "bp8pnTlgG7-w",
        "o8b_rZqGBixW"
      ]
    },
    "kernelspec": {
      "name": "python3",
      "display_name": "Python 3"
    },
    "accelerator": "GPU"
  },
  "cells": [
    {
      "cell_type": "code",
      "metadata": {
        "id": "cK-er9t5cpMN"
      },
      "source": [
        "%%capture\n",
        "!pip install path\n",
        "!pip install torchsummaryX\n",
        "!pip install fastcore\n",
        "!pip install fastscript"
      ],
      "execution_count": 8,
      "outputs": []
    },
    {
      "cell_type": "markdown",
      "metadata": {
        "id": "S9tQFPLhjG0z"
      },
      "source": [
        "# Utils"
      ]
    },
    {
      "cell_type": "code",
      "metadata": {
        "id": "LyqPsXF7NtL2",
        "colab": {
          "base_uri": "https://localhost:8080/"
        },
        "outputId": "cade5612-5891-4827-d18a-09c6aed90f4b"
      },
      "source": [
        "# # memory footprint support libraries/code\n",
        "# !ln -sf /opt/bin/nvidia-smi /usr/bin/nvidia-smi\n",
        "# !pip install gputil\n",
        "\n",
        "import psutil\n",
        "import humanize\n",
        "import os\n",
        "import GPUtil as GPU\n",
        "GPUs = GPU.getGPUs()\n",
        "\n",
        "# XXX: only one GPU on Colab and isn’t guaranteed\n",
        "gpu = GPUs[0]\n",
        "def printm():\n",
        "  process = psutil.Process(os.getpid())\n",
        "  print(\"Gen RAM Free: \" + humanize.naturalsize( psutil.virtual_memory().available ), \" | Proc size: \" + humanize.naturalsize( process.memory_info().rss))\n",
        "  print(\"GPU RAM Free: {0:.0f}MB | Used: {1:.0f}MB | Util {2:3.0f}% | Total {3:.0f}MB\".format(gpu.memoryFree, gpu.memoryUsed, gpu.memoryUtil*100, gpu.memoryTotal))\n",
        "\n",
        "printm()"
      ],
      "execution_count": null,
      "outputs": [
        {
          "output_type": "stream",
          "text": [
            "Gen RAM Free: 7.2 GB  | Proc size: 8.1 GB\n",
            "GPU RAM Free: 1932MB | Used: 13147MB | Util  87% | Total 15079MB\n"
          ],
          "name": "stdout"
        }
      ]
    },
    {
      "cell_type": "code",
      "metadata": {
        "id": "FbhV750nawTp"
      },
      "source": [
        "torch.cuda.empty_cache()"
      ],
      "execution_count": null,
      "outputs": []
    },
    {
      "cell_type": "code",
      "metadata": {
        "id": "Gr6swXhhclrw",
        "colab": {
          "base_uri": "https://localhost:8080/"
        },
        "outputId": "fdd630ca-fa3f-480e-d8ed-a556f053f584"
      },
      "source": [
        "printm()"
      ],
      "execution_count": null,
      "outputs": [
        {
          "output_type": "stream",
          "text": [
            "Gen RAM Free: 7.2 GB  | Proc size: 8.1 GB\n",
            "GPU RAM Free: 132MB | Used: 14947MB | Util  99% | Total 15079MB\n"
          ],
          "name": "stdout"
        }
      ]
    },
    {
      "cell_type": "code",
      "metadata": {
        "id": "USVwFTFcdXtj"
      },
      "source": [
        "import sys\n",
        "from types import ModuleType, FunctionType\n",
        "from gc import get_referents\n",
        "\n",
        "# Custom objects know their class.\n",
        "# Function objects seem to know way too much, including modules.\n",
        "# Exclude modules as well.\n",
        "BLACKLIST = type, ModuleType, FunctionType\n",
        "\n",
        "def getsize(obj):\n",
        "    \"\"\"sum size of object & members.\"\"\"\n",
        "    if isinstance(obj, BLACKLIST):\n",
        "        raise TypeError('getsize() does not take argument of type: '+ str(type(obj)))\n",
        "    seen_ids = set()\n",
        "    size = 0\n",
        "    objects = [obj]\n",
        "    while objects:\n",
        "        need_referents = []\n",
        "        for obj in objects:\n",
        "            if not isinstance(obj, BLACKLIST) and id(obj) not in seen_ids:\n",
        "                seen_ids.add(id(obj))\n",
        "                size += sys.getsizeof(obj)\n",
        "                need_referents.append(obj)\n",
        "        objects = get_referents(*need_referents)\n",
        "    return size"
      ],
      "execution_count": null,
      "outputs": []
    },
    {
      "cell_type": "code",
      "metadata": {
        "id": "GHY7ZGtagO0W",
        "colab": {
          "base_uri": "https://localhost:8080/"
        },
        "outputId": "0d6b5e84-b340-414a-8233-0a4aed0a8520"
      },
      "source": [
        "getsize(t_choices)/1024/1024"
      ],
      "execution_count": null,
      "outputs": [
        {
          "output_type": "execute_result",
          "data": {
            "text/plain": [
              "1.121612548828125"
            ]
          },
          "metadata": {
            "tags": []
          },
          "execution_count": 10
        }
      ]
    },
    {
      "cell_type": "code",
      "metadata": {
        "id": "mExhsnUug3sb"
      },
      "source": [
        ""
      ],
      "execution_count": null,
      "outputs": []
    },
    {
      "cell_type": "code",
      "metadata": {
        "id": "mGm_26ZoQT2h"
      },
      "source": [
        "# from text import *"
      ],
      "execution_count": null,
      "outputs": []
    },
    {
      "cell_type": "code",
      "metadata": {
        "id": "eGgFT8t18eKT"
      },
      "source": [
        "# from fastai import *\n",
        "# from fastai.text import *\n",
        "# from fastai.callbacks import *\n",
        "# import pandas as pd"
      ],
      "execution_count": null,
      "outputs": []
    },
    {
      "cell_type": "markdown",
      "metadata": {
        "id": "ITDF2a-H8fv9"
      },
      "source": [
        "# Download Dataset"
      ]
    },
    {
      "cell_type": "code",
      "metadata": {
        "id": "U7gvIm9tQfAQ",
        "colab": {
          "base_uri": "https://localhost:8080/"
        },
        "outputId": "e621db73-4680-4493-93e4-ff540dd1d646"
      },
      "source": [
        "!wget http://www.statmt.org/europarl/v7/europarl.tgz"
      ],
      "execution_count": null,
      "outputs": [
        {
          "output_type": "stream",
          "text": [
            "--2020-10-28 22:12:36--  http://www.statmt.org/europarl/v7/europarl.tgz\n",
            "Resolving www.statmt.org (www.statmt.org)... 129.215.197.184\n",
            "Connecting to www.statmt.org (www.statmt.org)|129.215.197.184|:80... connected.\n",
            "HTTP request sent, awaiting response... 200 OK\n",
            "Length: 1570461714 (1.5G) [application/x-gzip]\n",
            "Saving to: ‘europarl.tgz’\n",
            "\n",
            "europarl.tgz        100%[===================>]   1.46G   214KB/s    in 41m 48s \n",
            "\n",
            "2020-10-28 22:54:25 (611 KB/s) - ‘europarl.tgz’ saved [1570461714/1570461714]\n",
            "\n"
          ],
          "name": "stdout"
        }
      ]
    },
    {
      "cell_type": "code",
      "metadata": {
        "id": "A93wHnivQfDQ"
      },
      "source": [
        "%%capture\n",
        "!tar -xvf  '/content/europarl.tgz' -C '/content/tmp'"
      ],
      "execution_count": null,
      "outputs": []
    },
    {
      "cell_type": "markdown",
      "metadata": {
        "id": "mniIb-nQ8aW2"
      },
      "source": [
        ""
      ]
    },
    {
      "cell_type": "markdown",
      "metadata": {
        "id": "3lSy2RUNQkfa"
      },
      "source": [
        "# Create and Process Text Data"
      ]
    },
    {
      "cell_type": "code",
      "metadata": {
        "id": "w1Ldkqwkq1N_"
      },
      "source": [
        "from text import *"
      ],
      "execution_count": 54,
      "outputs": []
    },
    {
      "cell_type": "code",
      "metadata": {
        "id": "pDFXLLVJXg_G"
      },
      "source": [
        "max_words = 2000000\n",
        "max_lenght = 3 # between 2 and 20\n",
        "name = \"data\"\n",
        "n_jobs = 3\n",
        "p = 0.7\n",
        "\n",
        "# answer = input(\"do you need to create new dataset files (y/n)?: \")\n",
        "# answer = answer.lower()\n",
        "cfiles = False"
      ],
      "execution_count": 55,
      "outputs": []
    },
    {
      "cell_type": "code",
      "metadata": {
        "id": "dCKs6YNMS6Vq"
      },
      "source": [
        "%%time\n",
        "# df = main(labels, max_words, max_lenght, name, n_jobs, cfiles)\n",
        "df = create_dataframe(labels, create_files=cfiles, max_words=max_words, n_jobs=n_jobs)\n",
        "l = len(df)\n",
        "idxs = np.random.permutation(l)\n",
        "train_ds = df.loc[idxs[:int(p*l)]]\n",
        "valid_ds = df.loc[idxs[int(p*l)+1:]]\n",
        "train_ds.reset_index(drop=True, inplace=True)\n",
        "valid_ds.reset_index(drop=True, inplace=True)\n",
        "save_dataframe(\"train_ds\", train_ds)\n",
        "save_dataframe(\"valid_ds\", valid_ds)"
      ],
      "execution_count": null,
      "outputs": []
    },
    {
      "cell_type": "code",
      "metadata": {
        "id": "vMEuPunasq1n"
      },
      "source": [
        "# dataframe = create_dataframe(labels, create_files=cfiles, max_words=max_words, n_jobs=n_jobs)"
      ],
      "execution_count": 47,
      "outputs": []
    },
    {
      "cell_type": "code",
      "metadata": {
        "id": "X524bKB-s1Im"
      },
      "source": [
        "# dataframe.to_pickle(\"/content/{}0.pkl\".format(name))"
      ],
      "execution_count": 56,
      "outputs": []
    },
    {
      "cell_type": "code",
      "metadata": {
        "id": "bfUIkNGftOpF"
      },
      "source": [
        "# def assemble(x, y):\n",
        "#     ys = set(y)\n",
        "#     texts = {k:\"\" for k in ys}\n",
        "#     for x0, y0 in zip(x, y):\n",
        "#         x0 = \" \" + x0\n",
        "#         texts[y0] += x0\n",
        "#     xs = texts.values()\n",
        "#     return pd.DataFrame(xs), pd.Series(list(ys))"
      ],
      "execution_count": 57,
      "outputs": []
    },
    {
      "cell_type": "code",
      "metadata": {
        "id": "nFoW4-T0S8E0"
      },
      "source": [
        "# valid_df = pd.read_pickle(\"/content/drive/My Drive/europarl/valid_ds.pkl\")"
      ],
      "execution_count": 59,
      "outputs": []
    },
    {
      "cell_type": "code",
      "metadata": {
        "colab": {
          "base_uri": "https://localhost:8080/"
        },
        "id": "EECaeXcxuxgw",
        "outputId": "9ac29d81-4fda-4320-a803-57478278a6c8"
      },
      "source": [
        "# valid_df.columns"
      ],
      "execution_count": 60,
      "outputs": [
        {
          "output_type": "execute_result",
          "data": {
            "text/plain": [
              "Index(['text', 'label'], dtype='object')"
            ]
          },
          "metadata": {
            "tags": []
          },
          "execution_count": 60
        }
      ]
    },
    {
      "cell_type": "code",
      "metadata": {
        "id": "G0-1CxoEumZ_"
      },
      "source": [
        "# d = assemble(valid_df[\"text\"].values, valid_df[\"label\"].values)"
      ],
      "execution_count": null,
      "outputs": []
    },
    {
      "cell_type": "markdown",
      "metadata": {
        "id": "7NhCCGwC8QF0"
      },
      "source": [
        "# Mount Google Drive"
      ]
    },
    {
      "cell_type": "code",
      "metadata": {
        "id": "iC1CBNbC5XDy",
        "colab": {
          "base_uri": "https://localhost:8080/"
        },
        "outputId": "96ea7963-802f-4dbb-8750-e950402c97b0"
      },
      "source": [
        "from google.colab import drive\n",
        "drive.mount('/content/drive')"
      ],
      "execution_count": null,
      "outputs": [
        {
          "output_type": "stream",
          "text": [
            "Mounted at /content/drive\n"
          ],
          "name": "stdout"
        }
      ]
    },
    {
      "cell_type": "code",
      "metadata": {
        "id": "FoOTEJcF5hll"
      },
      "source": [
        "# !cp -R \"/content/europarl\" \"/content/drive/My Drive/\""
      ],
      "execution_count": null,
      "outputs": []
    },
    {
      "cell_type": "code",
      "metadata": {
        "id": "L8a-aecHF2Xa"
      },
      "source": [
        ""
      ],
      "execution_count": null,
      "outputs": []
    },
    {
      "cell_type": "markdown",
      "metadata": {
        "id": "wQJ3DzH1F24e"
      },
      "source": [
        "# Clone Repository"
      ]
    },
    {
      "cell_type": "code",
      "metadata": {
        "colab": {
          "base_uri": "https://localhost:8080/"
        },
        "id": "kqsQabeIF6tv",
        "outputId": "22b397ef-8fc0-4650-917a-73dc34e2ed27"
      },
      "source": [
        "!git clone https://github.com/rashidhaffadi/Language-Identification.git"
      ],
      "execution_count": 14,
      "outputs": [
        {
          "output_type": "stream",
          "text": [
            "fatal: destination path 'Language-Identification' already exists and is not an empty directory.\n"
          ],
          "name": "stdout"
        }
      ]
    },
    {
      "cell_type": "code",
      "metadata": {
        "id": "SYGmG0AAGZVv"
      },
      "source": [
        "cp -r /content/Language-Identification/* /content/"
      ],
      "execution_count": 16,
      "outputs": []
    },
    {
      "cell_type": "code",
      "metadata": {
        "id": "MoFqsvHOF-qT"
      },
      "source": [
        "rm -R /content/*"
      ],
      "execution_count": 12,
      "outputs": []
    },
    {
      "cell_type": "markdown",
      "metadata": {
        "id": "qSSRVMA48392"
      },
      "source": [
        "# Train AWD_LSTM Model Using Custom Tokenization"
      ]
    },
    {
      "cell_type": "code",
      "metadata": {
        "id": "Aq-P7D9FivXi",
        "colab": {
          "base_uri": "https://localhost:8080/"
        },
        "outputId": "963614f0-f58b-4784-924c-d2a38d44220f"
      },
      "source": [
        "from google.colab import drive\n",
        "drive.mount('/content/drive')"
      ],
      "execution_count": 21,
      "outputs": [
        {
          "output_type": "stream",
          "text": [
            "Mounted at /content/drive\n"
          ],
          "name": "stdout"
        }
      ]
    },
    {
      "cell_type": "code",
      "metadata": {
        "id": "wZj2zngRSxs0"
      },
      "source": [
        "! cp \"/content/drive/My Drive/europarl/tokenizer.pkl\" /content/tokenizer.pkl\n",
        "! cp  \"/content/drive/My Drive/europarl/text.py\" /content/text.py\n",
        "! cp  \"/content/drive/My Drive/europarl/tokenizer.py\" /content/tokenizer.py\n",
        "! cp  \"/content/drive/My Drive/europarl/vocab.py\" /content/vocab.py"
      ],
      "execution_count": 1,
      "outputs": []
    },
    {
      "cell_type": "code",
      "metadata": {
        "id": "KiJ-CQyKMQCe"
      },
      "source": [
        "from tokenizer import SpecialTokenizer, _default_tokenizer\n",
        "from fastai.text.models.transformer import init_transformer\n",
        "from fastai import *\n",
        "from fastai.text import *\n",
        "from fastai.callbacks import *\n",
        "import pandas as pd\n",
        "import numpy as np\n",
        "import gc"
      ],
      "execution_count": 1,
      "outputs": []
    },
    {
      "cell_type": "code",
      "metadata": {
        "id": "cJCv8HstZpfy"
      },
      "source": [
        "labels=['bg','cs','da','de','el','en','es','et','fi','fr',\n",
        "        'hu','it','lt','lv','nl','pl','pt','ro','sk','sl','sv']"
      ],
      "execution_count": 2,
      "outputs": []
    },
    {
      "cell_type": "code",
      "metadata": {
        "id": "_edih0A_J7iC",
        "colab": {
          "base_uri": "https://localhost:8080/"
        },
        "outputId": "7dd13dc6-85ea-4394-fff8-afb26a5aeaa6"
      },
      "source": [
        "train_df = pd.read_pickle(\"/content/drive/My Drive/europarl/train_ds.pkl\")\n",
        "valid_df = pd.read_pickle(\"/content/drive/My Drive/europarl/valid_ds.pkl\")\n",
        "train_df.shape, valid_df.shape"
      ],
      "execution_count": 3,
      "outputs": [
        {
          "output_type": "execute_result",
          "data": {
            "text/plain": [
              "((2718013, 2), (1164863, 2))"
            ]
          },
          "metadata": {
            "tags": []
          },
          "execution_count": 3
        }
      ]
    },
    {
      "cell_type": "code",
      "metadata": {
        "id": "8dwojsXL5ZNH"
      },
      "source": [
        "# np.random.seed(1)\n",
        "t_choices = np.random.choice(len(train_df), int(210000*0.7))\n",
        "v_choices = np.random.choice(len(valid_df), int(210000*0.3))"
      ],
      "execution_count": 4,
      "outputs": []
    },
    {
      "cell_type": "code",
      "metadata": {
        "id": "Q0JsPITwA6DP"
      },
      "source": [
        "def sup_two(row):\n",
        "    if len(row['text'].split()) <= 2 : return 0\n",
        "    else: return row['text']"
      ],
      "execution_count": 5,
      "outputs": []
    },
    {
      "cell_type": "code",
      "metadata": {
        "id": "FsTe874YWX_d",
        "colab": {
          "base_uri": "https://localhost:8080/"
        },
        "outputId": "d5025aa3-bb9f-4565-aeae-ae6f39d87b38"
      },
      "source": [
        "# taking sample\n",
        "train_df = train_df.loc[t_choices]\n",
        "valid_df = valid_df.loc[v_choices]\n",
        "\n",
        "train_df['text'] = train_df.apply(sup_two, axis=1)\n",
        "valid_df['text'] = valid_df.apply(sup_two, axis=1)\n",
        "\n",
        "train_df = train_df[train_df.text != False]\n",
        "valid_df = valid_df[valid_df.text != False]\n",
        "\n",
        "train_df.reset_index(drop=True, inplace=True)\n",
        "valid_df.reset_index(drop=True, inplace=True)\n",
        "\n",
        "train_df.shape, valid_df.shape"
      ],
      "execution_count": 6,
      "outputs": [
        {
          "output_type": "execute_result",
          "data": {
            "text/plain": [
              "((132361, 2), (56621, 2))"
            ]
          },
          "metadata": {
            "tags": []
          },
          "execution_count": 6
        }
      ]
    },
    {
      "cell_type": "code",
      "metadata": {
        "id": "6JMmVxqqD7Pg",
        "colab": {
          "base_uri": "https://localhost:8080/"
        },
        "outputId": "6ca022ff-c66f-4a65-d774-94cceab8627e"
      },
      "source": [
        "max_len = max([len(x.split()) for x in train_df.text])\n",
        "min_len = min([len(x.split()) for x in train_df.text])\n",
        "max_len, min_len"
      ],
      "execution_count": 7,
      "outputs": [
        {
          "output_type": "execute_result",
          "data": {
            "text/plain": [
              "(21, 3)"
            ]
          },
          "metadata": {
            "tags": []
          },
          "execution_count": 7
        }
      ]
    },
    {
      "cell_type": "code",
      "metadata": {
        "id": "pmRgjZidKbN_"
      },
      "source": [
        "t = SpecialTokenizer.from_pickle(\"/content/tokenizer.pkl\")"
      ],
      "execution_count": 8,
      "outputs": []
    },
    {
      "cell_type": "code",
      "metadata": {
        "id": "mA84sQxMK0uo"
      },
      "source": [
        "def get_tokens(t):\n",
        "    return list(t.vocab.get_vocab().keys())\n",
        "v = Vocab(get_tokens(t))"
      ],
      "execution_count": 9,
      "outputs": []
    },
    {
      "cell_type": "code",
      "metadata": {
        "id": "sXwl8eeOK1s6"
      },
      "source": [
        "def flatten(rank_2):\n",
        "    return list(itertools.chain.from_iterable(rank_2))"
      ],
      "execution_count": 10,
      "outputs": []
    },
    {
      "cell_type": "code",
      "metadata": {
        "id": "MECsKcH-Mznq",
        "colab": {
          "base_uri": "https://localhost:8080/"
        },
        "outputId": "c5c66bad-df11-4869-843b-eb348efdf006"
      },
      "source": [
        "trn_tok = [flatten(t.tokenize_single(x)) for x in train_df['text']]\n",
        "val_tok = [flatten(t.tokenize_single(x)) for x in valid_df['text']]\n",
        "len(trn_tok), len(val_tok)"
      ],
      "execution_count": 11,
      "outputs": [
        {
          "output_type": "execute_result",
          "data": {
            "text/plain": [
              "(132361, 56621)"
            ]
          },
          "metadata": {
            "tags": []
          },
          "execution_count": 11
        }
      ]
    },
    {
      "cell_type": "code",
      "metadata": {
        "id": "Dwp7A_N-vKy1"
      },
      "source": [
        "# print(\"size: {}\".format(getsize(trn_tok)/1024/1024))"
      ],
      "execution_count": 12,
      "outputs": []
    },
    {
      "cell_type": "code",
      "metadata": {
        "id": "_YndP0V7M6v-"
      },
      "source": [
        "trn_lbls = train_df.label\n",
        "val_lbls = valid_df.label\n",
        "lbs = list(range(len(labels)))"
      ],
      "execution_count": 13,
      "outputs": []
    },
    {
      "cell_type": "code",
      "metadata": {
        "id": "g1uprSvKdWI3",
        "colab": {
          "base_uri": "https://localhost:8080/"
        },
        "outputId": "a9250377-e5d1-4fa9-fe78-bd456033717e"
      },
      "source": [
        "del train_df, valid_df\n",
        "gc.collect()"
      ],
      "execution_count": 14,
      "outputs": [
        {
          "output_type": "execute_result",
          "data": {
            "text/plain": [
              "0"
            ]
          },
          "metadata": {
            "tags": []
          },
          "execution_count": 14
        }
      ]
    },
    {
      "cell_type": "code",
      "metadata": {
        "id": "h0Nzu9dFaS30"
      },
      "source": [
        "bs = 64"
      ],
      "execution_count": 15,
      "outputs": []
    },
    {
      "cell_type": "code",
      "metadata": {
        "id": "s_R0E0zxOeHF"
      },
      "source": [
        "tdb = TextClasDataBunch.from_tokens('.', trn_tok, trn_lbls, val_tok, val_lbls, vocab=v, max_vocab=200000, bs=bs)"
      ],
      "execution_count": 16,
      "outputs": []
    },
    {
      "cell_type": "code",
      "metadata": {
        "id": "-vmL7fkRZF2k",
        "colab": {
          "base_uri": "https://localhost:8080/"
        },
        "outputId": "1bac730e-32cf-4dcb-ba89-47be2beec7a0"
      },
      "source": [
        "del trn_tok, val_tok\n",
        "gc.collect()"
      ],
      "execution_count": 17,
      "outputs": [
        {
          "output_type": "execute_result",
          "data": {
            "text/plain": [
              "0"
            ]
          },
          "metadata": {
            "tags": []
          },
          "execution_count": 17
        }
      ]
    },
    {
      "cell_type": "code",
      "metadata": {
        "id": "4qkTiwtOVuvJ"
      },
      "source": [
        "metrics = [accuracy, FBeta(beta=1)]"
      ],
      "execution_count": 23,
      "outputs": []
    },
    {
      "cell_type": "code",
      "metadata": {
        "id": "_4DLXvxo-oqf"
      },
      "source": [
        "config = dict(emb_sz=64*4, n_hid=32, n_layers=4, pad_token=0, qrnn=False, bidir=False, output_p=0.4,\n",
        "                hidden_p=0.3, input_p=0.4, embed_p=0.05, weight_p=0.5)"
      ],
      "execution_count": 27,
      "outputs": []
    },
    {
      "cell_type": "code",
      "metadata": {
        "id": "MXQ8MVk4V4BR",
        "colab": {
          "base_uri": "https://localhost:8080/",
          "height": 656
        },
        "outputId": "7a793f28-8110-45ab-b163-7bcb9183f5fd"
      },
      "source": [
        "clf = text_classifier_learner(tdb, AWD_LSTM, drop_mult=0.1, metrics=metrics, \n",
        "                                pretrained=False, config=config)\n",
        "clf.summary()"
      ],
      "execution_count": 28,
      "outputs": [
        {
          "output_type": "execute_result",
          "data": {
            "application/vnd.google.colaboratory.intrinsic+json": {
              "type": "string"
            },
            "text/plain": [
              "SequentialRNN\n",
              "======================================================================\n",
              "Layer (type)         Output Shape         Param #    Trainable \n",
              "======================================================================\n",
              "RNNDropout           [25, 256]            0          False     \n",
              "______________________________________________________________________\n",
              "RNNDropout           [25, 32]             0          False     \n",
              "______________________________________________________________________\n",
              "RNNDropout           [25, 32]             0          False     \n",
              "______________________________________________________________________\n",
              "RNNDropout           [25, 32]             0          False     \n",
              "______________________________________________________________________\n",
              "BatchNorm1d          [768]                1,536      True      \n",
              "______________________________________________________________________\n",
              "Dropout              [768]                0          False     \n",
              "______________________________________________________________________\n",
              "Linear               [50]                 38,450     True      \n",
              "______________________________________________________________________\n",
              "ReLU                 [50]                 0          False     \n",
              "______________________________________________________________________\n",
              "BatchNorm1d          [50]                 100        True      \n",
              "______________________________________________________________________\n",
              "Dropout              [50]                 0          False     \n",
              "______________________________________________________________________\n",
              "Linear               [21]                 1,071      True      \n",
              "______________________________________________________________________\n",
              "\n",
              "Total params: 41,157\n",
              "Total trainable params: 41,157\n",
              "Total non-trainable params: 0\n",
              "Optimized with 'torch.optim.adam.Adam', betas=(0.9, 0.99)\n",
              "Using true weight decay as discussed in https://www.fast.ai/2018/07/02/adam-weight-decay/ \n",
              "Loss function : FlattenedLoss\n",
              "======================================================================\n",
              "Callbacks functions applied \n",
              "    RNNTrainer"
            ]
          },
          "metadata": {
            "tags": []
          },
          "execution_count": 28
        }
      ]
    },
    {
      "cell_type": "code",
      "metadata": {
        "id": "cbVUQyovV7Af"
      },
      "source": [
        "# learn.freeze()"
      ],
      "execution_count": null,
      "outputs": []
    },
    {
      "cell_type": "code",
      "metadata": {
        "id": "zUmBl4DrV_2r",
        "colab": {
          "base_uri": "https://localhost:8080/",
          "height": 373
        },
        "outputId": "7eabe6d5-6311-4fd4-a0d5-fd6da829abb9"
      },
      "source": [
        "clf.lr_find()\n",
        "clf.recorder.plot()"
      ],
      "execution_count": 22,
      "outputs": [
        {
          "output_type": "display_data",
          "data": {
            "text/html": [
              "\n",
              "    <div>\n",
              "        <style>\n",
              "            /* Turns off some styling */\n",
              "            progress {\n",
              "                /* gets rid of default border in Firefox and Opera. */\n",
              "                border: none;\n",
              "                /* Needs to be in here for Safari polyfill so background images work as expected. */\n",
              "                background-size: auto;\n",
              "            }\n",
              "            .progress-bar-interrupted, .progress-bar-interrupted::-webkit-progress-bar {\n",
              "                background: #F44336;\n",
              "            }\n",
              "        </style>\n",
              "      <progress value='0' class='' max='1' style='width:300px; height:20px; vertical-align: middle;'></progress>\n",
              "      0.00% [0/1 00:00<00:00]\n",
              "    </div>\n",
              "    \n",
              "<table border=\"1\" class=\"dataframe\">\n",
              "  <thead>\n",
              "    <tr style=\"text-align: left;\">\n",
              "      <th>epoch</th>\n",
              "      <th>train_loss</th>\n",
              "      <th>valid_loss</th>\n",
              "      <th>accuracy</th>\n",
              "      <th>f_beta</th>\n",
              "      <th>time</th>\n",
              "    </tr>\n",
              "  </thead>\n",
              "  <tbody>\n",
              "  </tbody>\n",
              "</table><p>\n",
              "\n",
              "    <div>\n",
              "        <style>\n",
              "            /* Turns off some styling */\n",
              "            progress {\n",
              "                /* gets rid of default border in Firefox and Opera. */\n",
              "                border: none;\n",
              "                /* Needs to be in here for Safari polyfill so background images work as expected. */\n",
              "                background-size: auto;\n",
              "            }\n",
              "            .progress-bar-interrupted, .progress-bar-interrupted::-webkit-progress-bar {\n",
              "                background: #F44336;\n",
              "            }\n",
              "        </style>\n",
              "      <progress value='95' class='' max='2183' style='width:300px; height:20px; vertical-align: middle;'></progress>\n",
              "      4.35% [95/2183 00:22<08:20 12.4377]\n",
              "    </div>\n",
              "    "
            ],
            "text/plain": [
              "<IPython.core.display.HTML object>"
            ]
          },
          "metadata": {
            "tags": []
          }
        },
        {
          "output_type": "stream",
          "text": [
            "LR Finder is complete, type {learner_name}.recorder.plot() to see the graph.\n"
          ],
          "name": "stdout"
        },
        {
          "output_type": "display_data",
          "data": {
            "image/png": "[encoded data removed]",
            "text/plain": [
              "<Figure size 432x288 with 1 Axes>"
            ]
          },
          "metadata": {
            "tags": [],
            "needs_background": "light"
          }
        }
      ]
    },
    {
      "cell_type": "code",
      "metadata": {
        "id": "CQsGwHp6pAn6"
      },
      "source": [
        "cbs = [SaveModelCallback(clf, every='epoch', monitor='accuracy', name='awd_model')]"
      ],
      "execution_count": 21,
      "outputs": []
    },
    {
      "cell_type": "code",
      "metadata": {
        "id": "rUaEHAV_WD4R",
        "colab": {
          "base_uri": "https://localhost:8080/",
          "height": 395
        },
        "outputId": "c4b349bc-2187-45dc-d5c8-633d6c0273a5"
      },
      "source": [
        "clf.fit_one_cycle(5, 1e-03, callbacks=cbs)"
      ],
      "execution_count": 29,
      "outputs": [
        {
          "output_type": "display_data",
          "data": {
            "text/html": [
              "<table border=\"1\" class=\"dataframe\">\n",
              "  <thead>\n",
              "    <tr style=\"text-align: left;\">\n",
              "      <th>epoch</th>\n",
              "      <th>train_loss</th>\n",
              "      <th>valid_loss</th>\n",
              "      <th>accuracy</th>\n",
              "      <th>f_beta</th>\n",
              "      <th>time</th>\n",
              "    </tr>\n",
              "  </thead>\n",
              "  <tbody>\n",
              "    <tr>\n",
              "      <td>0</td>\n",
              "      <td>0.078121</td>\n",
              "      <td>0.093946</td>\n",
              "      <td>0.971530</td>\n",
              "      <td>0.971721</td>\n",
              "      <td>05:09</td>\n",
              "    </tr>\n",
              "    <tr>\n",
              "      <td>1</td>\n",
              "      <td>0.079514</td>\n",
              "      <td>0.058298</td>\n",
              "      <td>0.982904</td>\n",
              "      <td>0.983037</td>\n",
              "      <td>04:33</td>\n",
              "    </tr>\n",
              "    <tr>\n",
              "      <td>2</td>\n",
              "      <td>0.037626</td>\n",
              "      <td>0.039631</td>\n",
              "      <td>0.989103</td>\n",
              "      <td>0.989131</td>\n",
              "      <td>04:32</td>\n",
              "    </tr>\n",
              "    <tr>\n",
              "      <td>3</td>\n",
              "      <td>0.019760</td>\n",
              "      <td>0.029084</td>\n",
              "      <td>0.992211</td>\n",
              "      <td>0.992217</td>\n",
              "      <td>04:39</td>\n",
              "    </tr>\n",
              "    <tr>\n",
              "      <td>4</td>\n",
              "      <td>0.004781</td>\n",
              "      <td>0.024959</td>\n",
              "      <td>0.993748</td>\n",
              "      <td>0.993738</td>\n",
              "      <td>05:04</td>\n",
              "    </tr>\n",
              "  </tbody>\n",
              "</table>"
            ],
            "text/plain": [
              "<IPython.core.display.HTML object>"
            ]
          },
          "metadata": {
            "tags": []
          }
        },
        {
          "output_type": "stream",
          "text": [
            "/usr/local/lib/python3.6/dist-packages/fastai/metrics.py:191: UserWarning: average=`binary` was selected for a non binary case. Value for average has now been set to `macro` instead.\n",
            "  warn(\"average=`binary` was selected for a non binary case. Value for average has now been set to `macro` instead.\")\n",
            "/usr/local/lib/python3.6/dist-packages/fastai/metrics.py:191: UserWarning: average=`binary` was selected for a non binary case. Value for average has now been set to `macro` instead.\n",
            "  warn(\"average=`binary` was selected for a non binary case. Value for average has now been set to `macro` instead.\")\n",
            "/usr/local/lib/python3.6/dist-packages/fastai/metrics.py:191: UserWarning: average=`binary` was selected for a non binary case. Value for average has now been set to `macro` instead.\n",
            "  warn(\"average=`binary` was selected for a non binary case. Value for average has now been set to `macro` instead.\")\n",
            "/usr/local/lib/python3.6/dist-packages/fastai/metrics.py:191: UserWarning: average=`binary` was selected for a non binary case. Value for average has now been set to `macro` instead.\n",
            "  warn(\"average=`binary` was selected for a non binary case. Value for average has now been set to `macro` instead.\")\n",
            "/usr/local/lib/python3.6/dist-packages/fastai/metrics.py:191: UserWarning: average=`binary` was selected for a non binary case. Value for average has now been set to `macro` instead.\n",
            "  warn(\"average=`binary` was selected for a non binary case. Value for average has now been set to `macro` instead.\")\n"
          ],
          "name": "stderr"
        }
      ]
    },
    {
      "cell_type": "code",
      "metadata": {
        "colab": {
          "base_uri": "https://localhost:8080/",
          "height": 496
        },
        "id": "bgS3uccshrzE",
        "outputId": "66a7f11f-3b88-4e0a-d6bc-64ced79dc9b9"
      },
      "source": [
        "clf.recorder.plot_metrics(show_grid=True)"
      ],
      "execution_count": 31,
      "outputs": [
        {
          "output_type": "display_data",
          "data": {
            "image/png": "[encoded data removed]",
            "text/plain": [
              "<Figure size 432x576 with 2 Axes>"
            ]
          },
          "metadata": {
            "tags": [],
            "needs_background": "light"
          }
        }
      ]
    },
    {
      "cell_type": "code",
      "metadata": {
        "id": "_yH9a4kTWD2V",
        "colab": {
          "base_uri": "https://localhost:8080/",
          "height": 280
        },
        "outputId": "1dabfe02-b315-4eb2-a5e4-c88a4fe6825c"
      },
      "source": [
        "clf.recorder.plot_losses(show_grid=True)"
      ],
      "execution_count": 30,
      "outputs": [
        {
          "output_type": "display_data",
          "data": {
            "image/png": "[encoded data removed]",
            "text/plain": [
              "<Figure size 432x288 with 1 Axes>"
            ]
          },
          "metadata": {
            "tags": [],
            "needs_background": "light"
          }
        }
      ]
    },
    {
      "cell_type": "code",
      "metadata": {
        "id": "WPCgvCQTnhmV"
      },
      "source": [
        ""
      ],
      "execution_count": null,
      "outputs": []
    },
    {
      "cell_type": "markdown",
      "metadata": {
        "id": "bp8pnTlgG7-w"
      },
      "source": [
        "# AWD_LSTM2"
      ]
    },
    {
      "cell_type": "code",
      "metadata": {
        "id": "G4pZZ-KGGyK3"
      },
      "source": [
        "from awd_lstm import *"
      ],
      "execution_count": 37,
      "outputs": []
    },
    {
      "cell_type": "code",
      "metadata": {
        "id": "EHaXvHv4Ks6v"
      },
      "source": [
        "! cp \"/content/drive/My Drive/europarl/tokenizer.pkl\" /content/tokenizer.pkl\n",
        "! cp \"/content/drive/My Drive/europarl/train_ds.pkl\" /content/train_ds.pkl\n",
        "! cp \"/content/drive/My Drive/europarl/valid_ds.pkl\" /content/valid_ds.pkl"
      ],
      "execution_count": 35,
      "outputs": []
    },
    {
      "cell_type": "code",
      "metadata": {
        "id": "ABFBvURHMfJO"
      },
      "source": [
        "trn, val, tst = read_ds(\"/content/drive/My Drive/europarl/train_ds.pkl\", \"/content/drive/My Drive/europarl/valid_ds.pkl\")\n",
        "t = SpecialTokenizer.from_pickle(\"/content/tokenizer.pkl\")"
      ],
      "execution_count": 30,
      "outputs": []
    },
    {
      "cell_type": "code",
      "metadata": {
        "id": "DzmRGXz3NCPo"
      },
      "source": [
        "trn, val = sample(200000, trn, val, p=0.7)"
      ],
      "execution_count": 31,
      "outputs": []
    },
    {
      "cell_type": "code",
      "metadata": {
        "id": "xW82-fPrNNPp"
      },
      "source": [
        "v = Vocab(get_tokens(t))\n",
        "trn_tok = tokenize(t, trn_df[\"text\"])\n",
        "val_tok = tokenize(t, val_df[\"text\"])\n",
        "trn_lbls = trn_df.label\n",
        "val_lbls = val_df.label\n",
        "print(len(trn_tok))\n",
        "# tdb = TextClasDataBunch.from_tokens(path, trn_tok, trn_lbls, val_tok, val_lbls, vocab=v, max_vocab=max_vocab, bs=bs)"
      ],
      "execution_count": null,
      "outputs": []
    },
    {
      "cell_type": "code",
      "metadata": {
        "colab": {
          "base_uri": "https://localhost:8080/"
        },
        "id": "IMisWxkZJFRQ",
        "outputId": "daf16903-fe0b-4358-e92f-d9c759be30e9"
      },
      "source": [
        "model = main(5)"
      ],
      "execution_count": null,
      "outputs": [
        {
          "output_type": "stream",
          "text": [
            "--KeyboardInterrupt--\n"
          ],
          "name": "stdout"
        }
      ]
    },
    {
      "cell_type": "code",
      "metadata": {
        "id": "hSu4aV8SJVht"
      },
      "source": [
        ""
      ],
      "execution_count": null,
      "outputs": []
    },
    {
      "cell_type": "markdown",
      "metadata": {
        "id": "5wO5K5_IjL0Y"
      },
      "source": [
        "# Sequence Model"
      ]
    },
    {
      "cell_type": "code",
      "metadata": {
        "id": "XUrs0zO-zqR4"
      },
      "source": [
        "%load_ext autoreload\n",
        "%autoreload 2\n",
        "%matplotlib inline"
      ],
      "execution_count": 1,
      "outputs": []
    },
    {
      "cell_type": "code",
      "metadata": {
        "id": "t4Im6aUu_QXv",
        "colab": {
          "base_uri": "https://localhost:8080/"
        },
        "outputId": "d1e1e747-0aa4-4495-a8c7-1d4ddb48a057"
      },
      "source": [
        "from google.colab import drive\n",
        "drive.mount('/content/drive')"
      ],
      "execution_count": null,
      "outputs": [
        {
          "output_type": "stream",
          "text": [
            "Mounted at /content/drive\n"
          ],
          "name": "stdout"
        }
      ]
    },
    {
      "cell_type": "code",
      "metadata": {
        "id": "7XJ2tQGzwtSe"
      },
      "source": [
        "! cp \"/content/drive/My Drive/europarl/tokenizer.pkl\" /content/tokenizer.pkl \n",
        "! cp  \"/content/drive/My Drive/europarl/text.py\" /content/text.py\n",
        "! cp  \"/content/drive/My Drive/europarl/tokenizer.py\" /content/tokenizer.py\n",
        "! cp  \"/content/drive/My Drive/europarl/vocab.py\" /content/vocab.py"
      ],
      "execution_count": null,
      "outputs": []
    },
    {
      "cell_type": "code",
      "metadata": {
        "id": "_6IOfniC_0Wj"
      },
      "source": [
        "from tokenizer import SpecialTokenizer, _default_tokenizer\n",
        "from fastai import *\n",
        "from fastai.text import *\n",
        "from fastai.callbacks import *\n",
        "import pandas as pd\n",
        "import numpy as np\n",
        "import gc\n",
        "from torch.nn.utils.rnn import pack_padded_sequence, pad_packed_sequence\n",
        "from torchsummaryX import summary"
      ],
      "execution_count": 4,
      "outputs": []
    },
    {
      "cell_type": "code",
      "metadata": {
        "id": "rs-M68wh_0Wv"
      },
      "source": [
        "labels=['bg','cs','da','de','el','en','es','et','fi','fr',\n",
        "        'hu','it','lt','lv','nl','pl','pt','ro','sk','sl','sv']"
      ],
      "execution_count": 5,
      "outputs": []
    },
    {
      "cell_type": "code",
      "metadata": {
        "id": "Eh7dPHP1_0Wz",
        "colab": {
          "base_uri": "https://localhost:8080/"
        },
        "outputId": "cc63a9f2-16a3-456f-def4-21da679591cb"
      },
      "source": [
        "train_df = pd.read_pickle(\"/content/drive/My Drive/europarl/train_ds.pkl\")\n",
        "valid_df = pd.read_pickle(\"/content/drive/My Drive/europarl/valid_ds.pkl\")\n",
        "train_df.shape, valid_df.shape"
      ],
      "execution_count": 6,
      "outputs": [
        {
          "output_type": "execute_result",
          "data": {
            "text/plain": [
              "((2718013, 2), (1164863, 2))"
            ]
          },
          "metadata": {
            "tags": []
          },
          "execution_count": 6
        }
      ]
    },
    {
      "cell_type": "code",
      "metadata": {
        "id": "WRQO0J6d_0W4"
      },
      "source": [
        "np.random.seed(1)\n",
        "t_choices = np.random.choice(len(train_df), int(105000*4*0.7))\n",
        "v_choices = np.random.choice(len(valid_df), int(105000*4*0.3))"
      ],
      "execution_count": 7,
      "outputs": []
    },
    {
      "cell_type": "code",
      "metadata": {
        "id": "2EJuHRrS_0W7"
      },
      "source": [
        "def sup_two(row):\n",
        "    if len(row['text'].split()) <= 1: return 0\n",
        "    else: return row['text']"
      ],
      "execution_count": 8,
      "outputs": []
    },
    {
      "cell_type": "code",
      "metadata": {
        "id": "7xdMY8rM_0W9",
        "colab": {
          "base_uri": "https://localhost:8080/"
        },
        "outputId": "f8d3cb0b-910d-454b-e213-334f9ac06b98"
      },
      "source": [
        "# taking sample\n",
        "train_df = train_df.loc[t_choices]\n",
        "valid_df = valid_df.loc[v_choices]\n",
        "\n",
        "train_df['text'] = train_df.apply(sup_two, axis=1)\n",
        "valid_df['text'] = valid_df.apply(sup_two, axis=1)\n",
        "\n",
        "train_df = train_df[train_df.text != False]\n",
        "valid_df = valid_df[valid_df.text != False]\n",
        "\n",
        "train_df.reset_index(drop=True, inplace=True)\n",
        "valid_df.reset_index(drop=True, inplace=True)\n",
        "\n",
        "train_df.shape, valid_df.shape"
      ],
      "execution_count": 9,
      "outputs": [
        {
          "output_type": "execute_result",
          "data": {
            "text/plain": [
              "((279444, 2), (119541, 2))"
            ]
          },
          "metadata": {
            "tags": []
          },
          "execution_count": 9
        }
      ]
    },
    {
      "cell_type": "code",
      "metadata": {
        "id": "M-PNDwvUw3qG"
      },
      "source": [
        "# train_df.groupby('label').size(), valid_df.groupby('label').size()"
      ],
      "execution_count": null,
      "outputs": []
    },
    {
      "cell_type": "code",
      "metadata": {
        "id": "XrCf0guh_0XA",
        "colab": {
          "base_uri": "https://localhost:8080/"
        },
        "outputId": "91512b59-a46d-4c61-add8-80d0b12aba2b"
      },
      "source": [
        "max_len = max([len(x.split()) for x in train_df.text])\n",
        "min_len = min([len(x.split()) for x in train_df.text])\n",
        "max_len, min_len"
      ],
      "execution_count": 10,
      "outputs": [
        {
          "output_type": "execute_result",
          "data": {
            "text/plain": [
              "(23, 2)"
            ]
          },
          "metadata": {
            "tags": []
          },
          "execution_count": 10
        }
      ]
    },
    {
      "cell_type": "code",
      "metadata": {
        "id": "BKqGN7x1_0XD"
      },
      "source": [
        "t = SpecialTokenizer.from_pickle(\"/content/tokenizer.pkl\")"
      ],
      "execution_count": 11,
      "outputs": []
    },
    {
      "cell_type": "code",
      "metadata": {
        "id": "3bi-sWiJ1IyU"
      },
      "source": [
        "# class SpecialVocab(Vocab):\n",
        "#     def numericalize(self, t,):\n",
        "#         return self.pad([[self.stoi[sw] for sw in w] for w in t])\n",
        "\n",
        "#     def pad(self, seq, pad_idx=0):\n",
        "#         lens = []\n",
        "#         for row in seq:\n",
        "#             lens.append(len(row))\n",
        "#         max_len = max(lens)\n",
        "#         for row in seq:\n",
        "#             while len(row) < max_len:\n",
        "#                 row.append(pad_idx)\n",
        "\n",
        "#         return seq  \n",
        "\n",
        "#     def textify(self, nums, sep=' '):\n",
        "#         return sep.join(flatten([[self.itos[i] for i in j] for j in nums])) if sep is not None else flatten([[self.itos[i] for i in j] for j in nums])\n",
        "\n",
        "# def get_tokens(t):\n",
        "#     return list(t.vocab.get_vocab().keys())\n",
        "# v = SpecialVocab(get_tokens(t))"
      ],
      "execution_count": null,
      "outputs": []
    },
    {
      "cell_type": "code",
      "metadata": {
        "id": "YmZLHM2ZUFkm"
      },
      "source": [
        "def get_tokens(t):\n",
        "    return list(t.vocab.get_vocab().keys())\n",
        "v = Vocab(get_tokens(t))"
      ],
      "execution_count": 12,
      "outputs": []
    },
    {
      "cell_type": "code",
      "metadata": {
        "id": "B0g26A5LG663"
      },
      "source": [
        "def flatten(rank_2):\n",
        "    return list(itertools.chain.from_iterable(rank_2))"
      ],
      "execution_count": 13,
      "outputs": []
    },
    {
      "cell_type": "code",
      "metadata": {
        "id": "KJ8OUDBs4jRL",
        "colab": {
          "base_uri": "https://localhost:8080/",
          "height": 17
        },
        "outputId": "1c70d72d-2c94-47e5-8b33-1df2d97bd01f"
      },
      "source": [
        "# def special_tokenize(x, i):\n",
        "#     return flatten(t.tokenize_single(x))\n",
        "\n",
        "# trn_tok = parallel_function(special_tokenize, train_df['text'].tolist(), 1)\n",
        "# val_tok = parallel_function(special_tokenize, valid_df['text'].tolist(), 1)"
      ],
      "execution_count": null,
      "outputs": [
        {
          "output_type": "display_data",
          "data": {
            "text/html": [
              ""
            ],
            "text/plain": [
              "<IPython.core.display.HTML object>"
            ]
          },
          "metadata": {
            "tags": []
          }
        },
        {
          "output_type": "display_data",
          "data": {
            "text/html": [
              ""
            ],
            "text/plain": [
              "<IPython.core.display.HTML object>"
            ]
          },
          "metadata": {
            "tags": []
          }
        }
      ]
    },
    {
      "cell_type": "code",
      "metadata": {
        "id": "X3KFM8hO_0XL",
        "colab": {
          "base_uri": "https://localhost:8080/"
        },
        "outputId": "01e954c2-6ca3-46f3-9d8b-7cd0a021bceb"
      },
      "source": [
        "# with flatten\n",
        "%%time\n",
        "\n",
        "trn_tok = [flatten(t.tokenize_single(x)) for x in train_df['text']]\n",
        "val_tok = [flatten(t.tokenize_single(x)) for x in valid_df['text']]\n",
        "len(trn_tok), len(val_tok)"
      ],
      "execution_count": 14,
      "outputs": [
        {
          "output_type": "stream",
          "text": [
            "CPU times: user 1min 3s, sys: 2.55 s, total: 1min 5s\n",
            "Wall time: 1min 5s\n"
          ],
          "name": "stdout"
        }
      ]
    },
    {
      "cell_type": "code",
      "metadata": {
        "id": "Ks854JPP_0XQ"
      },
      "source": [
        "val_lbls = valid_df.label.to_list()\n",
        "trn_lbls = train_df.label.to_list()\n"
      ],
      "execution_count": 15,
      "outputs": []
    },
    {
      "cell_type": "code",
      "metadata": {
        "id": "b59hBKbu_0XS",
        "colab": {
          "base_uri": "https://localhost:8080/"
        },
        "outputId": "91eb8629-613c-4e7a-f9ba-f5fc31110872"
      },
      "source": [
        "del train_df, valid_df\n",
        "gc.collect()"
      ],
      "execution_count": 16,
      "outputs": [
        {
          "output_type": "execute_result",
          "data": {
            "text/plain": [
              "0"
            ]
          },
          "metadata": {
            "tags": []
          },
          "execution_count": 16
        }
      ]
    },
    {
      "cell_type": "code",
      "metadata": {
        "id": "GbTqpKUd_0XW"
      },
      "source": [
        "bs = 64"
      ],
      "execution_count": 17,
      "outputs": []
    },
    {
      "cell_type": "code",
      "metadata": {
        "id": "TMN0f7A7_0XY"
      },
      "source": [
        "tdb = TextClasDataBunch.from_tokens('.', trn_tok, trn_lbls, val_tok, val_lbls, vocab=v, max_vocab=200000, bs=bs)"
      ],
      "execution_count": 18,
      "outputs": []
    },
    {
      "cell_type": "code",
      "metadata": {
        "id": "zsRAKECaCgNO",
        "colab": {
          "base_uri": "https://localhost:8080/"
        },
        "outputId": "4db74035-708a-49b7-8984-017b4eace53e"
      },
      "source": [
        "# tdb.loss_func"
      ],
      "execution_count": null,
      "outputs": [
        {
          "output_type": "execute_result",
          "data": {
            "text/plain": [
              "FlattenedLoss of CrossEntropyLoss()"
            ]
          },
          "metadata": {
            "tags": []
          },
          "execution_count": 21
        }
      ]
    },
    {
      "cell_type": "code",
      "metadata": {
        "id": "Xuvsrv48_0Xb",
        "colab": {
          "base_uri": "https://localhost:8080/"
        },
        "outputId": "bc0d29dd-db16-4627-8910-979508e8ddb8"
      },
      "source": [
        "del trn_tok, val_tok\n",
        "gc.collect()"
      ],
      "execution_count": 19,
      "outputs": [
        {
          "output_type": "execute_result",
          "data": {
            "text/plain": [
              "0"
            ]
          },
          "metadata": {
            "tags": []
          },
          "execution_count": 19
        }
      ]
    },
    {
      "cell_type": "code",
      "metadata": {
        "id": "wh3r4-YAjNsu"
      },
      "source": [
        "class SequenceModel(nn.Module):\n",
        "    def __init__(self, num_of_ngrams=159694, output_size=21, hidden_size=64, embedding_dim=64, drp=0.1):\n",
        "        super().__init__()\n",
        "\n",
        "        self.chars_embedding = nn.Embedding(num_embeddings=num_of_ngrams, padding_idx=0, embedding_dim=embedding_dim)\n",
        "        self.lstm = nn.LSTM(num_layers=2, input_size=embedding_dim, hidden_size=hidden_size, bidirectional=True, batch_first=True)\n",
        "        self.linear1 = nn.Linear(hidden_size*2, output_size*4)\n",
        "        self.bn1 = nn.BatchNorm1d(output_size*4)\n",
        "        self.dropout1 = nn.Dropout(drp)\n",
        "        self.linear2 = nn.Linear(output_size*4, output_size*2)\n",
        "        self.bn2 = nn.BatchNorm1d(output_size*2)\n",
        "        self.dropout2 = nn.Dropout(drp)\n",
        "        self.linear3 = nn.Linear(output_size*2, output_size)\n",
        "        self.with_gpu()\n",
        "\n",
        "    def with_gpu(self):\n",
        "        self.device = torch.device(\"cuda\" if torch.cuda.is_available() else \"cpu\")\n",
        "\n",
        "    def reset(self):\n",
        "        for layer in self.children():\n",
        "            if hasattr(layer, 'reset_parameters'):\n",
        "                layer.reset_parameters()\n",
        "\n",
        "    def smouthing(self, o):\n",
        "        a = o.argmax(1)\n",
        "        a = F.one_hot(a, num_classes=o.shape[1]).float()\n",
        "        return a.clone().detach().requires_grad_(True)\n",
        "\n",
        "    def forward(self, x): #x: tokenized_texts\n",
        "\n",
        "        out = self.chars_embedding(x)\n",
        "\n",
        "        # print(\"\" + str(out.shape))\n",
        "        out, hidden = self.lstm(out)\n",
        "        out = out.sum(1)/x.shape[1]\n",
        "\n",
        "        out = self.linear1(out)\n",
        "        out = self.bn1(out)\n",
        "        out = self.dropout1(out)\n",
        "        out = F.relu(out)\n",
        "\n",
        "        out = self.linear2(out)\n",
        "        out = self.bn2(out)\n",
        "        out = self.dropout2(out)\n",
        "        our = F.relu(out)\n",
        "\n",
        "        out = self.linear3(out)\n",
        "        out = F.softmax(out, dim=1)\n",
        "        return out"
      ],
      "execution_count": 28,
      "outputs": []
    },
    {
      "cell_type": "code",
      "metadata": {
        "id": "EZwz_v8WmRaR",
        "colab": {
          "base_uri": "https://localhost:8080/"
        },
        "outputId": "9d35bf0f-f8a7-4bea-cdc8-4ba3d8e0625d"
      },
      "source": [
        "model = SequenceModel()\n",
        "model"
      ],
      "execution_count": 29,
      "outputs": [
        {
          "output_type": "execute_result",
          "data": {
            "text/plain": [
              "SequenceModel(\n",
              "  (chars_embedding): Embedding(159694, 64, padding_idx=0)\n",
              "  (lstm): LSTM(64, 64, num_layers=2, batch_first=True, bidirectional=True)\n",
              "  (linear1): Linear(in_features=128, out_features=84, bias=True)\n",
              "  (bn1): BatchNorm1d(84, eps=1e-05, momentum=0.1, affine=True, track_running_stats=True)\n",
              "  (dropout1): Dropout(p=0.1, inplace=False)\n",
              "  (linear2): Linear(in_features=84, out_features=42, bias=True)\n",
              "  (bn2): BatchNorm1d(42, eps=1e-05, momentum=0.1, affine=True, track_running_stats=True)\n",
              "  (dropout2): Dropout(p=0.1, inplace=False)\n",
              "  (linear3): Linear(in_features=42, out_features=21, bias=True)\n",
              ")"
            ]
          },
          "metadata": {
            "tags": []
          },
          "execution_count": 29
        }
      ]
    },
    {
      "cell_type": "code",
      "metadata": {
        "id": "SaNZEcaKyI9J"
      },
      "source": [
        "f1 = FBeta(beta=1, average=\"micro\")\n",
        "metrics = [accuracy, f1]"
      ],
      "execution_count": 30,
      "outputs": []
    },
    {
      "cell_type": "code",
      "metadata": {
        "id": "LcVGjqNB8h2k",
        "colab": {
          "base_uri": "https://localhost:8080/",
          "height": 685
        },
        "outputId": "ff9c01c0-6e95-4948-a62f-a1789b351ebd"
      },
      "source": [
        "clf = Learner(tdb, model, metrics=metrics)\n",
        "summary(model, torch.zeros((bs, 720), dtype=torch.long).cuda())"
      ],
      "execution_count": 31,
      "outputs": [
        {
          "output_type": "stream",
          "text": [
            "=======================================================================\n",
            "                   Kernel Shape    Output Shape      Params   Mult-Adds\n",
            "Layer                                                                  \n",
            "0_chars_embedding  [64, 159694]   [64, 720, 64]  10.220416M  10.220416M\n",
            "1_lstm                        -  [64, 720, 128]    165.888k     163.84k\n",
            "2_linear1             [128, 84]        [64, 84]     10.836k     10.752k\n",
            "3_bn1                      [84]        [64, 84]       168.0        84.0\n",
            "4_dropout1                    -        [64, 84]           -           -\n",
            "5_linear2              [84, 42]        [64, 42]       3.57k      3.528k\n",
            "6_bn2                      [42]        [64, 42]        84.0        42.0\n",
            "7_dropout2                    -        [64, 42]           -           -\n",
            "8_linear3              [42, 21]        [64, 21]       903.0       882.0\n",
            "-----------------------------------------------------------------------\n",
            "                          Totals\n",
            "Total params          10.401865M\n",
            "Trainable params      10.401865M\n",
            "Non-trainable params         0.0\n",
            "Mult-Adds             10.399544M\n",
            "=======================================================================\n"
          ],
          "name": "stdout"
        },
        {
          "output_type": "execute_result",
          "data": {
            "text/html": [
              "<div>\n",
              "<style scoped>\n",
              "    .dataframe tbody tr th:only-of-type {\n",
              "        vertical-align: middle;\n",
              "    }\n",
              "\n",
              "    .dataframe tbody tr th {\n",
              "        vertical-align: top;\n",
              "    }\n",
              "\n",
              "    .dataframe thead th {\n",
              "        text-align: right;\n",
              "    }\n",
              "</style>\n",
              "<table border=\"1\" class=\"dataframe\">\n",
              "  <thead>\n",
              "    <tr style=\"text-align: right;\">\n",
              "      <th></th>\n",
              "      <th>Kernel Shape</th>\n",
              "      <th>Output Shape</th>\n",
              "      <th>Params</th>\n",
              "      <th>Mult-Adds</th>\n",
              "    </tr>\n",
              "    <tr>\n",
              "      <th>Layer</th>\n",
              "      <th></th>\n",
              "      <th></th>\n",
              "      <th></th>\n",
              "      <th></th>\n",
              "    </tr>\n",
              "  </thead>\n",
              "  <tbody>\n",
              "    <tr>\n",
              "      <th>0_chars_embedding</th>\n",
              "      <td>[64, 159694]</td>\n",
              "      <td>[64, 720, 64]</td>\n",
              "      <td>10220416.0</td>\n",
              "      <td>10220416.0</td>\n",
              "    </tr>\n",
              "    <tr>\n",
              "      <th>1_lstm</th>\n",
              "      <td>-</td>\n",
              "      <td>[64, 720, 128]</td>\n",
              "      <td>165888.0</td>\n",
              "      <td>163840.0</td>\n",
              "    </tr>\n",
              "    <tr>\n",
              "      <th>2_linear1</th>\n",
              "      <td>[128, 84]</td>\n",
              "      <td>[64, 84]</td>\n",
              "      <td>10836.0</td>\n",
              "      <td>10752.0</td>\n",
              "    </tr>\n",
              "    <tr>\n",
              "      <th>3_bn1</th>\n",
              "      <td>[84]</td>\n",
              "      <td>[64, 84]</td>\n",
              "      <td>168.0</td>\n",
              "      <td>84.0</td>\n",
              "    </tr>\n",
              "    <tr>\n",
              "      <th>4_dropout1</th>\n",
              "      <td>-</td>\n",
              "      <td>[64, 84]</td>\n",
              "      <td>NaN</td>\n",
              "      <td>NaN</td>\n",
              "    </tr>\n",
              "    <tr>\n",
              "      <th>5_linear2</th>\n",
              "      <td>[84, 42]</td>\n",
              "      <td>[64, 42]</td>\n",
              "      <td>3570.0</td>\n",
              "      <td>3528.0</td>\n",
              "    </tr>\n",
              "    <tr>\n",
              "      <th>6_bn2</th>\n",
              "      <td>[42]</td>\n",
              "      <td>[64, 42]</td>\n",
              "      <td>84.0</td>\n",
              "      <td>42.0</td>\n",
              "    </tr>\n",
              "    <tr>\n",
              "      <th>7_dropout2</th>\n",
              "      <td>-</td>\n",
              "      <td>[64, 42]</td>\n",
              "      <td>NaN</td>\n",
              "      <td>NaN</td>\n",
              "    </tr>\n",
              "    <tr>\n",
              "      <th>8_linear3</th>\n",
              "      <td>[42, 21]</td>\n",
              "      <td>[64, 21]</td>\n",
              "      <td>903.0</td>\n",
              "      <td>882.0</td>\n",
              "    </tr>\n",
              "  </tbody>\n",
              "</table>\n",
              "</div>"
            ],
            "text/plain": [
              "                   Kernel Shape    Output Shape      Params   Mult-Adds\n",
              "Layer                                                                  \n",
              "0_chars_embedding  [64, 159694]   [64, 720, 64]  10220416.0  10220416.0\n",
              "1_lstm                        -  [64, 720, 128]    165888.0    163840.0\n",
              "2_linear1             [128, 84]        [64, 84]     10836.0     10752.0\n",
              "3_bn1                      [84]        [64, 84]       168.0        84.0\n",
              "4_dropout1                    -        [64, 84]         NaN         NaN\n",
              "5_linear2              [84, 42]        [64, 42]      3570.0      3528.0\n",
              "6_bn2                      [42]        [64, 42]        84.0        42.0\n",
              "7_dropout2                    -        [64, 42]         NaN         NaN\n",
              "8_linear3              [42, 21]        [64, 21]       903.0       882.0"
            ]
          },
          "metadata": {
            "tags": []
          },
          "execution_count": 31
        }
      ]
    },
    {
      "cell_type": "code",
      "metadata": {
        "id": "N93F9ka19VKi",
        "colab": {
          "base_uri": "https://localhost:8080/",
          "height": 373
        },
        "outputId": "ff472737-3048-40df-c150-6933ac7aa248"
      },
      "source": [
        "# %%debug\n",
        "clf.lr_find()\n",
        "clf.recorder.plot()"
      ],
      "execution_count": 24,
      "outputs": [
        {
          "output_type": "display_data",
          "data": {
            "text/html": [
              "\n",
              "    <div>\n",
              "        <style>\n",
              "            /* Turns off some styling */\n",
              "            progress {\n",
              "                /* gets rid of default border in Firefox and Opera. */\n",
              "                border: none;\n",
              "                /* Needs to be in here for Safari polyfill so background images work as expected. */\n",
              "                background-size: auto;\n",
              "            }\n",
              "            .progress-bar-interrupted, .progress-bar-interrupted::-webkit-progress-bar {\n",
              "                background: #F44336;\n",
              "            }\n",
              "        </style>\n",
              "      <progress value='0' class='' max='1' style='width:300px; height:20px; vertical-align: middle;'></progress>\n",
              "      0.00% [0/1 00:00<00:00]\n",
              "    </div>\n",
              "    \n",
              "<table border=\"1\" class=\"dataframe\">\n",
              "  <thead>\n",
              "    <tr style=\"text-align: left;\">\n",
              "      <th>epoch</th>\n",
              "      <th>train_loss</th>\n",
              "      <th>valid_loss</th>\n",
              "      <th>accuracy</th>\n",
              "      <th>f_beta</th>\n",
              "      <th>time</th>\n",
              "    </tr>\n",
              "  </thead>\n",
              "  <tbody>\n",
              "  </tbody>\n",
              "</table><p>\n",
              "\n",
              "    <div>\n",
              "        <style>\n",
              "            /* Turns off some styling */\n",
              "            progress {\n",
              "                /* gets rid of default border in Firefox and Opera. */\n",
              "                border: none;\n",
              "                /* Needs to be in here for Safari polyfill so background images work as expected. */\n",
              "                background-size: auto;\n",
              "            }\n",
              "            .progress-bar-interrupted, .progress-bar-interrupted::-webkit-progress-bar {\n",
              "                background: #F44336;\n",
              "            }\n",
              "        </style>\n",
              "      <progress value='99' class='' max='4366' style='width:300px; height:20px; vertical-align: middle;'></progress>\n",
              "      2.27% [99/4366 00:30<21:34 2.9524]\n",
              "    </div>\n",
              "    "
            ],
            "text/plain": [
              "<IPython.core.display.HTML object>"
            ]
          },
          "metadata": {
            "tags": []
          }
        },
        {
          "output_type": "stream",
          "text": [
            "LR Finder is complete, type {learner_name}.recorder.plot() to see the graph.\n"
          ],
          "name": "stdout"
        },
        {
          "output_type": "display_data",
          "data": {
            "image/png": "[encoded data removed]",
            "text/plain": [
              "<Figure size 432x288 with 1 Axes>"
            ]
          },
          "metadata": {
            "tags": [],
            "needs_background": "light"
          }
        }
      ]
    },
    {
      "cell_type": "code",
      "metadata": {
        "id": "YJ-NkoBf9VKq",
        "colab": {
          "base_uri": "https://localhost:8080/",
          "height": 107
        },
        "outputId": "3424b9d9-6ed6-4e8b-b9bd-92e6bfcfc9a9"
      },
      "source": [
        "clf.fit_one_cycle(2, 1e-02)"
      ],
      "execution_count": 43,
      "outputs": [
        {
          "output_type": "display_data",
          "data": {
            "text/html": [
              "<table border=\"1\" class=\"dataframe\">\n",
              "  <thead>\n",
              "    <tr style=\"text-align: left;\">\n",
              "      <th>epoch</th>\n",
              "      <th>train_loss</th>\n",
              "      <th>valid_loss</th>\n",
              "      <th>accuracy</th>\n",
              "      <th>f_beta</th>\n",
              "      <th>time</th>\n",
              "    </tr>\n",
              "  </thead>\n",
              "  <tbody>\n",
              "    <tr>\n",
              "      <td>0</td>\n",
              "      <td>2.160538</td>\n",
              "      <td>2.156289</td>\n",
              "      <td>0.967041</td>\n",
              "      <td>0.967041</td>\n",
              "      <td>05:16</td>\n",
              "    </tr>\n",
              "    <tr>\n",
              "      <td>1</td>\n",
              "      <td>2.147256</td>\n",
              "      <td>2.138657</td>\n",
              "      <td>0.984482</td>\n",
              "      <td>0.984482</td>\n",
              "      <td>05:26</td>\n",
              "    </tr>\n",
              "  </tbody>\n",
              "</table>"
            ],
            "text/plain": [
              "<IPython.core.display.HTML object>"
            ]
          },
          "metadata": {
            "tags": []
          }
        }
      ]
    },
    {
      "cell_type": "code",
      "metadata": {
        "id": "8Fcc3FRcBh0R",
        "colab": {
          "base_uri": "https://localhost:8080/",
          "height": 278
        },
        "outputId": "bd9677ea-0ae0-49e3-e816-bb62a7afdcbb"
      },
      "source": [
        "clf.recorder.plot_losses(show_grid=True)"
      ],
      "execution_count": 35,
      "outputs": [
        {
          "output_type": "display_data",
          "data": {
            "image/png": "[encoded data removed]",
            "text/plain": [
              "<Figure size 432x288 with 1 Axes>"
            ]
          },
          "metadata": {
            "tags": [],
            "needs_background": "light"
          }
        }
      ]
    },
    {
      "cell_type": "code",
      "metadata": {
        "colab": {
          "base_uri": "https://localhost:8080/",
          "height": 496
        },
        "id": "8jD8KKZb0_ae",
        "outputId": "98b89e9d-4e05-4aa1-c1c6-4f837a8f7ae4"
      },
      "source": [
        "clf.recorder.plot_metrics(show_grid=True)"
      ],
      "execution_count": 40,
      "outputs": [
        {
          "output_type": "display_data",
          "data": {
            "image/png": "[encoded data removed]",
            "text/plain": [
              "<Figure size 432x576 with 2 Axes>"
            ]
          },
          "metadata": {
            "tags": [],
            "needs_background": "light"
          }
        }
      ]
    },
    {
      "cell_type": "markdown",
      "metadata": {
        "id": "o8b_rZqGBixW"
      },
      "source": [
        "# Transformer"
      ]
    },
    {
      "cell_type": "code",
      "metadata": {
        "id": "iLmyDtF2Bl6n"
      },
      "source": [
        ""
      ],
      "execution_count": null,
      "outputs": []
    },
    {
      "cell_type": "code",
      "metadata": {
        "id": "7-sCnHRj7gJr",
        "colab": {
          "base_uri": "https://localhost:8080/"
        },
        "outputId": "08174e03-44f8-4c0c-8fb2-f527074752e2"
      },
      "source": [
        "from google.colab import drive\n",
        "drive.mount('/content/drive')"
      ],
      "execution_count": null,
      "outputs": [
        {
          "output_type": "stream",
          "text": [
            "Mounted at /content/drive\n"
          ],
          "name": "stdout"
        }
      ]
    },
    {
      "cell_type": "code",
      "metadata": {
        "id": "7Re-EfVH7gJ3"
      },
      "source": [
        "# ! cp \"/content/drive/My Drive/europarl/tokenizer.pkl\" /content/tokenizer.pkl \n",
        "# ! cp  \"/content/drive/My Drive/europarl/text.py\" /content/text.py\n",
        "# ! cp  \"/content/drive/My Drive/europarl/tokenizer.py\" /content/tokenizer.py\n",
        "# ! cp  \"/content/drive/My Drive/europarl/vocab.py\" /content/vocab.py"
      ],
      "execution_count": null,
      "outputs": []
    },
    {
      "cell_type": "code",
      "metadata": {
        "id": "tHEG37f77gJ7"
      },
      "source": [
        "from tokenizer import SpecialTokenizer, _default_tokenizer\n",
        "from fastai.text.models.transformer import init_transformer\n",
        "from fastai import *\n",
        "from fastai.text import *\n",
        "from fastai.callbacks import *\n",
        "import pandas as pd\n",
        "import numpy as np\n",
        "import gc"
      ],
      "execution_count": 1,
      "outputs": []
    },
    {
      "cell_type": "code",
      "metadata": {
        "id": "61VUqLHI7gKB"
      },
      "source": [
        "labels=['bg','cs','da','de','el','en','es','et','fi','fr',\n",
        "        'hu','it','lt','lv','nl','pl','pt','ro','sk','sl','sv']"
      ],
      "execution_count": 2,
      "outputs": []
    },
    {
      "cell_type": "code",
      "metadata": {
        "id": "YOTBqDXq7gKE",
        "colab": {
          "base_uri": "https://localhost:8080/"
        },
        "outputId": "bc60153c-d5ae-4413-b4b3-2a92629f8f54"
      },
      "source": [
        "train_df = pd.read_pickle(\"/content/drive/My Drive/europarl/train_ds.pkl\")\n",
        "valid_df = pd.read_pickle(\"/content/drive/My Drive/europarl/valid_ds.pkl\")\n",
        "train_df.shape, valid_df.shape"
      ],
      "execution_count": 3,
      "outputs": [
        {
          "output_type": "execute_result",
          "data": {
            "text/plain": [
              "((2718013, 2), (1164863, 2))"
            ]
          },
          "metadata": {
            "tags": []
          },
          "execution_count": 3
        }
      ]
    },
    {
      "cell_type": "code",
      "metadata": {
        "id": "uUjgteq37gKL"
      },
      "source": [
        "np.random.seed(1)\n",
        "t_choices = np.random.choice(len(train_df), int(210000*0.7))\n",
        "v_choices = np.random.choice(len(valid_df), int(210000*0.3))"
      ],
      "execution_count": 4,
      "outputs": []
    },
    {
      "cell_type": "code",
      "metadata": {
        "id": "Y1axGc2g7gKP"
      },
      "source": [
        "def sup_two(row):\n",
        "    if len(row['text'].split()) <= 1: return 0\n",
        "    else: return row['text']"
      ],
      "execution_count": 5,
      "outputs": []
    },
    {
      "cell_type": "code",
      "metadata": {
        "id": "ON_Qqfd47gKU",
        "colab": {
          "base_uri": "https://localhost:8080/"
        },
        "outputId": "a84db4c0-fb2c-4749-a610-7be07947564c"
      },
      "source": [
        "# taking sample\n",
        "train_df = train_df.loc[t_choices]\n",
        "valid_df = valid_df.loc[v_choices]\n",
        "\n",
        "train_df['text'] = train_df.apply(sup_two, axis=1)\n",
        "valid_df['text'] = valid_df.apply(sup_two, axis=1)\n",
        "\n",
        "train_df = train_df[train_df.text != False]\n",
        "valid_df = valid_df[valid_df.text != False]\n",
        "\n",
        "train_df.reset_index(drop=True, inplace=True)\n",
        "valid_df.reset_index(drop=True, inplace=True)\n",
        "\n",
        "train_df.shape, valid_df.shape"
      ],
      "execution_count": 6,
      "outputs": [
        {
          "output_type": "execute_result",
          "data": {
            "text/plain": [
              "((139773, 2), (59909, 2))"
            ]
          },
          "metadata": {
            "tags": []
          },
          "execution_count": 6
        }
      ]
    },
    {
      "cell_type": "code",
      "metadata": {
        "id": "JstLZTld7gKX",
        "colab": {
          "base_uri": "https://localhost:8080/"
        },
        "outputId": "ce941504-1c56-4126-8d12-f0f80765e9f9"
      },
      "source": [
        "max_len = max([len(x.split()) for x in train_df.text])\n",
        "min_len = min([len(x.split()) for x in train_df.text])\n",
        "max_len, min_len"
      ],
      "execution_count": 7,
      "outputs": [
        {
          "output_type": "execute_result",
          "data": {
            "text/plain": [
              "(23, 2)"
            ]
          },
          "metadata": {
            "tags": []
          },
          "execution_count": 7
        }
      ]
    },
    {
      "cell_type": "code",
      "metadata": {
        "id": "3waugKUp7gKa"
      },
      "source": [
        "t = SpecialTokenizer.from_pickle(\"/content/tokenizer.pkl\")"
      ],
      "execution_count": 8,
      "outputs": []
    },
    {
      "cell_type": "code",
      "metadata": {
        "id": "myVP1FNX7gKc"
      },
      "source": [
        "def get_tokens(t):\n",
        "    return list(t.vocab.get_vocab().keys())\n",
        "v = Vocab(get_tokens(t))"
      ],
      "execution_count": 9,
      "outputs": []
    },
    {
      "cell_type": "code",
      "metadata": {
        "id": "yFG_hMK17gKg"
      },
      "source": [
        "def flatten(rank_2):\n",
        "    return list(itertools.chain.from_iterable(rank_2))"
      ],
      "execution_count": 10,
      "outputs": []
    },
    {
      "cell_type": "code",
      "metadata": {
        "id": "Stq6kSP97gKj",
        "colab": {
          "base_uri": "https://localhost:8080/"
        },
        "outputId": "ca3d2174-f3bf-4352-89db-bddd8c9b2d73"
      },
      "source": [
        "trn_tok = [flatten(t.tokenize_single(x)) for x in train_df['text']]\n",
        "val_tok = [flatten(t.tokenize_single(x)) for x in valid_df['text']]\n",
        "len(trn_tok), len(val_tok)"
      ],
      "execution_count": 11,
      "outputs": [
        {
          "output_type": "execute_result",
          "data": {
            "text/plain": [
              "(139773, 59909)"
            ]
          },
          "metadata": {
            "tags": []
          },
          "execution_count": 11
        }
      ]
    },
    {
      "cell_type": "code",
      "metadata": {
        "id": "RlyBVAcd7gKo"
      },
      "source": [
        "# print(\"size: {}\".format(getsize(trn_tok)/1024/1024))"
      ],
      "execution_count": 12,
      "outputs": []
    },
    {
      "cell_type": "code",
      "metadata": {
        "id": "c2jUNanD7gKr"
      },
      "source": [
        "trn_lbls = train_df.label\n",
        "val_lbls = valid_df.label\n",
        "lbs = list(range(len(labels)))"
      ],
      "execution_count": 13,
      "outputs": []
    },
    {
      "cell_type": "code",
      "metadata": {
        "id": "a6orIcSa7gKt",
        "colab": {
          "base_uri": "https://localhost:8080/"
        },
        "outputId": "ed0bad7c-fe6f-4d35-bb06-a6d9ae83a453"
      },
      "source": [
        "del train_df, valid_df\n",
        "gc.collect()"
      ],
      "execution_count": 14,
      "outputs": [
        {
          "output_type": "execute_result",
          "data": {
            "text/plain": [
              "0"
            ]
          },
          "metadata": {
            "tags": []
          },
          "execution_count": 14
        }
      ]
    },
    {
      "cell_type": "code",
      "metadata": {
        "id": "Gn95Jnp_7gKw"
      },
      "source": [
        "bs = 64"
      ],
      "execution_count": 15,
      "outputs": []
    },
    {
      "cell_type": "code",
      "metadata": {
        "id": "-p3QZbIM7gK0"
      },
      "source": [
        "tdb = TextClasDataBunch.from_tokens('.', trn_tok, trn_lbls, val_tok, val_lbls, vocab=v, max_vocab=200000, bs=bs)"
      ],
      "execution_count": 16,
      "outputs": []
    },
    {
      "cell_type": "code",
      "metadata": {
        "id": "1bFEolG97gK8",
        "colab": {
          "base_uri": "https://localhost:8080/"
        },
        "outputId": "487322b4-13d7-444d-e7af-c649444137f7"
      },
      "source": [
        "del trn_tok, val_tok\n",
        "gc.collect()"
      ],
      "execution_count": 17,
      "outputs": [
        {
          "output_type": "execute_result",
          "data": {
            "text/plain": [
              "0"
            ]
          },
          "metadata": {
            "tags": []
          },
          "execution_count": 17
        }
      ]
    },
    {
      "cell_type": "code",
      "metadata": {
        "id": "p-U4XM8Z7gK_"
      },
      "source": [
        "f1 = FBeta(average=\"micro\", beta=1)\n",
        "metrics = [accuracy, f1]"
      ],
      "execution_count": 18,
      "outputs": []
    },
    {
      "cell_type": "code",
      "metadata": {
        "id": "7XuqCEss7gLD"
      },
      "source": [
        "config = dict(ctx_len=512, n_layers=2, n_heads=16, d_model=32, d_head=2, d_inner=64, resid_p=0.2, attn_p=0.2,\n",
        "                         ff_p=0.2, embed_p=0.2, output_p=0., bias=True, scale=True, act=Activation.GeLU, double_drop=False,\n",
        "                         init=init_transformer, mask=False)"
      ],
      "execution_count": 19,
      "outputs": []
    },
    {
      "cell_type": "code",
      "metadata": {
        "id": "r54D8AQV7gLG",
        "colab": {
          "base_uri": "https://localhost:8080/",
          "height": 1000
        },
        "outputId": "5ad5e2e6-e165-4ea4-ef1c-a21864206fc6"
      },
      "source": [
        "clf = text_classifier_learner(tdb, Transformer, drop_mult=0.5, metrics=metrics, \n",
        "                                pretrained=False, config=config)\n",
        "clf.summary()"
      ],
      "execution_count": 20,
      "outputs": [
        {
          "output_type": "execute_result",
          "data": {
            "application/vnd.google.colaboratory.intrinsic+json": {
              "type": "string"
            },
            "text/plain": [
              "SequentialRNN\n",
              "======================================================================\n",
              "Layer (type)         Output Shape         Param #    Trainable \n",
              "======================================================================\n",
              "Embedding            [67, 32]             4,373,760  True      \n",
              "______________________________________________________________________\n",
              "Embedding            [32]                 16,384     True      \n",
              "______________________________________________________________________\n",
              "Dropout              [67, 32]             0          False     \n",
              "______________________________________________________________________\n",
              "Linear               [67, 96]             3,168      True      \n",
              "______________________________________________________________________\n",
              "Linear               [67, 32]             1,056      True      \n",
              "______________________________________________________________________\n",
              "Dropout              [16, 67, 67]         0          False     \n",
              "______________________________________________________________________\n",
              "Dropout              [67, 32]             0          False     \n",
              "______________________________________________________________________\n",
              "LayerNorm            [67, 32]             64         True      \n",
              "______________________________________________________________________\n",
              "Linear               [67, 64]             2,112      True      \n",
              "______________________________________________________________________\n",
              "GeLU                 [67, 64]             0          False     \n",
              "______________________________________________________________________\n",
              "Linear               [67, 32]             2,080      True      \n",
              "______________________________________________________________________\n",
              "Dropout              [67, 32]             0          False     \n",
              "______________________________________________________________________\n",
              "MergeLayer           [67, 32]             0          False     \n",
              "______________________________________________________________________\n",
              "LayerNorm            [67, 32]             64         True      \n",
              "______________________________________________________________________\n",
              "Linear               [67, 96]             3,168      True      \n",
              "______________________________________________________________________\n",
              "Linear               [67, 32]             1,056      True      \n",
              "______________________________________________________________________\n",
              "Dropout              [16, 67, 67]         0          False     \n",
              "______________________________________________________________________\n",
              "Dropout              [67, 32]             0          False     \n",
              "______________________________________________________________________\n",
              "LayerNorm            [67, 32]             64         True      \n",
              "______________________________________________________________________\n",
              "Linear               [67, 64]             2,112      True      \n",
              "______________________________________________________________________\n",
              "GeLU                 [67, 64]             0          False     \n",
              "______________________________________________________________________\n",
              "Linear               [67, 32]             2,080      True      \n",
              "______________________________________________________________________\n",
              "Dropout              [67, 32]             0          False     \n",
              "______________________________________________________________________\n",
              "MergeLayer           [67, 32]             0          False     \n",
              "______________________________________________________________________\n",
              "LayerNorm            [67, 32]             64         True      \n",
              "______________________________________________________________________\n",
              "BatchNorm1d          [96]                 192        True      \n",
              "______________________________________________________________________\n",
              "Linear               [50]                 4,850      True      \n",
              "______________________________________________________________________\n",
              "ReLU                 [50]                 0          False     \n",
              "______________________________________________________________________\n",
              "BatchNorm1d          [50]                 100        True      \n",
              "______________________________________________________________________\n",
              "Dropout              [50]                 0          False     \n",
              "______________________________________________________________________\n",
              "Linear               [21]                 1,071      True      \n",
              "______________________________________________________________________\n",
              "\n",
              "Total params: 4,413,445\n",
              "Total trainable params: 4,413,445\n",
              "Total non-trainable params: 0\n",
              "Optimized with 'torch.optim.adam.Adam', betas=(0.9, 0.99)\n",
              "Using true weight decay as discussed in https://www.fast.ai/2018/07/02/adam-weight-decay/ \n",
              "Loss function : FlattenedLoss\n",
              "======================================================================\n",
              "Callbacks functions applied \n",
              "    RNNTrainer"
            ]
          },
          "metadata": {
            "tags": []
          },
          "execution_count": 20
        }
      ]
    },
    {
      "cell_type": "code",
      "metadata": {
        "id": "zjWAM2Ho7gLM"
      },
      "source": [
        "# learn.freeze()"
      ],
      "execution_count": 21,
      "outputs": []
    },
    {
      "cell_type": "code",
      "metadata": {
        "id": "-8EJgYMM7gLS",
        "colab": {
          "base_uri": "https://localhost:8080/",
          "height": 373
        },
        "outputId": "33db0859-f3c2-4ccb-f6b5-f139ceba67b3"
      },
      "source": [
        "clf.lr_find()\n",
        "clf.recorder.plot()"
      ],
      "execution_count": 22,
      "outputs": [
        {
          "output_type": "display_data",
          "data": {
            "text/html": [
              "\n",
              "    <div>\n",
              "        <style>\n",
              "            /* Turns off some styling */\n",
              "            progress {\n",
              "                /* gets rid of default border in Firefox and Opera. */\n",
              "                border: none;\n",
              "                /* Needs to be in here for Safari polyfill so background images work as expected. */\n",
              "                background-size: auto;\n",
              "            }\n",
              "            .progress-bar-interrupted, .progress-bar-interrupted::-webkit-progress-bar {\n",
              "                background: #F44336;\n",
              "            }\n",
              "        </style>\n",
              "      <progress value='0' class='' max='1' style='width:300px; height:20px; vertical-align: middle;'></progress>\n",
              "      0.00% [0/1 00:00<00:00]\n",
              "    </div>\n",
              "    \n",
              "<table border=\"1\" class=\"dataframe\">\n",
              "  <thead>\n",
              "    <tr style=\"text-align: left;\">\n",
              "      <th>epoch</th>\n",
              "      <th>train_loss</th>\n",
              "      <th>valid_loss</th>\n",
              "      <th>accuracy</th>\n",
              "      <th>f_beta</th>\n",
              "      <th>time</th>\n",
              "    </tr>\n",
              "  </thead>\n",
              "  <tbody>\n",
              "  </tbody>\n",
              "</table><p>\n",
              "\n",
              "    <div>\n",
              "        <style>\n",
              "            /* Turns off some styling */\n",
              "            progress {\n",
              "                /* gets rid of default border in Firefox and Opera. */\n",
              "                border: none;\n",
              "                /* Needs to be in here for Safari polyfill so background images work as expected. */\n",
              "                background-size: auto;\n",
              "            }\n",
              "            .progress-bar-interrupted, .progress-bar-interrupted::-webkit-progress-bar {\n",
              "                background: #F44336;\n",
              "            }\n",
              "        </style>\n",
              "      <progress value='95' class='' max='2183' style='width:300px; height:20px; vertical-align: middle;'></progress>\n",
              "      4.35% [95/2183 00:16<06:05 11.6136]\n",
              "    </div>\n",
              "    "
            ],
            "text/plain": [
              "<IPython.core.display.HTML object>"
            ]
          },
          "metadata": {
            "tags": []
          }
        },
        {
          "output_type": "stream",
          "text": [
            "LR Finder is complete, type {learner_name}.recorder.plot() to see the graph.\n"
          ],
          "name": "stdout"
        },
        {
          "output_type": "display_data",
          "data": {
            "image/png": "[encoded data removed]",
            "text/plain": [
              "<Figure size 432x288 with 1 Axes>"
            ]
          },
          "metadata": {
            "tags": [],
            "needs_background": "light"
          }
        }
      ]
    },
    {
      "cell_type": "code",
      "metadata": {
        "id": "yZdDhogY7gLV"
      },
      "source": [
        "cbs = [SaveModelCallback(clf, every='epoch', monitor='accuracy', name='transformer_model')]"
      ],
      "execution_count": 24,
      "outputs": []
    },
    {
      "cell_type": "code",
      "metadata": {
        "id": "2XGXKDUE7gLY",
        "colab": {
          "base_uri": "https://localhost:8080/",
          "height": 197
        },
        "outputId": "7c24f2cc-ef78-4e74-c0d4-75ac5b0aa886"
      },
      "source": [
        "clf.fit_one_cycle(5, 1e-02, callbacks=cbs)"
      ],
      "execution_count": 25,
      "outputs": [
        {
          "output_type": "display_data",
          "data": {
            "text/html": [
              "<table border=\"1\" class=\"dataframe\">\n",
              "  <thead>\n",
              "    <tr style=\"text-align: left;\">\n",
              "      <th>epoch</th>\n",
              "      <th>train_loss</th>\n",
              "      <th>valid_loss</th>\n",
              "      <th>accuracy</th>\n",
              "      <th>f_beta</th>\n",
              "      <th>time</th>\n",
              "    </tr>\n",
              "  </thead>\n",
              "  <tbody>\n",
              "    <tr>\n",
              "      <td>0</td>\n",
              "      <td>0.174600</td>\n",
              "      <td>0.630514</td>\n",
              "      <td>0.819760</td>\n",
              "      <td>0.819760</td>\n",
              "      <td>02:26</td>\n",
              "    </tr>\n",
              "    <tr>\n",
              "      <td>1</td>\n",
              "      <td>0.075685</td>\n",
              "      <td>0.099488</td>\n",
              "      <td>0.972792</td>\n",
              "      <td>0.972792</td>\n",
              "      <td>02:48</td>\n",
              "    </tr>\n",
              "    <tr>\n",
              "      <td>2</td>\n",
              "      <td>0.046049</td>\n",
              "      <td>0.053655</td>\n",
              "      <td>0.985929</td>\n",
              "      <td>0.985929</td>\n",
              "      <td>02:48</td>\n",
              "    </tr>\n",
              "    <tr>\n",
              "      <td>3</td>\n",
              "      <td>0.027817</td>\n",
              "      <td>0.042962</td>\n",
              "      <td>0.989334</td>\n",
              "      <td>0.989334</td>\n",
              "      <td>02:50</td>\n",
              "    </tr>\n",
              "    <tr>\n",
              "      <td>4</td>\n",
              "      <td>0.024665</td>\n",
              "      <td>0.038952</td>\n",
              "      <td>0.990302</td>\n",
              "      <td>0.990302</td>\n",
              "      <td>02:39</td>\n",
              "    </tr>\n",
              "  </tbody>\n",
              "</table>"
            ],
            "text/plain": [
              "<IPython.core.display.HTML object>"
            ]
          },
          "metadata": {
            "tags": []
          }
        }
      ]
    },
    {
      "cell_type": "code",
      "metadata": {
        "id": "3IMwkfFD7gLa",
        "colab": {
          "base_uri": "https://localhost:8080/",
          "height": 278
        },
        "outputId": "ac2590ae-f770-4871-e4bc-ac99123cc89f"
      },
      "source": [
        "clf.recorder.plot_losses(show_grid=True)"
      ],
      "execution_count": 26,
      "outputs": [
        {
          "output_type": "display_data",
          "data": {
            "image/png": "[encoded data removed]",
            "text/plain": [
              "<Figure size 432x288 with 1 Axes>"
            ]
          },
          "metadata": {
            "tags": [],
            "needs_background": "light"
          }
        }
      ]
    },
    {
      "cell_type": "code",
      "metadata": {
        "colab": {
          "base_uri": "https://localhost:8080/",
          "height": 496
        },
        "id": "kJWsQtn0CMjb",
        "outputId": "0127c916-eddb-4251-dcf9-93a2d1623ed7"
      },
      "source": [
        "clf.recorder.plot_metrics(show_grid=True)"
      ],
      "execution_count": 27,
      "outputs": [
        {
          "output_type": "display_data",
          "data": {
            "image/png": "[encoded data removed]",
            "text/plain": [
              "<Figure size 432x576 with 2 Axes>"
            ]
          },
          "metadata": {
            "tags": [],
            "needs_background": "light"
          }
        }
      ]
    },
    {
      "cell_type": "code",
      "metadata": {
        "id": "PDgIFELjFg4-"
      },
      "source": [
        ""
      ],
      "execution_count": null,
      "outputs": []
    }
  ]
}