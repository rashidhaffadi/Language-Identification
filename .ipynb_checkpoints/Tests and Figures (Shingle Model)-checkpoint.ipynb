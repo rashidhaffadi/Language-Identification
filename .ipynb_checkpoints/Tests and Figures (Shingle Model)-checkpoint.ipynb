{
 "cells": [
  {
   "cell_type": "code",
   "execution_count": 1,
   "metadata": {},
   "outputs": [],
   "source": [
    "%reload_ext autoreload\n",
    "%autoreload 2\n",
    "%matplotlib inline"
   ]
  },
  {
   "cell_type": "code",
   "execution_count": 71,
   "metadata": {},
   "outputs": [],
   "source": [
    "from shingle import *\n",
    "from text import *\n",
    "import pandas as pd\n",
    "from sklearn.metrics import f1_score, accuracy_score\n",
    "from tqdm.notebook import tqdm\n",
    "import matplotlib.pyplot as plt\n",
    "import gc\n",
    "plt.style.use(\"ggplot\")"
   ]
  },
  {
   "cell_type": "markdown",
   "metadata": {},
   "source": [
    "# Utility Functions"
   ]
  },
  {
   "cell_type": "code",
   "execution_count": 3,
   "metadata": {},
   "outputs": [],
   "source": [
    "def merge(texts):\n",
    "        res = \"\"\n",
    "        for text in texts:\n",
    "            res = res +\" \"+ text\n",
    "        return res.strip()\n",
    "    \n",
    "def trn_tst(dataframe, trn_p=0.8):\n",
    "    trn_df = pd.DataFrame()\n",
    "    tst_df = pd.DataFrame()\n",
    "    trn_txt = []\n",
    "    tst_txt = []\n",
    "    for text in dataframe.text:\n",
    "        lst = text.split(\" \")\n",
    "        len_ = len(lst)\n",
    "        trn_txt.append(merge(lst[:int(trn_p*len_)]))\n",
    "        tst_txt.append(merge(lst[int(trn_p*len_):]))\n",
    "        \n",
    "    trn_df['text'] = trn_txt\n",
    "    tst_df['text'] = tst_txt\n",
    "        \n",
    "    trn_df['label'] = dataframe.label\n",
    "    tst_df['label'] = dataframe.label\n",
    "    return trn_df, tst_df"
   ]
  },
  {
   "cell_type": "markdown",
   "metadata": {},
   "source": [
    "# Create Train and Test DataFrames"
   ]
  },
  {
   "cell_type": "code",
   "execution_count": 4,
   "metadata": {},
   "outputs": [
    {
     "name": "stderr",
     "output_type": "stream",
     "text": [
      "100%|██████████████████████████████████████████████████████████████████████████████████| 21/21 [00:01<00:00, 14.67it/s]\n"
     ]
    },
    {
     "name": "stdout",
     "output_type": "stream",
     "text": [
      "Wall time: 1.7 s\n"
     ]
    },
    {
     "data": {
      "text/plain": [
       "(21, 2)"
      ]
     },
     "execution_count": 4,
     "metadata": {},
     "output_type": "execute_result"
    }
   ],
   "source": [
    "%%time\n",
    "# create dataframe for train and test\n",
    "data = create_dataframe(labels, max_words=50000)\n",
    "data.shape"
   ]
  },
  {
   "cell_type": "code",
   "execution_count": 5,
   "metadata": {},
   "outputs": [
    {
     "data": {
      "text/plain": [
       "Index(['text', 'label'], dtype='object')"
      ]
     },
     "execution_count": 5,
     "metadata": {},
     "output_type": "execute_result"
    }
   ],
   "source": [
    "data.columns"
   ]
  },
  {
   "cell_type": "code",
   "execution_count": 6,
   "metadata": {},
   "outputs": [],
   "source": [
    "data.label.replace([i for i in range(len(labels))], labels, inplace=True)"
   ]
  },
  {
   "cell_type": "code",
   "execution_count": 7,
   "metadata": {
    "scrolled": true
   },
   "outputs": [],
   "source": [
    "trn_df, tst_df = trn_tst(data, 0.75)"
   ]
  },
  {
   "cell_type": "code",
   "execution_count": 8,
   "metadata": {},
   "outputs": [
    {
     "data": {
      "text/plain": [
       "20"
      ]
     },
     "execution_count": 8,
     "metadata": {},
     "output_type": "execute_result"
    }
   ],
   "source": [
    "del data\n",
    "gc.collect()"
   ]
  },
  {
   "cell_type": "markdown",
   "metadata": {},
   "source": [
    "# Train Shingle Model"
   ]
  },
  {
   "cell_type": "code",
   "execution_count": 9,
   "metadata": {},
   "outputs": [
    {
     "data": {
      "text/plain": [
       "(21, 2)"
      ]
     },
     "execution_count": 9,
     "metadata": {},
     "output_type": "execute_result"
    }
   ],
   "source": [
    "trn_df.shape"
   ]
  },
  {
   "cell_type": "code",
   "execution_count": 10,
   "metadata": {},
   "outputs": [
    {
     "data": {
      "text/html": [
       "<div>\n",
       "<style scoped>\n",
       "    .dataframe tbody tr th:only-of-type {\n",
       "        vertical-align: middle;\n",
       "    }\n",
       "\n",
       "    .dataframe tbody tr th {\n",
       "        vertical-align: top;\n",
       "    }\n",
       "\n",
       "    .dataframe thead th {\n",
       "        text-align: right;\n",
       "    }\n",
       "</style>\n",
       "<table border=\"1\" class=\"dataframe\">\n",
       "  <thead>\n",
       "    <tr style=\"text-align: right;\">\n",
       "      <th></th>\n",
       "      <th>text</th>\n",
       "      <th>label</th>\n",
       "    </tr>\n",
       "  </thead>\n",
       "  <tbody>\n",
       "    <tr>\n",
       "      <th>0</th>\n",
       "      <td>състав на парламента вж протоколи одобряване н...</td>\n",
       "      <td>bg</td>\n",
       "    </tr>\n",
       "  </tbody>\n",
       "</table>\n",
       "</div>"
      ],
      "text/plain": [
       "                                                text label\n",
       "0  състав на парламента вж протоколи одобряване н...    bg"
      ]
     },
     "execution_count": 10,
     "metadata": {},
     "output_type": "execute_result"
    }
   ],
   "source": [
    "trn_df.head(1)"
   ]
  },
  {
   "cell_type": "code",
   "execution_count": 59,
   "metadata": {},
   "outputs": [],
   "source": [
    "# initiate parameters\n",
    "ngram_range, smode = (1, 2), \"log\""
   ]
  },
  {
   "cell_type": "code",
   "execution_count": 60,
   "metadata": {
    "scrolled": true
   },
   "outputs": [],
   "source": [
    "# instanciate model\n",
    "model = Shingle(df=trn_df, ngram_range=ngram_range, smode=smode)\n",
    "# model.summary()"
   ]
  },
  {
   "cell_type": "code",
   "execution_count": 61,
   "metadata": {},
   "outputs": [],
   "source": [
    "model.add_metric(accuracy_score)"
   ]
  },
  {
   "cell_type": "code",
   "execution_count": 62,
   "metadata": {},
   "outputs": [
    {
     "name": "stdout",
     "output_type": "stream",
     "text": [
      "Wall time: 10.4 s\n"
     ]
    },
    {
     "data": {
      "text/plain": [
       "<shingle.Shingle at 0x23a51b0d148>"
      ]
     },
     "execution_count": 62,
     "metadata": {},
     "output_type": "execute_result"
    }
   ],
   "source": [
    "%%time\n",
    "# fit model\n",
    "model.fit(bs=2000)\n",
    "# model.to_pickle(\"./models/shingle.pkl\")"
   ]
  },
  {
   "cell_type": "code",
   "execution_count": 15,
   "metadata": {},
   "outputs": [],
   "source": [
    "# model.summary()"
   ]
  },
  {
   "cell_type": "markdown",
   "metadata": {},
   "source": [
    "# Test Shingle Model"
   ]
  },
  {
   "cell_type": "code",
   "execution_count": 25,
   "metadata": {},
   "outputs": [],
   "source": [
    "# maximum number of words in each sentence (row) in test dataframe\n",
    "max_lenght = 10"
   ]
  },
  {
   "cell_type": "code",
   "execution_count": 26,
   "metadata": {},
   "outputs": [],
   "source": [
    "# read test data\n",
    "tst_df = create_split_dataframe(tst_df, max_lenght)"
   ]
  },
  {
   "cell_type": "markdown",
   "metadata": {},
   "source": [
    "# Evaluate Shingle Model\n",
    "to add metrics use **{model_name}.add_metric(metric)**"
   ]
  },
  {
   "cell_type": "code",
   "execution_count": 19,
   "metadata": {},
   "outputs": [],
   "source": [
    "x_tst, y_tst = tst_df['text'], tst_df['label']"
   ]
  },
  {
   "cell_type": "code",
   "execution_count": null,
   "metadata": {},
   "outputs": [],
   "source": [
    "scores = model.evaluate(x_tst, y_tst)"
   ]
  },
  {
   "cell_type": "code",
   "execution_count": 20,
   "metadata": {},
   "outputs": [
    {
     "data": {
      "text/plain": [
       "2"
      ]
     },
     "execution_count": 20,
     "metadata": {},
     "output_type": "execute_result"
    }
   ],
   "source": [
    "len(scores)"
   ]
  },
  {
   "cell_type": "code",
   "execution_count": 64,
   "metadata": {},
   "outputs": [
    {
     "ename": "NameError",
     "evalue": "name 'scores' is not defined",
     "output_type": "error",
     "traceback": [
      "\u001b[1;31m---------------------------------------------------------------------------\u001b[0m",
      "\u001b[1;31mNameError\u001b[0m                                 Traceback (most recent call last)",
      "\u001b[1;32m<ipython-input-64-fa8cef49474b>\u001b[0m in \u001b[0;36m<module>\u001b[1;34m\u001b[0m\n\u001b[1;32m----> 1\u001b[1;33m \u001b[0mscores\u001b[0m\u001b[1;33m\u001b[0m\u001b[1;33m\u001b[0m\u001b[0m\n\u001b[0m",
      "\u001b[1;31mNameError\u001b[0m: name 'scores' is not defined"
     ]
    }
   ],
   "source": [
    "scores"
   ]
  },
  {
   "cell_type": "code",
   "execution_count": null,
   "metadata": {},
   "outputs": [],
   "source": []
  },
  {
   "cell_type": "markdown",
   "metadata": {},
   "source": [
    "# Test Different Scoring Modes"
   ]
  },
  {
   "cell_type": "code",
   "execution_count": 119,
   "metadata": {},
   "outputs": [],
   "source": [
    "def test_scoring_mode(modes):\n",
    "    scores = []\n",
    "    ngram_range, max_words, max_lenght, p, bs = (1, 4), 5000, 15, 0.75, 3000\n",
    "    data = create_dataframe(labels, max_words=max_words)\n",
    "    data.label.replace([i for i in range(len(labels))], labels, inplace=True)\n",
    "    trn_df, tst_df = trn_tst(data, p)\n",
    "    tst_df = create_split_dataframe(tst_df, max_lenght)\n",
    "    x_tst, y_tst = tst_df['text'], tst_df['label']\n",
    "    for mode in tqdm(modes):\n",
    "        model = Shingle(df=trn_df, ngram_range=ngram_range, smode=mode)\n",
    "        model.fit(bs=bs)\n",
    "        scores.append(model.evaluate(x_tst, y_tst)[0])\n",
    "    return scores"
   ]
  },
  {
   "cell_type": "code",
   "execution_count": 120,
   "metadata": {},
   "outputs": [
    {
     "name": "stderr",
     "output_type": "stream",
     "text": [
      "\n",
      "\n",
      "  0%|                                                                                           | 0/21 [00:00<?, ?it/s]\u001b[A\u001b[A\n",
      "\n",
      " 33%|███████████████████████████▋                                                       | 7/21 [00:00<00:00, 68.67it/s]\u001b[A\u001b[A\n",
      "\n",
      "100%|██████████████████████████████████████████████████████████████████████████████████| 21/21 [00:00<00:00, 68.22it/s]\u001b[A\u001b[A\n"
     ]
    },
    {
     "data": {
      "application/vnd.jupyter.widget-view+json": {
       "model_id": "bf3078f38693408990199e050b345b5f",
       "version_major": 2,
       "version_minor": 0
      },
      "text/plain": [
       "HBox(children=(FloatProgress(value=0.0, max=5.0), HTML(value='')))"
      ]
     },
     "metadata": {},
     "output_type": "display_data"
    },
    {
     "name": "stdout",
     "output_type": "stream",
     "text": [
      "\n"
     ]
    }
   ],
   "source": [
    "scores = test_scoring_mode(['sum', 'average', 'product', 'vote', 'log'])"
   ]
  },
  {
   "cell_type": "code",
   "execution_count": 121,
   "metadata": {},
   "outputs": [
    {
     "data": {
      "image/png": "[encoded data removed]",
      "text/plain": [
       "<Figure size 432x288 with 1 Axes>"
      ]
     },
     "metadata": {},
     "output_type": "display_data"
    }
   ],
   "source": [
    "scores = pd.DataFrame({\"method\":['sum', 'average', 'product', 'vote', 'log'], \"score\":scores})\n",
    "scores.plot(x=\"method\", y=\"score\", kind='bar')\n",
    "plt.savefig(\"./models/test_methods.png\")"
   ]
  },
  {
   "cell_type": "markdown",
   "metadata": {},
   "source": [
    "# Test Different Data Sizes (how much data used)"
   ]
  },
  {
   "cell_type": "code",
   "execution_count": 78,
   "metadata": {},
   "outputs": [],
   "source": [
    "def test_data(max_data=[]):\n",
    "    scores = []\n",
    "    ngram_range, smode, max_lenght, p = (1, 4), \"vote\", 25, 0.75\n",
    "    for max_words in tqdm(max_data):\n",
    "        data = create_dataframe(labels, max_words=max_words)\n",
    "        data.label.replace([i for i in range(len(labels))], labels, inplace=True)\n",
    "        trn_df, tst_df = trn_tst(data, p)\n",
    "        model = Shingle(df=trn_df, ngram_range=ngram_range, smode=smode)\n",
    "        model.fit(bs=2000)\n",
    "        tst_df = create_split_dataframe(tst_df, max_lenght)\n",
    "        x_tst, y_tst = tst_df['text'], tst_df['label']\n",
    "        scores.append(model.evaluate(x_tst, y_tst)[0])\n",
    "    return scores"
   ]
  },
  {
   "cell_type": "code",
   "execution_count": 79,
   "metadata": {},
   "outputs": [
    {
     "data": {
      "application/vnd.jupyter.widget-view+json": {
       "model_id": "7824935acc424996ae7982c65f49ae42",
       "version_major": 2,
       "version_minor": 0
      },
      "text/plain": [
       "HBox(children=(FloatProgress(value=0.0, max=7.0), HTML(value='')))"
      ]
     },
     "metadata": {},
     "output_type": "display_data"
    },
    {
     "name": "stderr",
     "output_type": "stream",
     "text": [
      "\n",
      "\n",
      "  0%|                                                                                           | 0/21 [00:00<?, ?it/s]\u001b[A\u001b[A\n",
      "\n",
      " 33%|███████████████████████████▋                                                       | 7/21 [00:00<00:00, 64.26it/s]\u001b[A\u001b[A\n",
      "\n",
      " 62%|██████████████████████████████████████████████████▊                               | 13/21 [00:00<00:00, 62.73it/s]\u001b[A\u001b[A\n",
      "\n",
      "100%|██████████████████████████████████████████████████████████████████████████████████| 21/21 [00:00<00:00, 60.21it/s]\u001b[A\u001b[A\n",
      "\n",
      "\n",
      "  0%|                                                                                           | 0/21 [00:00<?, ?it/s]\u001b[A\u001b[A\n",
      "\n",
      " 33%|███████████████████████████▋                                                       | 7/21 [00:00<00:00, 68.67it/s]\u001b[A\u001b[A\n",
      "\n",
      " 62%|██████████████████████████████████████████████████▊                               | 13/21 [00:00<00:00, 63.78it/s]\u001b[A\u001b[A\n",
      "\n",
      "100%|██████████████████████████████████████████████████████████████████████████████████| 21/21 [00:00<00:00, 57.01it/s]\u001b[A\u001b[A\n",
      "\n",
      "\n",
      "  0%|                                                                                           | 0/21 [00:00<?, ?it/s]\u001b[A\u001b[A\n",
      "\n",
      " 38%|███████████████████████████████▌                                                   | 8/21 [00:00<00:00, 69.01it/s]\u001b[A\u001b[A\n",
      "\n",
      " 71%|██████████████████████████████████████████████████████████▌                       | 15/21 [00:00<00:00, 67.90it/s]\u001b[A\u001b[A\n",
      "\n",
      "100%|██████████████████████████████████████████████████████████████████████████████████| 21/21 [00:00<00:00, 64.43it/s]\u001b[A\u001b[A\n",
      "\n",
      "\n",
      "  0%|                                                                                           | 0/21 [00:00<?, ?it/s]\u001b[A\u001b[A\n",
      "\n",
      " 24%|███████████████████▊                                                               | 5/21 [00:00<00:00, 46.76it/s]\u001b[A\u001b[A\n",
      "\n",
      " 57%|██████████████████████████████████████████████▊                                   | 12/21 [00:00<00:00, 50.70it/s]\u001b[A\u001b[A\n",
      "\n",
      "100%|██████████████████████████████████████████████████████████████████████████████████| 21/21 [00:00<00:00, 53.06it/s]\u001b[A\u001b[A\n",
      "\n",
      "\n",
      "  0%|                                                                                           | 0/21 [00:00<?, ?it/s]\u001b[A\u001b[A\n",
      "\n",
      " 33%|███████████████████████████▋                                                       | 7/21 [00:00<00:00, 66.08it/s]\u001b[A\u001b[A\n",
      "\n",
      " 62%|██████████████████████████████████████████████████▊                               | 13/21 [00:00<00:00, 63.50it/s]\u001b[A\u001b[A\n",
      "\n",
      "100%|██████████████████████████████████████████████████████████████████████████████████| 21/21 [00:00<00:00, 58.51it/s]\u001b[A\u001b[A\n",
      "\n",
      "\n",
      "  0%|                                                                                           | 0/21 [00:00<?, ?it/s]\u001b[A\u001b[A\n",
      "\n",
      " 29%|███████████████████████▋                                                           | 6/21 [00:00<00:00, 52.66it/s]\u001b[A\u001b[A\n",
      "\n",
      " 52%|██████████████████████████████████████████▉                                       | 11/21 [00:00<00:00, 48.81it/s]\u001b[A\u001b[A\n",
      "\n",
      " 76%|██████████████████████████████████████████████████████████████▍                   | 16/21 [00:00<00:00, 47.90it/s]\u001b[A\u001b[A\n",
      "\n",
      "100%|██████████████████████████████████████████████████████████████████████████████████| 21/21 [00:00<00:00, 45.19it/s]\u001b[A\u001b[A\n",
      "\n",
      "\n",
      "  0%|                                                                                           | 0/21 [00:00<?, ?it/s]\u001b[A\u001b[A\n",
      "\n",
      " 24%|███████████████████▊                                                               | 5/21 [00:00<00:00, 44.27it/s]\u001b[A\u001b[A\n",
      "\n",
      " 52%|██████████████████████████████████████████▉                                       | 11/21 [00:00<00:00, 45.34it/s]\u001b[A\u001b[A\n",
      "\n",
      " 76%|██████████████████████████████████████████████████████████████▍                   | 16/21 [00:00<00:00, 44.06it/s]\u001b[A\u001b[A\n",
      "\n",
      "100%|██████████████████████████████████████████████████████████████████████████████████| 21/21 [00:00<00:00, 43.46it/s]\u001b[A\u001b[A\n"
     ]
    },
    {
     "name": "stdout",
     "output_type": "stream",
     "text": [
      "\n"
     ]
    }
   ],
   "source": [
    "max_data = [1000, 3000, 5000, 9000, 17000, 33000, 65000]\n",
    "scores = test_data(max_data)"
   ]
  },
  {
   "cell_type": "code",
   "execution_count": 80,
   "metadata": {},
   "outputs": [
    {
     "data": {
      "image/png": "[encoded data removed]",
      "text/plain": [
       "<Figure size 432x288 with 1 Axes>"
      ]
     },
     "metadata": {},
     "output_type": "display_data"
    }
   ],
   "source": [
    "x = list(map(str, [int(i*0.75) for i in max_data]))\n",
    "plt.plot(x, scores, 'ro--')\n",
    "plt.xlabel(\"Words Per Language\")\n",
    "plt.ylabel(\"F1 Score\")\n",
    "plt.savefig(\"./models/test_data.png\")"
   ]
  },
  {
   "cell_type": "markdown",
   "metadata": {},
   "source": [
    "# Test Different NGram Ranges"
   ]
  },
  {
   "cell_type": "code",
   "execution_count": 81,
   "metadata": {},
   "outputs": [],
   "source": [
    "def test_ngram_range(ngram_ranges=[]):\n",
    "    scores = []\n",
    "    max_words, max_lenght, p, bs, mode = 5000, 15, 0.6, 3000, 'vote'\n",
    "    data = create_dataframe(labels, max_words=max_words)\n",
    "    data.label.replace([i for i in range(len(labels))], labels, inplace=True)\n",
    "    trn_df, tst_df = trn_tst(data, p)\n",
    "    tst_df = create_split_dataframe(tst_df, max_lenght)\n",
    "    x_tst, y_tst = tst_df['text'], tst_df['label']\n",
    "    for ngram_range in tqdm(ngram_ranges):\n",
    "        model = Shingle(df=trn_df, ngram_range=ngram_range, smode=mode)\n",
    "        model.fit(bs=bs)\n",
    "        scores.append(model.evaluate(x_tst, y_tst)[0])\n",
    "    return scores"
   ]
  },
  {
   "cell_type": "code",
   "execution_count": 82,
   "metadata": {},
   "outputs": [
    {
     "name": "stderr",
     "output_type": "stream",
     "text": [
      "\n",
      "  0%|                                                                                           | 0/21 [00:00<?, ?it/s]\u001b[A\n",
      " 33%|███████████████████████████▋                                                       | 7/21 [00:00<00:00, 63.80it/s]\u001b[A\n",
      " 67%|██████████████████████████████████████████████████████▋                           | 14/21 [00:00<00:00, 60.31it/s]\u001b[A\n",
      "100%|██████████████████████████████████████████████████████████████████████████████████| 21/21 [00:00<00:00, 57.08it/s]\u001b[A\n"
     ]
    },
    {
     "data": {
      "application/vnd.jupyter.widget-view+json": {
       "model_id": "6c7b8f95a7ee426d82256cf2aeb9235f",
       "version_major": 2,
       "version_minor": 0
      },
      "text/plain": [
       "HBox(children=(FloatProgress(value=0.0, max=7.0), HTML(value='')))"
      ]
     },
     "metadata": {},
     "output_type": "display_data"
    },
    {
     "name": "stdout",
     "output_type": "stream",
     "text": [
      "\n"
     ]
    }
   ],
   "source": [
    "ngram_ranges = [(1, 1), (1, 2), (1, 3), (1, 4), (1, 5), (1, 6), (1, 7)]\n",
    "x = list(map(str, ngram_ranges))\n",
    "scores = test_ngram_range(ngram_ranges)"
   ]
  },
  {
   "cell_type": "code",
   "execution_count": 84,
   "metadata": {},
   "outputs": [
    {
     "data": {
      "image/png": "[encoded data removed]",
      "text/plain": [
       "<Figure size 432x288 with 1 Axes>"
      ]
     },
     "metadata": {},
     "output_type": "display_data"
    }
   ],
   "source": [
    "plt.plot(x, scores, 'ro--')\n",
    "plt.xlabel(\"N-Gram Range\")\n",
    "plt.ylabel(\"F1 Score\")\n",
    "plt.savefig(\"./models/test_ngram.png\")"
   ]
  },
  {
   "cell_type": "code",
   "execution_count": 83,
   "metadata": {},
   "outputs": [
    {
     "data": {
      "text/plain": [
       "[0.6115385306210709,\n",
       " 0.9318835716084954,\n",
       " 0.9774943420190473,\n",
       " 0.9797118895125061,\n",
       " 0.9794905329228454,\n",
       " 0.9790568688585575,\n",
       " 0.978628526640107]"
      ]
     },
     "execution_count": 83,
     "metadata": {},
     "output_type": "execute_result"
    }
   ],
   "source": [
    "scores"
   ]
  },
  {
   "cell_type": "markdown",
   "metadata": {},
   "source": [
    "# Test Lenght of Sentences"
   ]
  },
  {
   "cell_type": "code",
   "execution_count": 106,
   "metadata": {},
   "outputs": [],
   "source": [
    "def test_lenght(max_lenghts=[]):\n",
    "    scores = []\n",
    "    max_words, ngram_range, p, bs, mode = 5000, (1, 3), 0.6, 3000, 'average'\n",
    "    data = create_dataframe(labels, max_words=max_words)\n",
    "    data.label.replace([i for i in range(len(labels))], labels, inplace=True)\n",
    "    trn_df, tst_df = trn_tst(data, p)\n",
    "    model = Shingle(df=trn_df, ngram_range=ngram_range, smode=mode)\n",
    "    model.fit(bs=bs)\n",
    "    for max_lenght in tqdm(max_lenghts):\n",
    "        tst_tmp = create_split_dataframe(tst_df, max_lenght)\n",
    "        x_tst, y_tst = tst_tmp['text'], tst_tmp['label']\n",
    "        scores.append(model.evaluate(x_tst, y_tst)[0])\n",
    "    return scores"
   ]
  },
  {
   "cell_type": "code",
   "execution_count": 107,
   "metadata": {},
   "outputs": [
    {
     "name": "stderr",
     "output_type": "stream",
     "text": [
      "\n",
      "\n",
      "  0%|                                                                                           | 0/21 [00:00<?, ?it/s]\u001b[A\u001b[A\n",
      "\n",
      " 38%|███████████████████████████████▌                                                   | 8/21 [00:00<00:00, 69.65it/s]\u001b[A\u001b[A\n",
      "\n",
      " 67%|██████████████████████████████████████████████████████▋                           | 14/21 [00:00<00:00, 66.14it/s]\u001b[A\u001b[A\n",
      "\n",
      "100%|██████████████████████████████████████████████████████████████████████████████████| 21/21 [00:00<00:00, 65.88it/s]\u001b[A\u001b[A\n"
     ]
    },
    {
     "data": {
      "application/vnd.jupyter.widget-view+json": {
       "model_id": "abe27a425c2b440587d77e1cb8ab9468",
       "version_major": 2,
       "version_minor": 0
      },
      "text/plain": [
       "HBox(children=(FloatProgress(value=0.0, max=8.0), HTML(value='')))"
      ]
     },
     "metadata": {},
     "output_type": "display_data"
    },
    {
     "name": "stdout",
     "output_type": "stream",
     "text": [
      "\n"
     ]
    },
    {
     "data": {
      "text/plain": [
       "[<matplotlib.lines.Line2D at 0x23a55f84dc8>]"
      ]
     },
     "execution_count": 107,
     "metadata": {},
     "output_type": "execute_result"
    },
    {
     "data": {
      "image/png": "[encoded data removed]",
      "text/plain": [
       "<Figure size 432x288 with 1 Axes>"
      ]
     },
     "metadata": {},
     "output_type": "display_data"
    }
   ],
   "source": [
    "max_lenghts = [3, 5, 7, 11, 15, 17, 19, 27]\n",
    "x = list(map(str, max_lenghts))\n",
    "scores = test_lenght(max_lenghts)\n",
    "plt.plot(x, scores, 'ro--')"
   ]
  },
  {
   "cell_type": "code",
   "execution_count": 108,
   "metadata": {},
   "outputs": [
    {
     "data": {
      "text/plain": [
       "[0.7314476723619244,\n",
       " 0.7794928762975708,\n",
       " 0.8135213684729511,\n",
       " 0.8437807686087822,\n",
       " 0.8736838357240327,\n",
       " 0.8780810718893216,\n",
       " 0.895354708514854,\n",
       " 0.906911691802263]"
      ]
     },
     "execution_count": 108,
     "metadata": {},
     "output_type": "execute_result"
    }
   ],
   "source": [
    "scores"
   ]
  },
  {
   "cell_type": "code",
   "execution_count": 109,
   "metadata": {},
   "outputs": [],
   "source": [
    "S[\"average\"] = scores"
   ]
  },
  {
   "cell_type": "code",
   "execution_count": 112,
   "metadata": {},
   "outputs": [],
   "source": [
    "S[\"length\"] = max_lenghts"
   ]
  },
  {
   "cell_type": "code",
   "execution_count": 113,
   "metadata": {},
   "outputs": [
    {
     "data": {
      "text/html": [
       "<div>\n",
       "<style scoped>\n",
       "    .dataframe tbody tr th:only-of-type {\n",
       "        vertical-align: middle;\n",
       "    }\n",
       "\n",
       "    .dataframe tbody tr th {\n",
       "        vertical-align: top;\n",
       "    }\n",
       "\n",
       "    .dataframe thead th {\n",
       "        text-align: right;\n",
       "    }\n",
       "</style>\n",
       "<table border=\"1\" class=\"dataframe\">\n",
       "  <thead>\n",
       "    <tr style=\"text-align: right;\">\n",
       "      <th></th>\n",
       "      <th>vote</th>\n",
       "      <th>product</th>\n",
       "      <th>log</th>\n",
       "      <th>sum</th>\n",
       "      <th>average</th>\n",
       "      <th>length</th>\n",
       "    </tr>\n",
       "  </thead>\n",
       "  <tbody>\n",
       "    <tr>\n",
       "      <th>0</th>\n",
       "      <td>0.913347</td>\n",
       "      <td>0.735128</td>\n",
       "      <td>0.735128</td>\n",
       "      <td>0.731448</td>\n",
       "      <td>0.731448</td>\n",
       "      <td>3</td>\n",
       "    </tr>\n",
       "    <tr>\n",
       "      <th>1</th>\n",
       "      <td>0.940771</td>\n",
       "      <td>0.783589</td>\n",
       "      <td>0.784344</td>\n",
       "      <td>0.784575</td>\n",
       "      <td>0.779493</td>\n",
       "      <td>5</td>\n",
       "    </tr>\n",
       "    <tr>\n",
       "      <th>2</th>\n",
       "      <td>0.954893</td>\n",
       "      <td>0.815333</td>\n",
       "      <td>0.817080</td>\n",
       "      <td>0.807289</td>\n",
       "      <td>0.813521</td>\n",
       "      <td>7</td>\n",
       "    </tr>\n",
       "    <tr>\n",
       "      <th>3</th>\n",
       "      <td>0.969918</td>\n",
       "      <td>0.845835</td>\n",
       "      <td>0.854506</td>\n",
       "      <td>0.845722</td>\n",
       "      <td>0.843781</td>\n",
       "      <td>11</td>\n",
       "    </tr>\n",
       "    <tr>\n",
       "      <th>4</th>\n",
       "      <td>0.978571</td>\n",
       "      <td>0.874761</td>\n",
       "      <td>0.870226</td>\n",
       "      <td>0.869611</td>\n",
       "      <td>0.873684</td>\n",
       "      <td>15</td>\n",
       "    </tr>\n",
       "    <tr>\n",
       "      <th>5</th>\n",
       "      <td>0.983866</td>\n",
       "      <td>0.884872</td>\n",
       "      <td>0.882701</td>\n",
       "      <td>0.884217</td>\n",
       "      <td>0.878081</td>\n",
       "      <td>17</td>\n",
       "    </tr>\n",
       "    <tr>\n",
       "      <th>6</th>\n",
       "      <td>0.985687</td>\n",
       "      <td>0.893994</td>\n",
       "      <td>0.887085</td>\n",
       "      <td>0.891785</td>\n",
       "      <td>0.895355</td>\n",
       "      <td>19</td>\n",
       "    </tr>\n",
       "    <tr>\n",
       "      <th>7</th>\n",
       "      <td>0.986379</td>\n",
       "      <td>0.919642</td>\n",
       "      <td>0.913383</td>\n",
       "      <td>0.899742</td>\n",
       "      <td>0.906912</td>\n",
       "      <td>27</td>\n",
       "    </tr>\n",
       "  </tbody>\n",
       "</table>\n",
       "</div>"
      ],
      "text/plain": [
       "       vote   product       log       sum   average  length\n",
       "0  0.913347  0.735128  0.735128  0.731448  0.731448       3\n",
       "1  0.940771  0.783589  0.784344  0.784575  0.779493       5\n",
       "2  0.954893  0.815333  0.817080  0.807289  0.813521       7\n",
       "3  0.969918  0.845835  0.854506  0.845722  0.843781      11\n",
       "4  0.978571  0.874761  0.870226  0.869611  0.873684      15\n",
       "5  0.983866  0.884872  0.882701  0.884217  0.878081      17\n",
       "6  0.985687  0.893994  0.887085  0.891785  0.895355      19\n",
       "7  0.986379  0.919642  0.913383  0.899742  0.906912      27"
      ]
     },
     "execution_count": 113,
     "metadata": {},
     "output_type": "execute_result"
    }
   ],
   "source": [
    "s = pd.DataFrame(S)\n",
    "s"
   ]
  },
  {
   "cell_type": "code",
   "execution_count": 117,
   "metadata": {},
   "outputs": [
    {
     "data": {
      "image/png": "[encoded data removed]",
      "text/plain": [
       "<Figure size 432x288 with 1 Axes>"
      ]
     },
     "metadata": {},
     "output_type": "display_data"
    }
   ],
   "source": [
    "s.plot(x=\"length\")\n",
    "plt.ylabel(\"F1 Score\")\n",
    "plt.savefig(\"./models/rank_lengths.png\")"
   ]
  },
  {
   "cell_type": "code",
   "execution_count": null,
   "metadata": {},
   "outputs": [],
   "source": []
  }
 ],
 "metadata": {
  "kernelspec": {
   "display_name": "Python 3",
   "language": "python",
   "name": "python3"
  },
  "language_info": {
   "codemirror_mode": {
    "name": "ipython",
    "version": 3
   },
   "file_extension": ".py",
   "mimetype": "text/x-python",
   "name": "python",
   "nbconvert_exporter": "python",
   "pygments_lexer": "ipython3",
   "version": "3.7.5"
  }
 },
 "nbformat": 4,
 "nbformat_minor": 2
}
