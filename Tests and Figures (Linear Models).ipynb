{
 "cells": [
  {
   "cell_type": "code",
   "execution_count": 98,
   "metadata": {},
   "outputs": [],
   "source": [
    "%reload_ext autoreload\n",
    "%autoreload 2\n",
    "%matplotlib inline"
   ]
  },
  {
   "cell_type": "code",
   "execution_count": 99,
   "metadata": {},
   "outputs": [],
   "source": [
    "import six\n",
    "import pandas as pd\n",
    "import numpy as np\n",
    "from sklearn.svm import SVC\n",
    "from tqdm.notebook import tqdm\n",
    "from sklearn.ensemble import RandomForestClassifier\n",
    "from text import create_dataframe, trn_tst, create_split_dataframe\n",
    "from statistical_models import *"
   ]
  },
  {
   "cell_type": "code",
   "execution_count": 104,
   "metadata": {},
   "outputs": [],
   "source": [
    "def test_model(m, test_params):\n",
    "    \"\"\"\n",
    "    m: one of [\"lg\", \"svm\", \"rf\", \"nb\"]\n",
    "    \"\"\"\n",
    "    max_words, p, max_lenght = 15000, 0.8, 30\n",
    "    # create dataframe for train and test\n",
    "    data = create_dataframe(labels, max_words=max_words)\n",
    "    trn_df, tst_df = trn_tst(data, p)\n",
    "    tst_df = create_split_dataframe(tst_df, max_lenght)\n",
    "    x_trn, y_trn = trn_df['text'], trn_df['label']\n",
    "    x_tst, y_tst = tst_df['text'], tst_df['label']\n",
    "    scores = main(test_params, x_trn, x_tst, y_trn, y_tst, m=m)\n",
    "#     plt.style.use(\"ggplot\")\n",
    "#     scores.mean().plot(figsize=(10, 10), kind='bar')\n",
    "    print(\"means are {}\".format(scores.mean()))\n",
    "    return scores\n",
    "\n",
    "def test_data(m, max_data=[]):\n",
    "\n",
    "    p, max_lenght, test_params = 0.6, 10, {\"char\":[(1, 1), (1, 2)]}\n",
    "    # create dataframe for train and test\n",
    "    scores = []\n",
    "    names = []\n",
    "    for max_words in tqdm(max_data):\n",
    "        data = create_dataframe(labels, max_words=max_words)\n",
    "        trn_df, tst_df = trn_tst(data, p)\n",
    "        tst_df = create_split_dataframe(tst_df, max_lenght)    \n",
    "        x_trn, y_trn = trn_df['text'], trn_df['label']\n",
    "        x_tst, y_tst = tst_df['text'], tst_df['label']\n",
    "        tmp = main(test_params, x_trn, x_tst, y_trn, y_tst, m=m).mean()\n",
    "        names += list(map(lambda r: r+\"_\"+str(max_words), list(tmp.index)))\n",
    "        scores += tmp.tolist()\n",
    "#     plt.style.use(\"ggplot\")\n",
    "#     scores.mean().plot(figsize=(10, 10), kind='bar')\n",
    "#     print(\"means are {}\".format(scores.mean()))\n",
    "    return pd.DataFrame({\"model\":names, 'score':scores})\n",
    "\n",
    "def test_sentence_lenghts(m, max_lenghts=[]):\n",
    "    max_words, p, test_params = 10000, 0.8, {\"char\":[(1, 4)]}\n",
    "    # create dataframe for train and test\n",
    "    scores = []\n",
    "    names = []\n",
    "    data = create_dataframe(labels, max_words=max_words)\n",
    "    trn_df, tst_df0 = trn_tst(data, p)\n",
    "    x_trn, y_trn = trn_df['text'], trn_df['label']\n",
    "    for max_lenght in tqdm(max_lenghts):\n",
    "        tst_df = create_split_dataframe(tst_df0, max_lenght)    \n",
    "        x_tst, y_tst = tst_df['text'], tst_df['label']\n",
    "        tmp = main(test_params, x_trn, x_tst, y_trn, y_tst, m=m).mean()\n",
    "        names += list(map(lambda r: r+\"_\"+str(max_lenght), list(tmp.index)))\n",
    "        scores += tmp.tolist()\n",
    "    return pd.DataFrame({\"model\":names, 'score':scores})\n",
    "\n",
    "def render_mpl_table(data, col_width=3.0, row_height=0.625, font_size=14,\n",
    "                     header_color='#40466e', row_colors=['#f1f1f2', 'w'], edge_color='w',\n",
    "                     bbox=[0, 0, 1, 1], header_columns=0,\n",
    "                     ax=None, **kwargs):\n",
    "    if ax is None:\n",
    "        size = (np.array(data.shape[::-1]) + np.array([0, 1])) * np.array([col_width, row_height])\n",
    "        fig, ax = plt.subplots(figsize=size)\n",
    "        ax.axis('off')\n",
    "\n",
    "    mpl_table = ax.table(cellText=data.values, bbox=bbox, colLabels=data.columns, **kwargs)\n",
    "\n",
    "    mpl_table.auto_set_font_size(False)\n",
    "    mpl_table.set_fontsize(font_size)\n",
    "\n",
    "    for k, cell in  six.iteritems(mpl_table._cells):\n",
    "        cell.set_edgecolor(edge_color)\n",
    "        if k[0] == 0 or k[1] < header_columns:\n",
    "            cell.set_text_props(weight='bold', color='w')\n",
    "            cell.set_facecolor(header_color)\n",
    "        else:\n",
    "            cell.set_facecolor(row_colors[k[0]%len(row_colors) ])\n",
    "    return ax"
   ]
  },
  {
   "cell_type": "code",
   "execution_count": 78,
   "metadata": {},
   "outputs": [],
   "source": [
    "SVC??"
   ]
  },
  {
   "cell_type": "markdown",
   "metadata": {},
   "source": [
    "# Test Logistic Regression"
   ]
  },
  {
   "cell_type": "code",
   "execution_count": 47,
   "metadata": {},
   "outputs": [
    {
     "name": "stderr",
     "output_type": "stream",
     "text": [
      "100%|██████████████████████████████████████████████████████████████████████████████████| 21/21 [00:00<00:00, 70.11it/s]\n"
     ]
    },
    {
     "name": "stdout",
     "output_type": "stream",
     "text": [
      "means are accuracy-score_1_char    0.784810\n",
      "f1-score_1_char          0.775072\n",
      "accuracy-score_2_char    0.890032\n",
      "f1-score_2_char          0.888380\n",
      "accuracy-score_3_char    0.915348\n",
      "f1-score_3_char          0.914240\n",
      "accuracy-score_4_char    0.909810\n",
      "f1-score_4_char          0.910408\n",
      "accuracy-score_5_char    0.904272\n",
      "f1-score_5_char          0.907279\n",
      "dtype: float64\n"
     ]
    }
   ],
   "source": [
    "m, test_params = \"lrg\", {\"char\":[(1, 1), (1, 2), (1, 3), (1, 4), (1, 5)]}\n",
    "scores = test_model(m, test_params)"
   ]
  },
  {
   "cell_type": "code",
   "execution_count": 38,
   "metadata": {
    "collapsed": true
   },
   "outputs": [
    {
     "data": {
      "text/html": [
       "<div>\n",
       "<style scoped>\n",
       "    .dataframe tbody tr th:only-of-type {\n",
       "        vertical-align: middle;\n",
       "    }\n",
       "\n",
       "    .dataframe tbody tr th {\n",
       "        vertical-align: top;\n",
       "    }\n",
       "\n",
       "    .dataframe thead th {\n",
       "        text-align: right;\n",
       "    }\n",
       "</style>\n",
       "<table border=\"1\" class=\"dataframe\">\n",
       "  <thead>\n",
       "    <tr style=\"text-align: right;\">\n",
       "      <th></th>\n",
       "      <th>languages</th>\n",
       "      <th>accuracy-score_1_char</th>\n",
       "      <th>f1-score_1_char</th>\n",
       "      <th>accuracy-score_2_char</th>\n",
       "      <th>f1-score_2_char</th>\n",
       "      <th>accuracy-score_3_char</th>\n",
       "      <th>f1-score_3_char</th>\n",
       "      <th>accuracy-score_4_char</th>\n",
       "      <th>f1-score_4_char</th>\n",
       "      <th>accuracy-score_5_char</th>\n",
       "      <th>f1-score_5_char</th>\n",
       "    </tr>\n",
       "  </thead>\n",
       "  <tbody>\n",
       "    <tr>\n",
       "      <th>0</th>\n",
       "      <td>Bulgarian</td>\n",
       "      <td>0.756116</td>\n",
       "      <td>0.984127</td>\n",
       "      <td>0.87156</td>\n",
       "      <td>0.939394</td>\n",
       "      <td>0.891437</td>\n",
       "      <td>0.832215</td>\n",
       "      <td>0.889908</td>\n",
       "      <td>0.729412</td>\n",
       "      <td>0.879969</td>\n",
       "      <td>0.645833</td>\n",
       "    </tr>\n",
       "    <tr>\n",
       "      <th>1</th>\n",
       "      <td>Czech</td>\n",
       "      <td>0.756116</td>\n",
       "      <td>0.884956</td>\n",
       "      <td>0.87156</td>\n",
       "      <td>0.920354</td>\n",
       "      <td>0.891437</td>\n",
       "      <td>0.929825</td>\n",
       "      <td>0.889908</td>\n",
       "      <td>0.936937</td>\n",
       "      <td>0.879969</td>\n",
       "      <td>0.927273</td>\n",
       "    </tr>\n",
       "    <tr>\n",
       "      <th>2</th>\n",
       "      <td>Danish</td>\n",
       "      <td>0.756116</td>\n",
       "      <td>0.803150</td>\n",
       "      <td>0.87156</td>\n",
       "      <td>0.919355</td>\n",
       "      <td>0.891437</td>\n",
       "      <td>0.966102</td>\n",
       "      <td>0.889908</td>\n",
       "      <td>0.948276</td>\n",
       "      <td>0.879969</td>\n",
       "      <td>0.939130</td>\n",
       "    </tr>\n",
       "    <tr>\n",
       "      <th>3</th>\n",
       "      <td>German</td>\n",
       "      <td>0.756116</td>\n",
       "      <td>0.654088</td>\n",
       "      <td>0.87156</td>\n",
       "      <td>0.824427</td>\n",
       "      <td>0.891437</td>\n",
       "      <td>0.892562</td>\n",
       "      <td>0.889908</td>\n",
       "      <td>0.898305</td>\n",
       "      <td>0.879969</td>\n",
       "      <td>0.905983</td>\n",
       "    </tr>\n",
       "    <tr>\n",
       "      <th>4</th>\n",
       "      <td>Greek</td>\n",
       "      <td>0.756116</td>\n",
       "      <td>0.964912</td>\n",
       "      <td>0.87156</td>\n",
       "      <td>0.932203</td>\n",
       "      <td>0.891437</td>\n",
       "      <td>0.894309</td>\n",
       "      <td>0.889908</td>\n",
       "      <td>0.852713</td>\n",
       "      <td>0.879969</td>\n",
       "      <td>0.859375</td>\n",
       "    </tr>\n",
       "    <tr>\n",
       "      <th>5</th>\n",
       "      <td>English</td>\n",
       "      <td>0.756116</td>\n",
       "      <td>0.547368</td>\n",
       "      <td>0.87156</td>\n",
       "      <td>0.830508</td>\n",
       "      <td>0.891437</td>\n",
       "      <td>0.878049</td>\n",
       "      <td>0.889908</td>\n",
       "      <td>0.904762</td>\n",
       "      <td>0.879969</td>\n",
       "      <td>0.896000</td>\n",
       "    </tr>\n",
       "    <tr>\n",
       "      <th>6</th>\n",
       "      <td>Spanish</td>\n",
       "      <td>0.756116</td>\n",
       "      <td>0.404762</td>\n",
       "      <td>0.87156</td>\n",
       "      <td>0.807692</td>\n",
       "      <td>0.891437</td>\n",
       "      <td>0.892857</td>\n",
       "      <td>0.889908</td>\n",
       "      <td>0.902655</td>\n",
       "      <td>0.879969</td>\n",
       "      <td>0.902655</td>\n",
       "    </tr>\n",
       "    <tr>\n",
       "      <th>7</th>\n",
       "      <td>Estonian</td>\n",
       "      <td>0.756116</td>\n",
       "      <td>0.763359</td>\n",
       "      <td>0.87156</td>\n",
       "      <td>0.917293</td>\n",
       "      <td>0.891437</td>\n",
       "      <td>0.924242</td>\n",
       "      <td>0.889908</td>\n",
       "      <td>0.961832</td>\n",
       "      <td>0.879969</td>\n",
       "      <td>0.961832</td>\n",
       "    </tr>\n",
       "    <tr>\n",
       "      <th>8</th>\n",
       "      <td>Finnish</td>\n",
       "      <td>0.756116</td>\n",
       "      <td>0.808219</td>\n",
       "      <td>0.87156</td>\n",
       "      <td>0.893939</td>\n",
       "      <td>0.891437</td>\n",
       "      <td>0.921875</td>\n",
       "      <td>0.889908</td>\n",
       "      <td>0.936508</td>\n",
       "      <td>0.879969</td>\n",
       "      <td>0.936508</td>\n",
       "    </tr>\n",
       "    <tr>\n",
       "      <th>9</th>\n",
       "      <td>French</td>\n",
       "      <td>0.756116</td>\n",
       "      <td>0.545455</td>\n",
       "      <td>0.87156</td>\n",
       "      <td>0.782609</td>\n",
       "      <td>0.891437</td>\n",
       "      <td>0.810345</td>\n",
       "      <td>0.889908</td>\n",
       "      <td>0.814159</td>\n",
       "      <td>0.879969</td>\n",
       "      <td>0.821429</td>\n",
       "    </tr>\n",
       "    <tr>\n",
       "      <th>10</th>\n",
       "      <td>Hungarian</td>\n",
       "      <td>0.756116</td>\n",
       "      <td>0.944882</td>\n",
       "      <td>0.87156</td>\n",
       "      <td>0.975207</td>\n",
       "      <td>0.891437</td>\n",
       "      <td>0.957983</td>\n",
       "      <td>0.889908</td>\n",
       "      <td>0.950000</td>\n",
       "      <td>0.879969</td>\n",
       "      <td>0.950000</td>\n",
       "    </tr>\n",
       "    <tr>\n",
       "      <th>11</th>\n",
       "      <td>Italian</td>\n",
       "      <td>0.756116</td>\n",
       "      <td>0.400000</td>\n",
       "      <td>0.87156</td>\n",
       "      <td>0.737864</td>\n",
       "      <td>0.891437</td>\n",
       "      <td>0.828829</td>\n",
       "      <td>0.889908</td>\n",
       "      <td>0.818182</td>\n",
       "      <td>0.879969</td>\n",
       "      <td>0.807339</td>\n",
       "    </tr>\n",
       "    <tr>\n",
       "      <th>12</th>\n",
       "      <td>Lithuanian</td>\n",
       "      <td>0.756116</td>\n",
       "      <td>0.662857</td>\n",
       "      <td>0.87156</td>\n",
       "      <td>0.810811</td>\n",
       "      <td>0.891437</td>\n",
       "      <td>0.836879</td>\n",
       "      <td>0.889908</td>\n",
       "      <td>0.867647</td>\n",
       "      <td>0.879969</td>\n",
       "      <td>0.874074</td>\n",
       "    </tr>\n",
       "    <tr>\n",
       "      <th>13</th>\n",
       "      <td>Latvian</td>\n",
       "      <td>0.756116</td>\n",
       "      <td>0.835821</td>\n",
       "      <td>0.87156</td>\n",
       "      <td>0.938462</td>\n",
       "      <td>0.891437</td>\n",
       "      <td>0.953846</td>\n",
       "      <td>0.889908</td>\n",
       "      <td>0.929134</td>\n",
       "      <td>0.879969</td>\n",
       "      <td>0.920635</td>\n",
       "    </tr>\n",
       "    <tr>\n",
       "      <th>14</th>\n",
       "      <td>Dutch</td>\n",
       "      <td>0.756116</td>\n",
       "      <td>0.710280</td>\n",
       "      <td>0.87156</td>\n",
       "      <td>0.907563</td>\n",
       "      <td>0.891437</td>\n",
       "      <td>0.924370</td>\n",
       "      <td>0.889908</td>\n",
       "      <td>0.931034</td>\n",
       "      <td>0.879969</td>\n",
       "      <td>0.939130</td>\n",
       "    </tr>\n",
       "    <tr>\n",
       "      <th>15</th>\n",
       "      <td>Polish</td>\n",
       "      <td>0.756116</td>\n",
       "      <td>0.900763</td>\n",
       "      <td>0.87156</td>\n",
       "      <td>0.939394</td>\n",
       "      <td>0.891437</td>\n",
       "      <td>0.954545</td>\n",
       "      <td>0.889908</td>\n",
       "      <td>0.945736</td>\n",
       "      <td>0.879969</td>\n",
       "      <td>0.937500</td>\n",
       "    </tr>\n",
       "    <tr>\n",
       "      <th>16</th>\n",
       "      <td>Portuguese</td>\n",
       "      <td>0.756116</td>\n",
       "      <td>0.715328</td>\n",
       "      <td>0.87156</td>\n",
       "      <td>0.794118</td>\n",
       "      <td>0.891437</td>\n",
       "      <td>0.837209</td>\n",
       "      <td>0.889908</td>\n",
       "      <td>0.859375</td>\n",
       "      <td>0.879969</td>\n",
       "      <td>0.838710</td>\n",
       "    </tr>\n",
       "    <tr>\n",
       "      <th>17</th>\n",
       "      <td>Romanian</td>\n",
       "      <td>0.756116</td>\n",
       "      <td>0.694118</td>\n",
       "      <td>0.87156</td>\n",
       "      <td>0.821192</td>\n",
       "      <td>0.891437</td>\n",
       "      <td>0.867133</td>\n",
       "      <td>0.889908</td>\n",
       "      <td>0.885714</td>\n",
       "      <td>0.879969</td>\n",
       "      <td>0.884058</td>\n",
       "    </tr>\n",
       "    <tr>\n",
       "      <th>18</th>\n",
       "      <td>Slovak</td>\n",
       "      <td>0.756116</td>\n",
       "      <td>0.731707</td>\n",
       "      <td>0.87156</td>\n",
       "      <td>0.810345</td>\n",
       "      <td>0.891437</td>\n",
       "      <td>0.824561</td>\n",
       "      <td>0.889908</td>\n",
       "      <td>0.842105</td>\n",
       "      <td>0.879969</td>\n",
       "      <td>0.849558</td>\n",
       "    </tr>\n",
       "    <tr>\n",
       "      <th>19</th>\n",
       "      <td>Slovenian</td>\n",
       "      <td>0.756116</td>\n",
       "      <td>0.823529</td>\n",
       "      <td>0.87156</td>\n",
       "      <td>0.906250</td>\n",
       "      <td>0.891437</td>\n",
       "      <td>0.914729</td>\n",
       "      <td>0.889908</td>\n",
       "      <td>0.923077</td>\n",
       "      <td>0.879969</td>\n",
       "      <td>0.913386</td>\n",
       "    </tr>\n",
       "    <tr>\n",
       "      <th>20</th>\n",
       "      <td>Swedish</td>\n",
       "      <td>0.756116</td>\n",
       "      <td>0.877193</td>\n",
       "      <td>0.87156</td>\n",
       "      <td>0.875000</td>\n",
       "      <td>0.891437</td>\n",
       "      <td>0.884956</td>\n",
       "      <td>0.889908</td>\n",
       "      <td>0.902655</td>\n",
       "      <td>0.879969</td>\n",
       "      <td>0.892857</td>\n",
       "    </tr>\n",
       "  </tbody>\n",
       "</table>\n",
       "</div>"
      ],
      "text/plain": [
       "     languages  accuracy-score_1_char  f1-score_1_char  accuracy-score_2_char  \\\n",
       "0    Bulgarian               0.756116         0.984127                0.87156   \n",
       "1        Czech               0.756116         0.884956                0.87156   \n",
       "2       Danish               0.756116         0.803150                0.87156   \n",
       "3       German               0.756116         0.654088                0.87156   \n",
       "4        Greek               0.756116         0.964912                0.87156   \n",
       "5      English               0.756116         0.547368                0.87156   \n",
       "6      Spanish               0.756116         0.404762                0.87156   \n",
       "7     Estonian               0.756116         0.763359                0.87156   \n",
       "8      Finnish               0.756116         0.808219                0.87156   \n",
       "9       French               0.756116         0.545455                0.87156   \n",
       "10   Hungarian               0.756116         0.944882                0.87156   \n",
       "11     Italian               0.756116         0.400000                0.87156   \n",
       "12  Lithuanian               0.756116         0.662857                0.87156   \n",
       "13     Latvian               0.756116         0.835821                0.87156   \n",
       "14       Dutch               0.756116         0.710280                0.87156   \n",
       "15      Polish               0.756116         0.900763                0.87156   \n",
       "16  Portuguese               0.756116         0.715328                0.87156   \n",
       "17    Romanian               0.756116         0.694118                0.87156   \n",
       "18      Slovak               0.756116         0.731707                0.87156   \n",
       "19   Slovenian               0.756116         0.823529                0.87156   \n",
       "20     Swedish               0.756116         0.877193                0.87156   \n",
       "\n",
       "    f1-score_2_char  accuracy-score_3_char  f1-score_3_char  \\\n",
       "0          0.939394               0.891437         0.832215   \n",
       "1          0.920354               0.891437         0.929825   \n",
       "2          0.919355               0.891437         0.966102   \n",
       "3          0.824427               0.891437         0.892562   \n",
       "4          0.932203               0.891437         0.894309   \n",
       "5          0.830508               0.891437         0.878049   \n",
       "6          0.807692               0.891437         0.892857   \n",
       "7          0.917293               0.891437         0.924242   \n",
       "8          0.893939               0.891437         0.921875   \n",
       "9          0.782609               0.891437         0.810345   \n",
       "10         0.975207               0.891437         0.957983   \n",
       "11         0.737864               0.891437         0.828829   \n",
       "12         0.810811               0.891437         0.836879   \n",
       "13         0.938462               0.891437         0.953846   \n",
       "14         0.907563               0.891437         0.924370   \n",
       "15         0.939394               0.891437         0.954545   \n",
       "16         0.794118               0.891437         0.837209   \n",
       "17         0.821192               0.891437         0.867133   \n",
       "18         0.810345               0.891437         0.824561   \n",
       "19         0.906250               0.891437         0.914729   \n",
       "20         0.875000               0.891437         0.884956   \n",
       "\n",
       "    accuracy-score_4_char  f1-score_4_char  accuracy-score_5_char  \\\n",
       "0                0.889908         0.729412               0.879969   \n",
       "1                0.889908         0.936937               0.879969   \n",
       "2                0.889908         0.948276               0.879969   \n",
       "3                0.889908         0.898305               0.879969   \n",
       "4                0.889908         0.852713               0.879969   \n",
       "5                0.889908         0.904762               0.879969   \n",
       "6                0.889908         0.902655               0.879969   \n",
       "7                0.889908         0.961832               0.879969   \n",
       "8                0.889908         0.936508               0.879969   \n",
       "9                0.889908         0.814159               0.879969   \n",
       "10               0.889908         0.950000               0.879969   \n",
       "11               0.889908         0.818182               0.879969   \n",
       "12               0.889908         0.867647               0.879969   \n",
       "13               0.889908         0.929134               0.879969   \n",
       "14               0.889908         0.931034               0.879969   \n",
       "15               0.889908         0.945736               0.879969   \n",
       "16               0.889908         0.859375               0.879969   \n",
       "17               0.889908         0.885714               0.879969   \n",
       "18               0.889908         0.842105               0.879969   \n",
       "19               0.889908         0.923077               0.879969   \n",
       "20               0.889908         0.902655               0.879969   \n",
       "\n",
       "    f1-score_5_char  \n",
       "0          0.645833  \n",
       "1          0.927273  \n",
       "2          0.939130  \n",
       "3          0.905983  \n",
       "4          0.859375  \n",
       "5          0.896000  \n",
       "6          0.902655  \n",
       "7          0.961832  \n",
       "8          0.936508  \n",
       "9          0.821429  \n",
       "10         0.950000  \n",
       "11         0.807339  \n",
       "12         0.874074  \n",
       "13         0.920635  \n",
       "14         0.939130  \n",
       "15         0.937500  \n",
       "16         0.838710  \n",
       "17         0.884058  \n",
       "18         0.849558  \n",
       "19         0.913386  \n",
       "20         0.892857  "
      ]
     },
     "execution_count": 38,
     "metadata": {},
     "output_type": "execute_result"
    }
   ],
   "source": [
    "scores"
   ]
  },
  {
   "cell_type": "code",
   "execution_count": 48,
   "metadata": {},
   "outputs": [],
   "source": [
    "scores.to_pickle(\"./models/scores_lrg.pkl\")"
   ]
  },
  {
   "cell_type": "code",
   "execution_count": 46,
   "metadata": {},
   "outputs": [
    {
     "name": "stderr",
     "output_type": "stream",
     "text": [
      "100%|██████████████████████████████████████████████████████████████████████████████████| 21/21 [00:00<00:00, 67.40it/s]\n"
     ]
    },
    {
     "data": {
      "application/vnd.jupyter.widget-view+json": {
       "model_id": "9e7c1b50a0fe4765b68d637faf8c2d85",
       "version_major": 2,
       "version_minor": 0
      },
      "text/plain": [
       "HBox(children=(FloatProgress(value=0.0, max=9.0), HTML(value='')))"
      ]
     },
     "metadata": {},
     "output_type": "display_data"
    },
    {
     "name": "stdout",
     "output_type": "stream",
     "text": [
      "\n"
     ]
    },
    {
     "data": {
      "image/png": "[encoded data removed]",
      "text/plain": [
       "<Figure size 432x288 with 1 Axes>"
      ]
     },
     "metadata": {},
     "output_type": "display_data"
    }
   ],
   "source": [
    "m, max_lenghts = \"lrg\", [3, 5, 7, 11, 17, 19, 21, 27, 29]\n",
    "\n",
    "scores = test_sentence_lenghts(m, max_lenghts)\n",
    "\n",
    "scores.to_pickle(\"./models/lrg_sentence_lenghts.pkl\")\n",
    "\n",
    "# scores = scores.set_index(\"model\")\n",
    "\n",
    "# rows = list(map(lambda r:True if \"f1\" in r.split(\"-\") else False, scores.index))\n",
    "\n",
    "# scores = scores.loc[rows]\n",
    "\n",
    "plt.style.use(\"ggplot\")\n",
    "# plt.figure(figsize=(15, 15))\n",
    "# idxs = [i for i in range(len(scores)) if i%2 != 0]\n",
    "x = scores.loc[:, 'model']\n",
    "x = list(map(lambda r: r.split('_')[-1], x))\n",
    "# x = [x[i] for i in range(len(scores)) if i%2 != 0]\n",
    "y = scores.loc[:, 'score']\n",
    "# y = [y[i] for i in range(len(scores)) if i%2 != 0]\n",
    "\n",
    "plt.plot(x, y, \"ro--\")\n",
    "plt.xlabel(\"Max Sentence Lenght\")\n",
    "plt.ylabel(\"F1 Score\")\n",
    "plt.savefig(\"./models/lrg_sentence_lenghts.png\")\n",
    "plt.show()"
   ]
  },
  {
   "cell_type": "code",
   "execution_count": 140,
   "metadata": {
    "collapsed": true
   },
   "outputs": [
    {
     "data": {
      "text/html": [
       "<div>\n",
       "<style scoped>\n",
       "    .dataframe tbody tr th:only-of-type {\n",
       "        vertical-align: middle;\n",
       "    }\n",
       "\n",
       "    .dataframe tbody tr th {\n",
       "        vertical-align: top;\n",
       "    }\n",
       "\n",
       "    .dataframe thead th {\n",
       "        text-align: right;\n",
       "    }\n",
       "</style>\n",
       "<table border=\"1\" class=\"dataframe\">\n",
       "  <thead>\n",
       "    <tr style=\"text-align: right;\">\n",
       "      <th></th>\n",
       "      <th>model</th>\n",
       "      <th>score</th>\n",
       "    </tr>\n",
       "  </thead>\n",
       "  <tbody>\n",
       "    <tr>\n",
       "      <th>0</th>\n",
       "      <td>f1-score_3_char_3</td>\n",
       "      <td>0.481666</td>\n",
       "    </tr>\n",
       "    <tr>\n",
       "      <th>1</th>\n",
       "      <td>f1-score_4_char_3</td>\n",
       "      <td>0.492417</td>\n",
       "    </tr>\n",
       "    <tr>\n",
       "      <th>2</th>\n",
       "      <td>f1-score_3_char_5</td>\n",
       "      <td>0.583430</td>\n",
       "    </tr>\n",
       "    <tr>\n",
       "      <th>3</th>\n",
       "      <td>f1-score_4_char_5</td>\n",
       "      <td>0.597277</td>\n",
       "    </tr>\n",
       "    <tr>\n",
       "      <th>4</th>\n",
       "      <td>f1-score_3_char_7</td>\n",
       "      <td>0.653156</td>\n",
       "    </tr>\n",
       "    <tr>\n",
       "      <th>5</th>\n",
       "      <td>f1-score_4_char_7</td>\n",
       "      <td>0.667193</td>\n",
       "    </tr>\n",
       "    <tr>\n",
       "      <th>6</th>\n",
       "      <td>f1-score_3_char_11</td>\n",
       "      <td>0.740901</td>\n",
       "    </tr>\n",
       "    <tr>\n",
       "      <th>7</th>\n",
       "      <td>f1-score_4_char_11</td>\n",
       "      <td>0.753042</td>\n",
       "    </tr>\n",
       "    <tr>\n",
       "      <th>8</th>\n",
       "      <td>f1-score_3_char_17</td>\n",
       "      <td>0.815599</td>\n",
       "    </tr>\n",
       "    <tr>\n",
       "      <th>9</th>\n",
       "      <td>f1-score_4_char_17</td>\n",
       "      <td>0.825686</td>\n",
       "    </tr>\n",
       "    <tr>\n",
       "      <th>10</th>\n",
       "      <td>f1-score_3_char_19</td>\n",
       "      <td>0.830778</td>\n",
       "    </tr>\n",
       "    <tr>\n",
       "      <th>11</th>\n",
       "      <td>f1-score_4_char_19</td>\n",
       "      <td>0.839709</td>\n",
       "    </tr>\n",
       "  </tbody>\n",
       "</table>\n",
       "</div>"
      ],
      "text/plain": [
       "                 model     score\n",
       "0    f1-score_3_char_3  0.481666\n",
       "1    f1-score_4_char_3  0.492417\n",
       "2    f1-score_3_char_5  0.583430\n",
       "3    f1-score_4_char_5  0.597277\n",
       "4    f1-score_3_char_7  0.653156\n",
       "5    f1-score_4_char_7  0.667193\n",
       "6   f1-score_3_char_11  0.740901\n",
       "7   f1-score_4_char_11  0.753042\n",
       "8   f1-score_3_char_17  0.815599\n",
       "9   f1-score_4_char_17  0.825686\n",
       "10  f1-score_3_char_19  0.830778\n",
       "11  f1-score_4_char_19  0.839709"
      ]
     },
     "execution_count": 140,
     "metadata": {},
     "output_type": "execute_result"
    }
   ],
   "source": [
    "scores"
   ]
  },
  {
   "cell_type": "code",
   "execution_count": 49,
   "metadata": {},
   "outputs": [
    {
     "name": "stderr",
     "output_type": "stream",
     "text": [
      "C:\\ProgramData\\Anaconda3\\lib\\site-packages\\ipykernel_launcher.py:2: FutureWarning: The signature of `Series.to_csv` was aligned to that of `DataFrame.to_csv`, and argument 'header' will change its default value from False to True: please pass an explicit value to suppress this warning.\n",
      "  \n"
     ]
    }
   ],
   "source": [
    "# scores = pd.read_pickle(\"./models/scores_lrg.pkl\")\n",
    "scores.mean().to_csv(\"./models/lrg_means.csv\")"
   ]
  },
  {
   "cell_type": "code",
   "execution_count": 50,
   "metadata": {},
   "outputs": [
    {
     "data": {
      "image/png": "[encoded data removed]",
      "text/plain": [
       "<Figure size 432x288 with 1 Axes>"
      ]
     },
     "metadata": {},
     "output_type": "display_data"
    }
   ],
   "source": [
    "means = pd.read_csv(\"./models/lrg_means.csv\")\n",
    "\n",
    "means.plot(x=\"n-gram\", y=[\"f1_score\", \"accuracy\"], kind=\"bar\")\n",
    "plt.savefig(\"./models/lrg_ngram_range.png\")"
   ]
  },
  {
   "cell_type": "code",
   "execution_count": 74,
   "metadata": {},
   "outputs": [
    {
     "data": {
      "image/png": "[encoded data removed]",
      "text/plain": [
       "<Figure size 432x270 with 1 Axes>"
      ]
     },
     "metadata": {},
     "output_type": "display_data"
    }
   ],
   "source": [
    "means = pd.read_csv(\"./models/lrg_means.csv\")\n",
    "means = means.set_index('n-gram')\n",
    "means = means.reset_index()\n",
    "\n",
    "render_mpl_table(means.round(3), header_columns=0, col_width=2.0)\n",
    "plt.savefig(\"./models/lrg_ngram_range_table.png\")"
   ]
  },
  {
   "cell_type": "code",
   "execution_count": 53,
   "metadata": {
    "collapsed": true
   },
   "outputs": [
    {
     "ename": "FileNotFoundError",
     "evalue": "[Errno 2] File b'europarl_info.csv' does not exist: b'europarl_info.csv'",
     "output_type": "error",
     "traceback": [
      "\u001b[1;31m---------------------------------------------------------------------------\u001b[0m",
      "\u001b[1;31mFileNotFoundError\u001b[0m                         Traceback (most recent call last)",
      "\u001b[1;32m<ipython-input-53-bb09e09b029c>\u001b[0m in \u001b[0;36m<module>\u001b[1;34m\u001b[0m\n\u001b[1;32m----> 1\u001b[1;33m \u001b[0minfo\u001b[0m \u001b[1;33m=\u001b[0m \u001b[0mpd\u001b[0m\u001b[1;33m.\u001b[0m\u001b[0mread_csv\u001b[0m\u001b[1;33m(\u001b[0m\u001b[1;34m'europarl_info.csv'\u001b[0m\u001b[1;33m)\u001b[0m\u001b[1;33m\u001b[0m\u001b[1;33m\u001b[0m\u001b[0m\n\u001b[0m\u001b[0;32m      2\u001b[0m \u001b[0mrender_mpl_table\u001b[0m\u001b[1;33m(\u001b[0m\u001b[0minfo\u001b[0m\u001b[1;33m,\u001b[0m \u001b[0mheader_columns\u001b[0m\u001b[1;33m=\u001b[0m\u001b[1;36m0\u001b[0m\u001b[1;33m,\u001b[0m \u001b[0mcol_width\u001b[0m\u001b[1;33m=\u001b[0m\u001b[1;36m2.0\u001b[0m\u001b[1;33m)\u001b[0m\u001b[1;33m\u001b[0m\u001b[1;33m\u001b[0m\u001b[0m\n\u001b[0;32m      3\u001b[0m \u001b[0mplt\u001b[0m\u001b[1;33m.\u001b[0m\u001b[0msavefig\u001b[0m\u001b[1;33m(\u001b[0m\u001b[1;34m\"./models/dataset_info.png\"\u001b[0m\u001b[1;33m)\u001b[0m\u001b[1;33m\u001b[0m\u001b[1;33m\u001b[0m\u001b[0m\n",
      "\u001b[1;32mC:\\ProgramData\\Anaconda3\\lib\\site-packages\\pandas\\io\\parsers.py\u001b[0m in \u001b[0;36mparser_f\u001b[1;34m(filepath_or_buffer, sep, delimiter, header, names, index_col, usecols, squeeze, prefix, mangle_dupe_cols, dtype, engine, converters, true_values, false_values, skipinitialspace, skiprows, skipfooter, nrows, na_values, keep_default_na, na_filter, verbose, skip_blank_lines, parse_dates, infer_datetime_format, keep_date_col, date_parser, dayfirst, cache_dates, iterator, chunksize, compression, thousands, decimal, lineterminator, quotechar, quoting, doublequote, escapechar, comment, encoding, dialect, error_bad_lines, warn_bad_lines, delim_whitespace, low_memory, memory_map, float_precision)\u001b[0m\n\u001b[0;32m    683\u001b[0m         )\n\u001b[0;32m    684\u001b[0m \u001b[1;33m\u001b[0m\u001b[0m\n\u001b[1;32m--> 685\u001b[1;33m         \u001b[1;32mreturn\u001b[0m \u001b[0m_read\u001b[0m\u001b[1;33m(\u001b[0m\u001b[0mfilepath_or_buffer\u001b[0m\u001b[1;33m,\u001b[0m \u001b[0mkwds\u001b[0m\u001b[1;33m)\u001b[0m\u001b[1;33m\u001b[0m\u001b[1;33m\u001b[0m\u001b[0m\n\u001b[0m\u001b[0;32m    686\u001b[0m \u001b[1;33m\u001b[0m\u001b[0m\n\u001b[0;32m    687\u001b[0m     \u001b[0mparser_f\u001b[0m\u001b[1;33m.\u001b[0m\u001b[0m__name__\u001b[0m \u001b[1;33m=\u001b[0m \u001b[0mname\u001b[0m\u001b[1;33m\u001b[0m\u001b[1;33m\u001b[0m\u001b[0m\n",
      "\u001b[1;32mC:\\ProgramData\\Anaconda3\\lib\\site-packages\\pandas\\io\\parsers.py\u001b[0m in \u001b[0;36m_read\u001b[1;34m(filepath_or_buffer, kwds)\u001b[0m\n\u001b[0;32m    455\u001b[0m \u001b[1;33m\u001b[0m\u001b[0m\n\u001b[0;32m    456\u001b[0m     \u001b[1;31m# Create the parser.\u001b[0m\u001b[1;33m\u001b[0m\u001b[1;33m\u001b[0m\u001b[1;33m\u001b[0m\u001b[0m\n\u001b[1;32m--> 457\u001b[1;33m     \u001b[0mparser\u001b[0m \u001b[1;33m=\u001b[0m \u001b[0mTextFileReader\u001b[0m\u001b[1;33m(\u001b[0m\u001b[0mfp_or_buf\u001b[0m\u001b[1;33m,\u001b[0m \u001b[1;33m**\u001b[0m\u001b[0mkwds\u001b[0m\u001b[1;33m)\u001b[0m\u001b[1;33m\u001b[0m\u001b[1;33m\u001b[0m\u001b[0m\n\u001b[0m\u001b[0;32m    458\u001b[0m \u001b[1;33m\u001b[0m\u001b[0m\n\u001b[0;32m    459\u001b[0m     \u001b[1;32mif\u001b[0m \u001b[0mchunksize\u001b[0m \u001b[1;32mor\u001b[0m \u001b[0miterator\u001b[0m\u001b[1;33m:\u001b[0m\u001b[1;33m\u001b[0m\u001b[1;33m\u001b[0m\u001b[0m\n",
      "\u001b[1;32mC:\\ProgramData\\Anaconda3\\lib\\site-packages\\pandas\\io\\parsers.py\u001b[0m in \u001b[0;36m__init__\u001b[1;34m(self, f, engine, **kwds)\u001b[0m\n\u001b[0;32m    893\u001b[0m             \u001b[0mself\u001b[0m\u001b[1;33m.\u001b[0m\u001b[0moptions\u001b[0m\u001b[1;33m[\u001b[0m\u001b[1;34m\"has_index_names\"\u001b[0m\u001b[1;33m]\u001b[0m \u001b[1;33m=\u001b[0m \u001b[0mkwds\u001b[0m\u001b[1;33m[\u001b[0m\u001b[1;34m\"has_index_names\"\u001b[0m\u001b[1;33m]\u001b[0m\u001b[1;33m\u001b[0m\u001b[1;33m\u001b[0m\u001b[0m\n\u001b[0;32m    894\u001b[0m \u001b[1;33m\u001b[0m\u001b[0m\n\u001b[1;32m--> 895\u001b[1;33m         \u001b[0mself\u001b[0m\u001b[1;33m.\u001b[0m\u001b[0m_make_engine\u001b[0m\u001b[1;33m(\u001b[0m\u001b[0mself\u001b[0m\u001b[1;33m.\u001b[0m\u001b[0mengine\u001b[0m\u001b[1;33m)\u001b[0m\u001b[1;33m\u001b[0m\u001b[1;33m\u001b[0m\u001b[0m\n\u001b[0m\u001b[0;32m    896\u001b[0m \u001b[1;33m\u001b[0m\u001b[0m\n\u001b[0;32m    897\u001b[0m     \u001b[1;32mdef\u001b[0m \u001b[0mclose\u001b[0m\u001b[1;33m(\u001b[0m\u001b[0mself\u001b[0m\u001b[1;33m)\u001b[0m\u001b[1;33m:\u001b[0m\u001b[1;33m\u001b[0m\u001b[1;33m\u001b[0m\u001b[0m\n",
      "\u001b[1;32mC:\\ProgramData\\Anaconda3\\lib\\site-packages\\pandas\\io\\parsers.py\u001b[0m in \u001b[0;36m_make_engine\u001b[1;34m(self, engine)\u001b[0m\n\u001b[0;32m   1133\u001b[0m     \u001b[1;32mdef\u001b[0m \u001b[0m_make_engine\u001b[0m\u001b[1;33m(\u001b[0m\u001b[0mself\u001b[0m\u001b[1;33m,\u001b[0m \u001b[0mengine\u001b[0m\u001b[1;33m=\u001b[0m\u001b[1;34m\"c\"\u001b[0m\u001b[1;33m)\u001b[0m\u001b[1;33m:\u001b[0m\u001b[1;33m\u001b[0m\u001b[1;33m\u001b[0m\u001b[0m\n\u001b[0;32m   1134\u001b[0m         \u001b[1;32mif\u001b[0m \u001b[0mengine\u001b[0m \u001b[1;33m==\u001b[0m \u001b[1;34m\"c\"\u001b[0m\u001b[1;33m:\u001b[0m\u001b[1;33m\u001b[0m\u001b[1;33m\u001b[0m\u001b[0m\n\u001b[1;32m-> 1135\u001b[1;33m             \u001b[0mself\u001b[0m\u001b[1;33m.\u001b[0m\u001b[0m_engine\u001b[0m \u001b[1;33m=\u001b[0m \u001b[0mCParserWrapper\u001b[0m\u001b[1;33m(\u001b[0m\u001b[0mself\u001b[0m\u001b[1;33m.\u001b[0m\u001b[0mf\u001b[0m\u001b[1;33m,\u001b[0m \u001b[1;33m**\u001b[0m\u001b[0mself\u001b[0m\u001b[1;33m.\u001b[0m\u001b[0moptions\u001b[0m\u001b[1;33m)\u001b[0m\u001b[1;33m\u001b[0m\u001b[1;33m\u001b[0m\u001b[0m\n\u001b[0m\u001b[0;32m   1136\u001b[0m         \u001b[1;32melse\u001b[0m\u001b[1;33m:\u001b[0m\u001b[1;33m\u001b[0m\u001b[1;33m\u001b[0m\u001b[0m\n\u001b[0;32m   1137\u001b[0m             \u001b[1;32mif\u001b[0m \u001b[0mengine\u001b[0m \u001b[1;33m==\u001b[0m \u001b[1;34m\"python\"\u001b[0m\u001b[1;33m:\u001b[0m\u001b[1;33m\u001b[0m\u001b[1;33m\u001b[0m\u001b[0m\n",
      "\u001b[1;32mC:\\ProgramData\\Anaconda3\\lib\\site-packages\\pandas\\io\\parsers.py\u001b[0m in \u001b[0;36m__init__\u001b[1;34m(self, src, **kwds)\u001b[0m\n\u001b[0;32m   1915\u001b[0m         \u001b[0mkwds\u001b[0m\u001b[1;33m[\u001b[0m\u001b[1;34m\"usecols\"\u001b[0m\u001b[1;33m]\u001b[0m \u001b[1;33m=\u001b[0m \u001b[0mself\u001b[0m\u001b[1;33m.\u001b[0m\u001b[0musecols\u001b[0m\u001b[1;33m\u001b[0m\u001b[1;33m\u001b[0m\u001b[0m\n\u001b[0;32m   1916\u001b[0m \u001b[1;33m\u001b[0m\u001b[0m\n\u001b[1;32m-> 1917\u001b[1;33m         \u001b[0mself\u001b[0m\u001b[1;33m.\u001b[0m\u001b[0m_reader\u001b[0m \u001b[1;33m=\u001b[0m \u001b[0mparsers\u001b[0m\u001b[1;33m.\u001b[0m\u001b[0mTextReader\u001b[0m\u001b[1;33m(\u001b[0m\u001b[0msrc\u001b[0m\u001b[1;33m,\u001b[0m \u001b[1;33m**\u001b[0m\u001b[0mkwds\u001b[0m\u001b[1;33m)\u001b[0m\u001b[1;33m\u001b[0m\u001b[1;33m\u001b[0m\u001b[0m\n\u001b[0m\u001b[0;32m   1918\u001b[0m         \u001b[0mself\u001b[0m\u001b[1;33m.\u001b[0m\u001b[0munnamed_cols\u001b[0m \u001b[1;33m=\u001b[0m \u001b[0mself\u001b[0m\u001b[1;33m.\u001b[0m\u001b[0m_reader\u001b[0m\u001b[1;33m.\u001b[0m\u001b[0munnamed_cols\u001b[0m\u001b[1;33m\u001b[0m\u001b[1;33m\u001b[0m\u001b[0m\n\u001b[0;32m   1919\u001b[0m \u001b[1;33m\u001b[0m\u001b[0m\n",
      "\u001b[1;32mpandas/_libs/parsers.pyx\u001b[0m in \u001b[0;36mpandas._libs.parsers.TextReader.__cinit__\u001b[1;34m()\u001b[0m\n",
      "\u001b[1;32mpandas/_libs/parsers.pyx\u001b[0m in \u001b[0;36mpandas._libs.parsers.TextReader._setup_parser_source\u001b[1;34m()\u001b[0m\n",
      "\u001b[1;31mFileNotFoundError\u001b[0m: [Errno 2] File b'europarl_info.csv' does not exist: b'europarl_info.csv'"
     ]
    }
   ],
   "source": [
    "info = pd.read_csv('europarl_info.csv')\n",
    "render_mpl_table(info, header_columns=0, col_width=2.0)\n",
    "plt.savefig(\"./models/dataset_info.png\")"
   ]
  },
  {
   "cell_type": "markdown",
   "metadata": {},
   "source": [
    "# Test NBaiyes"
   ]
  },
  {
   "cell_type": "code",
   "execution_count": 57,
   "metadata": {},
   "outputs": [
    {
     "name": "stderr",
     "output_type": "stream",
     "text": [
      "100%|██████████████████████████████████████████████████████████████████████████████████| 21/21 [00:00<00:00, 72.79it/s]\n"
     ]
    },
    {
     "name": "stdout",
     "output_type": "stream",
     "text": [
      "means are accuracy-score_1_char    0.831637\n",
      "f1-score_1_char          0.832642\n",
      "accuracy-score_2_char    0.917776\n",
      "f1-score_2_char          0.917483\n",
      "accuracy-score_3_char    0.942052\n",
      "f1-score_3_char          0.941814\n",
      "accuracy-score_4_char    0.949099\n",
      "f1-score_4_char          0.948834\n",
      "accuracy-score_5_char    0.950666\n",
      "f1-score_5_char          0.950530\n",
      "accuracy-score_6_char    0.949099\n",
      "f1-score_6_char          0.949004\n",
      "accuracy-score_7_char    0.948316\n",
      "f1-score_7_char          0.948361\n",
      "dtype: float64\n"
     ]
    }
   ],
   "source": [
    "m, test_params = \"nb\", {\"char\":[(1, 1), (1, 2), (1, 3), (1, 4), (1, 5), (1, 6), (1, 7)]}# \n",
    "scores = test_model(m, test_params)"
   ]
  },
  {
   "cell_type": "code",
   "execution_count": 58,
   "metadata": {},
   "outputs": [],
   "source": [
    "scores.to_pickle(\"./models/scores_nb.pkl\")"
   ]
  },
  {
   "cell_type": "code",
   "execution_count": 59,
   "metadata": {},
   "outputs": [],
   "source": [
    "# scores = pd.read_pickle(\"./models/scores_nb.pkl\")"
   ]
  },
  {
   "cell_type": "code",
   "execution_count": 60,
   "metadata": {},
   "outputs": [
    {
     "name": "stderr",
     "output_type": "stream",
     "text": [
      "C:\\ProgramData\\Anaconda3\\lib\\site-packages\\ipykernel_launcher.py:1: FutureWarning: The signature of `Series.to_csv` was aligned to that of `DataFrame.to_csv`, and argument 'header' will change its default value from False to True: please pass an explicit value to suppress this warning.\n",
      "  \"\"\"Entry point for launching an IPython kernel.\n"
     ]
    }
   ],
   "source": [
    "scores.mean().to_csv(\"./models/nb_means.csv\")"
   ]
  },
  {
   "cell_type": "code",
   "execution_count": 61,
   "metadata": {},
   "outputs": [
    {
     "data": {
      "image/png": "[encoded data removed]",
      "text/plain": [
       "<Figure size 432x288 with 1 Axes>"
      ]
     },
     "metadata": {},
     "output_type": "display_data"
    }
   ],
   "source": [
    "means = pd.read_csv(\"./models/nb_means.csv\")\n",
    "\n",
    "means.plot(x=\"n-gram\", y=[\"f1_score\", \"accuracy\"], kind=\"bar\")\n",
    "plt.savefig(\"./models/nb_ngram_range.png\")"
   ]
  },
  {
   "cell_type": "code",
   "execution_count": 63,
   "metadata": {},
   "outputs": [
    {
     "data": {
      "image/png": "[encoded data removed]",
      "text/plain": [
       "<Figure size 432x360 with 1 Axes>"
      ]
     },
     "metadata": {},
     "output_type": "display_data"
    }
   ],
   "source": [
    "# means = pd.read_csv(\"./models/nb_means.csv\")\n",
    "means = means.set_index(\"n-gram\")\n",
    "means = means.reset_index()\n",
    "render_mpl_table(means.round(3), header_columns=0, col_width=2.0)\n",
    "plt.savefig(\"./models/nb_ngram_range_table.png\")"
   ]
  },
  {
   "cell_type": "code",
   "execution_count": 65,
   "metadata": {},
   "outputs": [
    {
     "name": "stderr",
     "output_type": "stream",
     "text": [
      "100%|██████████████████████████████████████████████████████████████████████████████████| 21/21 [00:00<00:00, 71.72it/s]\n"
     ]
    },
    {
     "data": {
      "application/vnd.jupyter.widget-view+json": {
       "model_id": "ff5179a242c24367981ef728cc92a502",
       "version_major": 2,
       "version_minor": 0
      },
      "text/plain": [
       "HBox(children=(FloatProgress(value=0.0, max=9.0), HTML(value='')))"
      ]
     },
     "metadata": {},
     "output_type": "display_data"
    },
    {
     "name": "stdout",
     "output_type": "stream",
     "text": [
      "\n"
     ]
    },
    {
     "data": {
      "image/png": "[encoded data removed]",
      "text/plain": [
       "<Figure size 432x288 with 1 Axes>"
      ]
     },
     "metadata": {},
     "output_type": "display_data"
    }
   ],
   "source": [
    "m, max_lenghts = \"nb\", [3, 5, 7, 11, 17, 19, 21, 27, 29]\n",
    "\n",
    "scores = test_sentence_lenghts(m, max_lenghts)\n",
    "\n",
    "scores.to_pickle(\"./models/nb_sentence_lenghts.pkl\")\n",
    "\n",
    "plt.style.use(\"ggplot\")\n",
    "# plt.figure(figsize=(15, 15))\n",
    "# idxs = [i for i in range(len(scores)) if i%2 != 0]\n",
    "x = scores.loc[:, 'model']\n",
    "x = list(map(lambda r: r.split('_')[-1], x))\n",
    "# x = [x[i] for i in range(len(scores)) if i%2 != 0]\n",
    "y = scores.loc[:, 'score']\n",
    "# y = [y[i] for i in range(len(scores)) if i%2 != 0]\n",
    "\n",
    "plt.plot(x, y, \"ro--\")\n",
    "plt.xlabel(\"Max Sentence Lenght\")\n",
    "plt.ylabel(\"F1 Score\")\n",
    "plt.savefig(\"./models/nb_sentence_lenghts.png\")\n",
    "plt.show()"
   ]
  },
  {
   "cell_type": "markdown",
   "metadata": {},
   "source": [
    "# Test SVM"
   ]
  },
  {
   "cell_type": "code",
   "execution_count": 84,
   "metadata": {},
   "outputs": [],
   "source": [
    "# SVC??"
   ]
  },
  {
   "cell_type": "code",
   "execution_count": 106,
   "metadata": {},
   "outputs": [],
   "source": [
    "m, test_params = \"svm\", {\"char\":[(1, 1), (1, 2), (1, 3), (1, 4), (1, 5)]}# \n",
    "scores = test_model(m, test_params)"
   ]
  },
  {
   "cell_type": "code",
   "execution_count": 69,
   "metadata": {},
   "outputs": [],
   "source": [
    "scores.to_pickle(\"./models/scores_svm.pkl\")"
   ]
  },
  {
   "cell_type": "code",
   "execution_count": 70,
   "metadata": {},
   "outputs": [
    {
     "name": "stderr",
     "output_type": "stream",
     "text": [
      "C:\\ProgramData\\Anaconda3\\lib\\site-packages\\ipykernel_launcher.py:3: FutureWarning: The signature of `Series.to_csv` was aligned to that of `DataFrame.to_csv`, and argument 'header' will change its default value from False to True: please pass an explicit value to suppress this warning.\n",
      "  This is separate from the ipykernel package so we can avoid doing imports until\n"
     ]
    }
   ],
   "source": [
    "# scores = pd.read_pickle(\"./models/scores_svm.pkl\")\n",
    "\n",
    "scores.mean().to_csv(\"./models/svm_means.csv\")"
   ]
  },
  {
   "cell_type": "code",
   "execution_count": 72,
   "metadata": {},
   "outputs": [
    {
     "data": {
      "image/png": "[encoded data removed]",
      "text/plain": [
       "<Figure size 432x288 with 1 Axes>"
      ]
     },
     "metadata": {},
     "output_type": "display_data"
    }
   ],
   "source": [
    "plt.style.use('ggplot')\n",
    "means = pd.read_csv(\"./models/svm_means.csv\")\n",
    "\n",
    "means.plot(x=\"n-gram\", y=[\"f1_score\", \"accuracy\"], kind=\"bar\")\n",
    "plt.savefig(\"./models/svm_ngram_range.png\")"
   ]
  },
  {
   "cell_type": "code",
   "execution_count": null,
   "metadata": {},
   "outputs": [],
   "source": []
  },
  {
   "cell_type": "code",
   "execution_count": 107,
   "metadata": {},
   "outputs": [
    {
     "name": "stderr",
     "output_type": "stream",
     "text": [
      "100%|██████████████████████████████████████████████████████████████████████████████████| 21/21 [00:00<00:00, 46.96it/s]\n"
     ]
    },
    {
     "data": {
      "application/vnd.jupyter.widget-view+json": {
       "model_id": "3378e6f6ea494022aeb0c1f90dc8afd6",
       "version_major": 2,
       "version_minor": 0
      },
      "text/plain": [
       "HBox(children=(FloatProgress(value=0.0, max=9.0), HTML(value='')))"
      ]
     },
     "metadata": {},
     "output_type": "display_data"
    },
    {
     "name": "stdout",
     "output_type": "stream",
     "text": [
      "\n"
     ]
    },
    {
     "data": {
      "image/png": "[encoded data removed]",
      "text/plain": [
       "<Figure size 432x288 with 1 Axes>"
      ]
     },
     "metadata": {},
     "output_type": "display_data"
    }
   ],
   "source": [
    "m, max_lenghts = \"svm\", [3, 5, 7, 11, 17, 19, 21, 27, 29]\n",
    "\n",
    "scores = test_sentence_lenghts(m, max_lenghts)\n",
    "\n",
    "scores.to_pickle(\"./models/svm_sentence_lenghts.pkl\")\n",
    "\n",
    "plt.style.use(\"ggplot\")\n",
    "# plt.figure(figsize=(15, 15))\n",
    "# idxs = [i for i in range(len(scores)) if i%2 != 0]\n",
    "x = scores.loc[:, 'model']\n",
    "x = list(map(lambda r: r.split('_')[-1], x))\n",
    "# x = [x[i] for i in range(len(scores)) if i%2 != 0]\n",
    "y = scores.loc[:, 'score']\n",
    "# y = [y[i] for i in range(len(scores)) if i%2 != 0]\n",
    "\n",
    "plt.plot(x, y, \"ro--\")\n",
    "plt.xlabel(\"Max Sentence Lenght\")\n",
    "plt.ylabel(\"F1 Score\")\n",
    "plt.savefig(\"./models/svm_sentence_lenghts.png\")\n",
    "plt.show()"
   ]
  },
  {
   "cell_type": "code",
   "execution_count": 73,
   "metadata": {},
   "outputs": [
    {
     "data": {
      "image/png": "[encoded data removed]",
      "text/plain": [
       "<Figure size 432x270 with 1 Axes>"
      ]
     },
     "metadata": {},
     "output_type": "display_data"
    }
   ],
   "source": [
    "means = pd.read_csv(\"./models/svm_means.csv\")\n",
    "means = means.set_index(\"n-gram\")\n",
    "means = means.reset_index()\n",
    "render_mpl_table(means.round(3), header_columns=0, col_width=2.0)\n",
    "plt.savefig(\"./models/svm_ngram_range_table.png\")"
   ]
  }
 ],
 "metadata": {
  "kernelspec": {
   "display_name": "Python 3",
   "language": "python",
   "name": "python3"
  },
  "language_info": {
   "codemirror_mode": {
    "name": "ipython",
    "version": 3
   },
   "file_extension": ".py",
   "mimetype": "text/x-python",
   "name": "python",
   "nbconvert_exporter": "python",
   "pygments_lexer": "ipython3",
   "version": "3.7.5"
  }
 },
 "nbformat": 4,
 "nbformat_minor": 2
}
